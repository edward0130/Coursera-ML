{
 "cells": [
  {
   "cell_type": "markdown",
   "metadata": {},
   "source": [
    "# Fire up GraphLab Create"
   ]
  },
  {
   "cell_type": "code",
   "execution_count": 1,
   "metadata": {
    "collapsed": true
   },
   "outputs": [],
   "source": [
    "import graphlab"
   ]
  },
  {
   "cell_type": "markdown",
   "metadata": {},
   "source": [
    "# Load in house sales data"
   ]
  },
  {
   "cell_type": "markdown",
   "metadata": {},
   "source": [
    "For this notebook, we use a subset of the King County housing dataset created by randomly selecting 40% of the houses in the full dataset."
   ]
  },
  {
   "cell_type": "code",
   "execution_count": 2,
   "metadata": {
    "collapsed": false
   },
   "outputs": [
    {
     "name": "stdout",
     "output_type": "stream",
     "text": [
      "This non-commercial license of GraphLab Create for academic use is assigned to edward30@163.com and will expire on September 27, 2017.\n"
     ]
    },
    {
     "name": "stderr",
     "output_type": "stream",
     "text": [
      "[INFO] graphlab.cython.cy_server: GraphLab Create v2.1 started. Logging: C:\\Users\\Edward\\AppData\\Local\\Temp\\graphlab_server_1480039687.log.0\n"
     ]
    }
   ],
   "source": [
    "sales = graphlab.SFrame('kc_house_data_small.gl/')"
   ]
  },
  {
   "cell_type": "markdown",
   "metadata": {},
   "source": [
    "# Import useful functions from previous notebooks"
   ]
  },
  {
   "cell_type": "markdown",
   "metadata": {},
   "source": [
    "To efficiently compute pairwise distances among data points, we will convert the SFrame into a 2D Numpy array. First import the numpy library and then copy and paste `get_numpy_data()` from the second notebook of Week 2."
   ]
  },
  {
   "cell_type": "code",
   "execution_count": 3,
   "metadata": {
    "collapsed": true
   },
   "outputs": [],
   "source": [
    "import numpy as np # note this allows us to refer to numpy as np instead"
   ]
  },
  {
   "cell_type": "code",
   "execution_count": 4,
   "metadata": {
    "collapsed": true
   },
   "outputs": [],
   "source": [
    "def get_numpy_data(data_sframe, features, output):\n",
    "    data_sframe['constant'] = 1 # this is how you add a constant column to an SFrame\n",
    "    # add the column 'constant' to the front of the features list so that we can extract it along with the others:\n",
    "    features = ['constant'] + features # this is how you combine two lists\n",
    "    # select the columns of data_SFrame given by the features list into the SFrame features_sframe (now including constant):\n",
    "    features_sframe = data_sframe[features]\n",
    "    print features_sframe\n",
    "    # the following line will convert the features_SFrame into a numpy matrix:\n",
    "    feature_matrix = features_sframe.to_numpy()\n",
    "    print feature_matrix\n",
    "    # assign the column of data_sframe associated with the output to the SArray output_sarray\n",
    "    output_sarray = data_sframe[output]\n",
    "    # the following will convert the SArray into a numpy array by first converting it to a list\n",
    "    output_array = output_sarray.to_numpy()\n",
    "    return(feature_matrix, output_array)"
   ]
  },
  {
   "cell_type": "markdown",
   "metadata": {},
   "source": [
    "We will also need the `normalize_features()` function from Week 5 that normalizes all feature columns to unit norm. Paste this function below."
   ]
  },
  {
   "cell_type": "code",
   "execution_count": 5,
   "metadata": {
    "collapsed": true
   },
   "outputs": [],
   "source": [
    "def normalize_features(feature_matrix):\n",
    "    norms = np.linalg.norm(feature_matrix, axis=0)\n",
    "    normalized_features = feature_matrix / norms\n",
    "    return (normalized_features, norms)"
   ]
  },
  {
   "cell_type": "markdown",
   "metadata": {},
   "source": [
    "# Split data into training, test, and validation sets"
   ]
  },
  {
   "cell_type": "code",
   "execution_count": 6,
   "metadata": {
    "collapsed": false
   },
   "outputs": [],
   "source": [
    "(train_and_validation, test) = sales.random_split(.8, seed=1) # initial train/test split\n",
    "(train, validation) = train_and_validation.random_split(.8, seed=1) # split training set into training and validation sets"
   ]
  },
  {
   "cell_type": "markdown",
   "metadata": {},
   "source": [
    "# Extract features and normalize"
   ]
  },
  {
   "cell_type": "markdown",
   "metadata": {},
   "source": [
    "Using all of the numerical inputs listed in `feature_list`, transform the training, test, and validation SFrames into Numpy arrays:"
   ]
  },
  {
   "cell_type": "code",
   "execution_count": 7,
   "metadata": {
    "collapsed": false
   },
   "outputs": [
    {
     "name": "stdout",
     "output_type": "stream",
     "text": [
      "+----------+----------+-----------+-------------+----------+--------+------------+\n",
      "| constant | bedrooms | bathrooms | sqft_living | sqft_lot | floors | waterfront |\n",
      "+----------+----------+-----------+-------------+----------+--------+------------+\n",
      "|    1     |   3.0    |    1.0    |    1180.0   |   5650   |  1.0   |     0      |\n",
      "|    1     |   3.0    |    2.25   |    2570.0   |   7242   |  2.0   |     0      |\n",
      "|    1     |   2.0    |    1.0    |    770.0    |  10000   |  1.0   |     0      |\n",
      "|    1     |   4.0    |    3.0    |    1960.0   |   5000   |  1.0   |     0      |\n",
      "|    1     |   3.0    |    2.0    |    1680.0   |   8080   |  1.0   |     0      |\n",
      "|    1     |   3.0    |    1.5    |    1060.0   |   9711   |  1.0   |     0      |\n",
      "|    1     |   3.0    |    1.0    |    1780.0   |   7470   |  1.0   |     0      |\n",
      "|    1     |   3.0    |    2.5    |    3560.0   |   9796   |  1.0   |     0      |\n",
      "|    1     |   3.0    |    1.75   |    2450.0   |   2691   |  2.0   |     0      |\n",
      "|    1     |   3.0    |    1.0    |    1400.0   |   1581   |  1.5   |     0      |\n",
      "+----------+----------+-----------+-------------+----------+--------+------------+\n",
      "+------+-----------+-------+------------+---------------+----------+--------------+\n",
      "| view | condition | grade | sqft_above | sqft_basement | yr_built | yr_renovated |\n",
      "+------+-----------+-------+------------+---------------+----------+--------------+\n",
      "|  0   |     3     |   7   |    1180    |       0       |   1955   |      0       |\n",
      "|  0   |     3     |   7   |    2170    |      400      |   1951   |     1991     |\n",
      "|  0   |     3     |   6   |    770     |       0       |   1933   |      0       |\n",
      "|  0   |     5     |   7   |    1050    |      910      |   1965   |      0       |\n",
      "|  0   |     3     |   8   |    1680    |       0       |   1987   |      0       |\n",
      "|  0   |     3     |   7   |    1060    |       0       |   1963   |      0       |\n",
      "|  0   |     3     |   7   |    1050    |      730      |   1960   |      0       |\n",
      "|  0   |     3     |   8   |    1860    |      1700     |   1965   |      0       |\n",
      "|  0   |     3     |   8   |    1750    |      700      |   1915   |      0       |\n",
      "|  0   |     5     |   8   |    1400    |       0       |   1909   |      0       |\n",
      "+------+-----------+-------+------------+---------------+----------+--------------+\n",
      "+-------------+---------------+---------------+------------+\n",
      "|     lat     |      long     | sqft_living15 | sqft_lot15 |\n",
      "+-------------+---------------+---------------+------------+\n",
      "| 47.51123398 | -122.25677536 |     1340.0    |   5650.0   |\n",
      "| 47.72102274 |  -122.3188624 |     1690.0    |   7639.0   |\n",
      "| 47.73792661 | -122.23319601 |     2720.0    |   8062.0   |\n",
      "|   47.52082  | -122.39318505 |     1360.0    |   5000.0   |\n",
      "| 47.61681228 | -122.04490059 |     1800.0    |   7503.0   |\n",
      "| 47.40949984 | -122.31457273 |     1650.0    |   9711.0   |\n",
      "| 47.51229381 | -122.33659507 |     1780.0    |   8113.0   |\n",
      "| 47.60065993 | -122.14529566 |     2210.0    |   8925.0   |\n",
      "| 47.63855772 | -122.35985573 |     1760.0    |   3573.0   |\n",
      "| 47.62209564 |  -122.3143388 |     1860.0    |   3861.0   |\n",
      "+-------------+---------------+---------------+------------+\n",
      "[5527 rows x 18 columns]\n",
      "Note: Only the head of the SFrame is printed.\n",
      "You can use print_rows(num_rows=m, num_columns=n) to print more rows and columns.\n",
      "[[  1.00000000e+00   3.00000000e+00   1.00000000e+00 ...,  -1.22256775e+02\n",
      "    1.34000000e+03   5.65000000e+03]\n",
      " [  1.00000000e+00   3.00000000e+00   2.25000000e+00 ...,  -1.22318862e+02\n",
      "    1.69000000e+03   7.63900000e+03]\n",
      " [  1.00000000e+00   2.00000000e+00   1.00000000e+00 ...,  -1.22233196e+02\n",
      "    2.72000000e+03   8.06200000e+03]\n",
      " ..., \n",
      " [  1.00000000e+00   3.00000000e+00   2.50000000e+00 ...,  -1.21881214e+02\n",
      "    2.27000000e+03   5.73100000e+03]\n",
      " [  1.00000000e+00   4.00000000e+00   2.50000000e+00 ...,  -1.22167422e+02\n",
      "    2.52000000e+03   6.02300000e+03]\n",
      " [  1.00000000e+00   3.00000000e+00   2.50000000e+00 ...,  -1.22346105e+02\n",
      "    1.53000000e+03   1.50900000e+03]]\n",
      "+----------+----------+-----------+-------------+----------+--------+------------+\n",
      "| constant | bedrooms | bathrooms | sqft_living | sqft_lot | floors | waterfront |\n",
      "+----------+----------+-----------+-------------+----------+--------+------------+\n",
      "|    1     |   4.0    |    3.0    |    2950.0   |   5000   |  2.0   |     0      |\n",
      "|    1     |   4.0    |    1.0    |    1600.0   |   4300   |  1.5   |     0      |\n",
      "|    1     |   3.0    |    1.75   |    1520.0   |   6380   |  1.0   |     0      |\n",
      "|    1     |   3.0    |    1.0    |    1090.0   |   3000   |  1.5   |     0      |\n",
      "|    1     |   4.0    |    2.5    |    2290.0   |  13416   |  2.0   |     0      |\n",
      "|    1     |   4.0    |    2.5    |    2720.0   |  11049   |  2.0   |     0      |\n",
      "|    1     |   4.0    |    2.5    |    2240.0   |   4648   |  2.0   |     0      |\n",
      "|    1     |   2.0    |    1.0    |    2020.0   |   6720   |  1.0   |     0      |\n",
      "|    1     |   5.0    |    2.25   |    2660.0   |   8400   |  1.5   |     0      |\n",
      "|    1     |   3.0    |    3.5    |    1590.0   |   1102   |  3.0   |     0      |\n",
      "+----------+----------+-----------+-------------+----------+--------+------------+\n",
      "+------+-----------+-------+------------+---------------+----------+--------------+\n",
      "| view | condition | grade | sqft_above | sqft_basement | yr_built | yr_renovated |\n",
      "+------+-----------+-------+------------+---------------+----------+--------------+\n",
      "|  3   |     3     |   9   |    1980    |      970      |   1979   |      0       |\n",
      "|  0   |     4     |   7   |    1600    |       0       |   1916   |      0       |\n",
      "|  0   |     3     |   7   |    790     |      730      |   1948   |      0       |\n",
      "|  0   |     4     |   8   |    1090    |       0       |   1929   |      0       |\n",
      "|  0   |     4     |   9   |    2290    |       0       |   1981   |      0       |\n",
      "|  0   |     3     |   10  |    2720    |       0       |   1989   |      0       |\n",
      "|  0   |     3     |   7   |    2240    |       0       |   2005   |      0       |\n",
      "|  0   |     3     |   7   |    1010    |      1010     |   1948   |      0       |\n",
      "|  0   |     5     |   7   |    2660    |       0       |   1961   |      0       |\n",
      "|  0   |     3     |   8   |    1590    |       0       |   2010   |      0       |\n",
      "+------+-----------+-------+------------+---------------+----------+--------------+\n",
      "+-------------+---------------+---------------+------------+\n",
      "|     lat     |      long     | sqft_living15 | sqft_lot15 |\n",
      "+-------------+---------------+---------------+------------+\n",
      "| 47.57136955 | -122.37541218 |     2140.0    |   4000.0   |\n",
      "| 47.66478645 | -122.34281613 |     1610.0    |   4300.0   |\n",
      "| 47.69499723 | -122.30354713 |     1520.0    |   6235.0   |\n",
      "| 47.68889559 |  -122.3752359 |     1570.0    |   5080.0   |\n",
      "| 47.61936265 | -122.15116797 |     2680.0    |  13685.0   |\n",
      "| 47.58148717 | -122.19160369 |     2750.0    |  11049.0   |\n",
      "|  47.337843  |  -122.2566985 |     2221.0    |   4557.0   |\n",
      "| 47.54744903 | -122.29061565 |     1720.0    |   6720.0   |\n",
      "| 47.29094504 | -122.18878047 |     1590.0    |   8165.0   |\n",
      "| 47.68235582 | -122.34691744 |     1620.0    |   3166.0   |\n",
      "+-------------+---------------+---------------+------------+\n",
      "[1741 rows x 18 columns]\n",
      "Note: Only the head of the SFrame is printed.\n",
      "You can use print_rows(num_rows=m, num_columns=n) to print more rows and columns.\n",
      "[[  1.00000000e+00   4.00000000e+00   3.00000000e+00 ...,  -1.22375412e+02\n",
      "    2.14000000e+03   4.00000000e+03]\n",
      " [  1.00000000e+00   4.00000000e+00   1.00000000e+00 ...,  -1.22342816e+02\n",
      "    1.61000000e+03   4.30000000e+03]\n",
      " [  1.00000000e+00   3.00000000e+00   1.75000000e+00 ...,  -1.22303547e+02\n",
      "    1.52000000e+03   6.23500000e+03]\n",
      " ..., \n",
      " [  1.00000000e+00   2.00000000e+00   2.25000000e+00 ...,  -1.22072988e+02\n",
      "    1.24000000e+03   7.50000000e+02]\n",
      " [  1.00000000e+00   4.00000000e+00   3.50000000e+00 ...,  -1.22191918e+02\n",
      "    2.85000000e+03   5.70800000e+03]\n",
      " [  1.00000000e+00   3.00000000e+00   1.75000000e+00 ...,  -1.22002146e+02\n",
      "    1.32000000e+03   1.13030000e+04]]\n",
      "+----------+----------+-----------+-------------+----------+--------+------------+\n",
      "| constant | bedrooms | bathrooms | sqft_living | sqft_lot | floors | waterfront |\n",
      "+----------+----------+-----------+-------------+----------+--------+------------+\n",
      "|    1     |   4.0    |    1.75   |    1620.0   |   4980   |  1.0   |     0      |\n",
      "|    1     |   5.0    |    2.5    |    2270.0   |   6300   |  2.0   |     0      |\n",
      "|    1     |   4.0    |    1.75   |    2330.0   |   5000   |  1.5   |     0      |\n",
      "|    1     |   3.0    |    1.0    |    1570.0   |   2280   |  2.0   |     0      |\n",
      "|    1     |   4.0    |    3.0    |    1850.0   |   9976   |  2.0   |     0      |\n",
      "|    1     |   4.0    |    2.5    |    3300.0   |  10250   |  1.0   |     0      |\n",
      "|    1     |   4.0    |    1.5    |    1160.0   |   6400   |  1.0   |     0      |\n",
      "|    1     |   3.0    |    2.5    |    2340.0   |  10005   |  1.0   |     0      |\n",
      "|    1     |   4.0    |    2.5    |    2310.0   |   9624   |  2.0   |     0      |\n",
      "|    1     |   3.0    |    1.75   |    1320.0   |  17390   |  1.0   |     0      |\n",
      "+----------+----------+-----------+-------------+----------+--------+------------+\n",
      "+------+-----------+-------+------------+---------------+----------+--------------+\n",
      "| view | condition | grade | sqft_above | sqft_basement | yr_built | yr_renovated |\n",
      "+------+-----------+-------+------------+---------------+----------+--------------+\n",
      "|  0   |     4     |   7   |    860     |      760      |   1947   |      0       |\n",
      "|  0   |     3     |   8   |    2270    |       0       |   1995   |      0       |\n",
      "|  0   |     4     |   7   |    1510    |      820      |   1929   |      0       |\n",
      "|  0   |     3     |   7   |    1570    |       0       |   1922   |      0       |\n",
      "|  0   |     3     |   8   |    1850    |       0       |   1991   |      0       |\n",
      "|  0   |     3     |   7   |    2390    |      910      |   1946   |     1991     |\n",
      "|  0   |     4     |   7   |    1160    |       0       |   1975   |      0       |\n",
      "|  0   |     4     |   8   |    1460    |      880      |   1978   |      0       |\n",
      "|  0   |     3     |   8   |    2310    |       0       |   1984   |      0       |\n",
      "|  0   |     4     |   7   |    1320    |       0       |   1956   |      0       |\n",
      "+------+-----------+-------+------------+---------------+----------+--------------+\n",
      "+-------------+---------------+---------------+------------+\n",
      "|     lat     |      long     | sqft_living15 | sqft_lot15 |\n",
      "+-------------+---------------+---------------+------------+\n",
      "| 47.70254623 | -122.34092912 |     1400.0    |   4980.0   |\n",
      "| 47.32658071 | -122.16892624 |     2240.0    |   7005.0   |\n",
      "| 47.68228235 | -122.36760203 |     1460.0    |   5000.0   |\n",
      "| 47.64125801 | -122.36410253 |     1580.0    |   2640.0   |\n",
      "| 47.50591927 |  -122.148962  |     2270.0    |   8542.0   |\n",
      "| 47.58733195 |  -122.2487651 |     1950.0    |   6045.0   |\n",
      "| 47.30357767 | -122.37782086 |     1160.0    |   6400.0   |\n",
      "|  47.4430551 | -122.13256621 |     2250.0    |   8162.0   |\n",
      "| 47.53855942 | -122.05274086 |     1940.0    |   9636.0   |\n",
      "| 47.32571377 | -122.29561969 |     1550.0    |  19265.0   |\n",
      "+-------------+---------------+---------------+------------+\n",
      "[1435 rows x 18 columns]\n",
      "Note: Only the head of the SFrame is printed.\n",
      "You can use print_rows(num_rows=m, num_columns=n) to print more rows and columns.\n",
      "[[  1.00000000e+00   4.00000000e+00   1.75000000e+00 ...,  -1.22340929e+02\n",
      "    1.40000000e+03   4.98000000e+03]\n",
      " [  1.00000000e+00   5.00000000e+00   2.50000000e+00 ...,  -1.22168926e+02\n",
      "    2.24000000e+03   7.00500000e+03]\n",
      " [  1.00000000e+00   4.00000000e+00   1.75000000e+00 ...,  -1.22367602e+02\n",
      "    1.46000000e+03   5.00000000e+03]\n",
      " ..., \n",
      " [  1.00000000e+00   2.00000000e+00   2.50000000e+00 ...,  -1.22387353e+02\n",
      "    9.80000000e+02   1.02300000e+03]\n",
      " [  1.00000000e+00   2.00000000e+00   1.50000000e+00 ...,  -1.22295091e+02\n",
      "    1.13000000e+03   1.15900000e+03]\n",
      " [  1.00000000e+00   3.00000000e+00   2.00000000e+00 ...,  -1.22288021e+02\n",
      "    1.40000000e+03   1.23000000e+03]]\n"
     ]
    }
   ],
   "source": [
    "feature_list = ['bedrooms',  \n",
    "                'bathrooms',  \n",
    "                'sqft_living',  \n",
    "                'sqft_lot',  \n",
    "                'floors',\n",
    "                'waterfront',  \n",
    "                'view',  \n",
    "                'condition',  \n",
    "                'grade',  \n",
    "                'sqft_above',  \n",
    "                'sqft_basement',\n",
    "                'yr_built',  \n",
    "                'yr_renovated',  \n",
    "                'lat',  \n",
    "                'long',  \n",
    "                'sqft_living15',  \n",
    "                'sqft_lot15']\n",
    "features_train, output_train = get_numpy_data(train, feature_list, 'price')\n",
    "features_test, output_test = get_numpy_data(test, feature_list, 'price')\n",
    "features_valid, output_valid = get_numpy_data(validation, feature_list, 'price')"
   ]
  },
  {
   "cell_type": "markdown",
   "metadata": {},
   "source": [
    "In computing distances, it is crucial to normalize features. Otherwise, for example, the `sqft_living` feature (typically on the order of thousands) would exert a much larger influence on distance than the `bedrooms` feature (typically on the order of ones). We divide each column of the training feature matrix by its 2-norm, so that the transformed column has unit norm.\n",
    "\n",
    "IMPORTANT: Make sure to store the norms of the features in the training set. The features in the test and validation sets must be divided by these same norms, so that the training, test, and validation sets are normalized consistently."
   ]
  },
  {
   "cell_type": "code",
   "execution_count": 8,
   "metadata": {
    "collapsed": true
   },
   "outputs": [],
   "source": [
    "features_train, norms = normalize_features(features_train) # normalize training set features (columns)\n",
    "features_test = features_test / norms # normalize test set by training set norms\n",
    "features_valid = features_valid / norms # normalize validation set by training set norms"
   ]
  },
  {
   "cell_type": "markdown",
   "metadata": {},
   "source": [
    "# Compute a single distance"
   ]
  },
  {
   "cell_type": "markdown",
   "metadata": {},
   "source": [
    "To start, let's just explore computing the \"distance\" between two given houses.  We will take our **query house** to be the first house of the test set and look at the distance between this house and the 10th house of the training set.\n",
    "\n",
    "To see the features associated with the query house, print the first row (index 0) of the test feature matrix. You should get an 18-dimensional vector whose components are between 0 and 1."
   ]
  },
  {
   "cell_type": "code",
   "execution_count": 9,
   "metadata": {
    "collapsed": false
   },
   "outputs": [
    {
     "name": "stdout",
     "output_type": "stream",
     "text": [
      "[ 0.01345102  0.01551285  0.01807473  0.01759212  0.00160518  0.017059    0.\n",
      "  0.05102365  0.0116321   0.01564352  0.01362084  0.02481682  0.01350306\n",
      "  0.          0.01345386 -0.01346927  0.01375926  0.0016225 ]\n"
     ]
    }
   ],
   "source": [
    "print features_test[0]"
   ]
  },
  {
   "cell_type": "markdown",
   "metadata": {},
   "source": [
    "Now print the 10th row (index 9) of the training feature matrix. Again, you get an 18-dimensional vector with components between 0 and 1."
   ]
  },
  {
   "cell_type": "code",
   "execution_count": 10,
   "metadata": {
    "collapsed": false
   },
   "outputs": [
    {
     "name": "stdout",
     "output_type": "stream",
     "text": [
      "[ 0.01345102  0.01163464  0.00602491  0.0083488   0.00050756  0.01279425\n",
      "  0.          0.          0.01938684  0.01390535  0.0096309   0.\n",
      "  0.01302544  0.          0.01346821 -0.01346254  0.01195898  0.00156612]\n"
     ]
    }
   ],
   "source": [
    "print features_train[9]"
   ]
  },
  {
   "cell_type": "markdown",
   "metadata": {},
   "source": [
    "***QUIZ QUESTION ***\n",
    "\n",
    "What is the Euclidean distance between the query house and the 10th house of the training set? \n",
    "\n",
    "Note: Do not use the `np.linalg.norm` function; use `np.sqrt`, `np.sum`, and the power operator (`**`) instead. The latter approach is more easily adapted to computing multiple distances at once."
   ]
  },
  {
   "cell_type": "code",
   "execution_count": 11,
   "metadata": {
    "collapsed": false
   },
   "outputs": [
    {
     "name": "stdout",
     "output_type": "stream",
     "text": [
      "0.0597235937167\n"
     ]
    }
   ],
   "source": [
    "print np.sqrt(np.sum((features_test[0]- features_train[9])**2))"
   ]
  },
  {
   "cell_type": "markdown",
   "metadata": {},
   "source": [
    "# Compute multiple distances"
   ]
  },
  {
   "cell_type": "markdown",
   "metadata": {},
   "source": [
    "Of course, to do nearest neighbor regression, we need to compute the distance between our query house and *all* houses in the training set.  \n",
    "\n",
    "To visualize this nearest-neighbor search, let's first compute the distance from our query house (`features_test[0]`) to the first 10 houses of the training set (`features_train[0:10]`) and then search for the nearest neighbor within this small set of houses.  Through restricting ourselves to a small set of houses to begin with, we can visually scan the list of 10 distances to verify that our code for finding the nearest neighbor is working.\n",
    "\n",
    "Write a loop to compute the Euclidean distance from the query house to each of the first 10 houses in the training set."
   ]
  },
  {
   "cell_type": "code",
   "execution_count": 12,
   "metadata": {
    "collapsed": false
   },
   "outputs": [
    {
     "name": "stdout",
     "output_type": "stream",
     "text": [
      "0.060274709173\n",
      "0.0854688114883\n",
      "0.0614994643712\n",
      "0.0534027397882\n",
      "0.0584448406394\n",
      "0.0598792151018\n",
      "0.0546314049726\n",
      "0.0554310832416\n",
      "0.052383627841\n",
      "0.0597235937167\n"
     ]
    }
   ],
   "source": [
    "for i in range(0,10):\n",
    "    print np.sqrt(np.sum((features_test[0]- features_train[i])**2))"
   ]
  },
  {
   "cell_type": "markdown",
   "metadata": {},
   "source": [
    "*** QUIZ QUESTION ***\n",
    "\n",
    "Among the first 10 training houses, which house is the closest to the query house?"
   ]
  },
  {
   "cell_type": "code",
   "execution_count": 13,
   "metadata": {
    "collapsed": false
   },
   "outputs": [
    {
     "data": {
      "text/plain": [
       "8"
      ]
     },
     "execution_count": 13,
     "metadata": {},
     "output_type": "execute_result"
    }
   ],
   "source": [
    "8"
   ]
  },
  {
   "cell_type": "markdown",
   "metadata": {},
   "source": [
    "It is computationally inefficient to loop over computing distances to all houses in our training dataset. Fortunately, many of the Numpy functions can be **vectorized**, applying the same operation over multiple values or vectors.  We now walk through this process."
   ]
  },
  {
   "cell_type": "markdown",
   "metadata": {},
   "source": [
    "Consider the following loop that computes the element-wise difference between the features of the query house (`features_test[0]`) and the first 3 training houses (`features_train[0:3]`):"
   ]
  },
  {
   "cell_type": "code",
   "execution_count": 14,
   "metadata": {
    "collapsed": false,
    "scrolled": false
   },
   "outputs": [
    {
     "name": "stdout",
     "output_type": "stream",
     "text": [
      "[  0.00000000e+00  -3.87821276e-03  -1.20498190e-02  -1.05552733e-02\n",
      "   2.08673616e-04  -8.52950206e-03   0.00000000e+00  -5.10236549e-02\n",
      "   0.00000000e+00  -3.47633726e-03  -5.50336860e-03  -2.48168183e-02\n",
      "  -1.63756198e-04   0.00000000e+00  -1.70072004e-05   1.30577772e-05\n",
      "  -5.14364795e-03   6.69281453e-04]\n",
      "[  0.00000000e+00  -3.87821276e-03  -4.51868214e-03  -2.26610387e-03\n",
      "   7.19763456e-04   0.00000000e+00   0.00000000e+00  -5.10236549e-02\n",
      "   0.00000000e+00  -3.47633726e-03   1.30705004e-03  -1.45830788e-02\n",
      "  -1.91048898e-04   6.65082271e-02   4.23240653e-05   6.22415897e-06\n",
      "  -2.89330197e-03   1.47606982e-03]\n",
      "[  0.00000000e+00  -7.75642553e-03  -1.20498190e-02  -1.30002801e-02\n",
      "   1.60518166e-03  -8.52950206e-03   0.00000000e+00  -5.10236549e-02\n",
      "   0.00000000e+00  -5.21450589e-03  -8.32384500e-03  -2.48168183e-02\n",
      "  -3.13866046e-04   0.00000000e+00   4.71047219e-05   1.56530415e-05\n",
      "   3.72914476e-03   1.64764925e-03]\n"
     ]
    }
   ],
   "source": [
    "for i in xrange(3):\n",
    "    print features_train[i]-features_test[0]\n",
    "    # should print 3 vectors of length 18"
   ]
  },
  {
   "cell_type": "markdown",
   "metadata": {},
   "source": [
    "The subtraction operator (`-`) in Numpy is vectorized as follows:"
   ]
  },
  {
   "cell_type": "code",
   "execution_count": 15,
   "metadata": {
    "collapsed": false
   },
   "outputs": [
    {
     "name": "stdout",
     "output_type": "stream",
     "text": [
      "[[  0.00000000e+00  -3.87821276e-03  -1.20498190e-02  -1.05552733e-02\n",
      "    2.08673616e-04  -8.52950206e-03   0.00000000e+00  -5.10236549e-02\n",
      "    0.00000000e+00  -3.47633726e-03  -5.50336860e-03  -2.48168183e-02\n",
      "   -1.63756198e-04   0.00000000e+00  -1.70072004e-05   1.30577772e-05\n",
      "   -5.14364795e-03   6.69281453e-04]\n",
      " [  0.00000000e+00  -3.87821276e-03  -4.51868214e-03  -2.26610387e-03\n",
      "    7.19763456e-04   0.00000000e+00   0.00000000e+00  -5.10236549e-02\n",
      "    0.00000000e+00  -3.47633726e-03   1.30705004e-03  -1.45830788e-02\n",
      "   -1.91048898e-04   6.65082271e-02   4.23240653e-05   6.22415897e-06\n",
      "   -2.89330197e-03   1.47606982e-03]\n",
      " [  0.00000000e+00  -7.75642553e-03  -1.20498190e-02  -1.30002801e-02\n",
      "    1.60518166e-03  -8.52950206e-03   0.00000000e+00  -5.10236549e-02\n",
      "    0.00000000e+00  -5.21450589e-03  -8.32384500e-03  -2.48168183e-02\n",
      "   -3.13866046e-04   0.00000000e+00   4.71047219e-05   1.56530415e-05\n",
      "    3.72914476e-03   1.64764925e-03]]\n"
     ]
    }
   ],
   "source": [
    "print features_train[0:3] - features_test[0]"
   ]
  },
  {
   "cell_type": "markdown",
   "metadata": {},
   "source": [
    "Note that the output of this vectorized operation is identical to that of the loop above, which can be verified below:"
   ]
  },
  {
   "cell_type": "code",
   "execution_count": 16,
   "metadata": {
    "collapsed": false
   },
   "outputs": [
    {
     "name": "stdout",
     "output_type": "stream",
     "text": [
      "[ 0.  0.  0.  0.  0.  0.  0.  0.  0.  0.  0.  0.  0.  0.  0.  0.  0.  0.]\n",
      "[ 0.  0.  0.  0.  0.  0.  0.  0.  0.  0.  0.  0.  0.  0.  0.  0.  0.  0.]\n",
      "[ 0.  0.  0.  0.  0.  0.  0.  0.  0.  0.  0.  0.  0.  0.  0.  0.  0.  0.]\n"
     ]
    }
   ],
   "source": [
    "# verify that vectorization works\n",
    "results = features_train[0:3] - features_test[0]\n",
    "print results[0] - (features_train[0]-features_test[0])\n",
    "# should print all 0's if results[0] == (features_train[0]-features_test[0])\n",
    "print results[1] - (features_train[1]-features_test[0])\n",
    "# should print all 0's if results[1] == (features_train[1]-features_test[0])\n",
    "print results[2] - (features_train[2]-features_test[0])\n",
    "# should print all 0's if results[2] == (features_train[2]-features_test[0])"
   ]
  },
  {
   "cell_type": "markdown",
   "metadata": {},
   "source": [
    "Aside: it is a good idea to write tests like this cell whenever you are vectorizing a complicated operation."
   ]
  },
  {
   "cell_type": "markdown",
   "metadata": {},
   "source": [
    "# Perform 1-nearest neighbor regression\n",
    "\n",
    "Now that we have the element-wise differences, it is not too hard to compute the Euclidean distances between our query house and all of the training houses. First, write a single-line expression to define a variable `diff` such that `diff[i]` gives the element-wise difference between the features of the query house and the `i`-th training house."
   ]
  },
  {
   "cell_type": "code",
   "execution_count": 17,
   "metadata": {
    "collapsed": false
   },
   "outputs": [],
   "source": [
    "diff = features_train[0:] - features_test[0]"
   ]
  },
  {
   "cell_type": "markdown",
   "metadata": {},
   "source": [
    "To test the code above, run the following cell, which should output a value -0.0934339605842:"
   ]
  },
  {
   "cell_type": "code",
   "execution_count": 18,
   "metadata": {
    "collapsed": false
   },
   "outputs": [
    {
     "name": "stdout",
     "output_type": "stream",
     "text": [
      "-0.0934339605842\n"
     ]
    }
   ],
   "source": [
    "print diff[-1].sum() # sum of the feature differences between the query and last training house\n",
    "# should print -0.0934339605842"
   ]
  },
  {
   "cell_type": "markdown",
   "metadata": {},
   "source": [
    "The next step in computing the Euclidean distances is to take these feature-by-feature differences in `diff`, square each, and take the sum over feature indices.  That is, compute the sum of square feature differences for each training house (row in `diff`).\n",
    "\n",
    "By default, `np.sum` sums up everything in the matrix and returns a single number. To instead sum only over a row or column, we need to specifiy the `axis` parameter described in the `np.sum` [documentation](http://docs.scipy.org/doc/numpy-1.10.1/reference/generated/numpy.sum.html). In particular, `axis=1` computes the sum across each row.\n",
    "\n",
    "Below, we compute this sum of square feature differences for all training houses and verify that the output for the 16th house in the training set is equivalent to having examined only the 16th row of `diff` and computing the sum of squares on that row alone."
   ]
  },
  {
   "cell_type": "code",
   "execution_count": 19,
   "metadata": {
    "collapsed": false
   },
   "outputs": [
    {
     "name": "stdout",
     "output_type": "stream",
     "text": [
      "0.00330705902879\n",
      "0.00330705902879\n"
     ]
    }
   ],
   "source": [
    "print np.sum(diff**2, axis=1)[15] # take sum of squares across each row, and print the 16th sum\n",
    "print np.sum(diff[15]**2) # print the sum of squares for the 16th row -- should be same as above"
   ]
  },
  {
   "cell_type": "markdown",
   "metadata": {},
   "source": [
    "With this result in mind, write a single-line expression to compute the Euclidean distances between the query house and all houses in the training set. Assign the result to a variable `distances`.\n",
    "\n",
    "**Hint**: Do not forget to take the square root of the sum of squares."
   ]
  },
  {
   "cell_type": "code",
   "execution_count": 20,
   "metadata": {
    "collapsed": false
   },
   "outputs": [],
   "source": [
    "distances = np.sqrt(np.sum(diff**2, axis=1))"
   ]
  },
  {
   "cell_type": "markdown",
   "metadata": {},
   "source": [
    "To test the code above, run the following cell, which should output a value 0.0237082324496:"
   ]
  },
  {
   "cell_type": "code",
   "execution_count": 21,
   "metadata": {
    "collapsed": false
   },
   "outputs": [
    {
     "name": "stdout",
     "output_type": "stream",
     "text": [
      "0.0237082324496\n"
     ]
    }
   ],
   "source": [
    "print distances[100] # Euclidean distance between the query house and the 101th training house\n",
    "# should print 0.0237082324496"
   ]
  },
  {
   "cell_type": "markdown",
   "metadata": {},
   "source": [
    "Now you are ready to write a function that computes the distances from a query house to all training houses. The function should take two parameters: (i) the matrix of training features and (ii) the single feature vector associated with the query."
   ]
  },
  {
   "cell_type": "code",
   "execution_count": 22,
   "metadata": {
    "collapsed": false
   },
   "outputs": [
    {
     "data": {
      "text/plain": [
       "0.0038768105827755501"
      ]
     },
     "execution_count": 22,
     "metadata": {},
     "output_type": "execute_result"
    }
   ],
   "source": [
    "min(distances)"
   ]
  },
  {
   "cell_type": "code",
   "execution_count": 23,
   "metadata": {
    "collapsed": true
   },
   "outputs": [],
   "source": [
    "def compute_distances(features_instances, features_query):\n",
    "    diff = features_instances[0:] - features_query\n",
    "    distances = np.sqrt(np.sum(diff**2, axis=1))\n",
    "    return distances"
   ]
  },
  {
   "cell_type": "markdown",
   "metadata": {
    "collapsed": false
   },
   "source": [
    "*** QUIZ QUESTIONS ***\n",
    "\n",
    "1.  Take the query house to be third house of the test set (`features_test[2]`).  What is the index of the house in the training set that is closest to this query house?\n",
    "2.  What is the predicted value of the query house based on 1-nearest neighbor regression?"
   ]
  },
  {
   "cell_type": "code",
   "execution_count": 24,
   "metadata": {
    "collapsed": false
   },
   "outputs": [],
   "source": [
    "distances = compute_distances(features_train,features_test[2])"
   ]
  },
  {
   "cell_type": "code",
   "execution_count": 25,
   "metadata": {
    "collapsed": false
   },
   "outputs": [
    {
     "data": {
      "text/plain": [
       "0.0028604952675079271"
      ]
     },
     "execution_count": 25,
     "metadata": {},
     "output_type": "execute_result"
    }
   ],
   "source": [
    "min(distances)"
   ]
  },
  {
   "cell_type": "code",
   "execution_count": 26,
   "metadata": {
    "collapsed": false
   },
   "outputs": [
    {
     "name": "stdout",
     "output_type": "stream",
     "text": [
      "382\n"
     ]
    }
   ],
   "source": [
    "for i in range(0,len(distances)):\n",
    "    if distances[i] == 0.0028604952675079271:\n",
    "        print i"
   ]
  },
  {
   "cell_type": "code",
   "execution_count": 41,
   "metadata": {
    "collapsed": false,
    "scrolled": true
   },
   "outputs": [
    {
     "data": {
      "text/plain": [
       "{'bathrooms': 1.5,\n",
       " 'bedrooms': 3.0,\n",
       " 'condition': 3L,\n",
       " 'constant': 1L,\n",
       " 'date': datetime.datetime(2015, 3, 12, 0, 0, tzinfo=GMT +0.0),\n",
       " 'floors': 1.0,\n",
       " 'grade': 7L,\n",
       " 'id': '4324200060',\n",
       " 'lat': 47.42161059,\n",
       " 'long': -122.17388886,\n",
       " 'price': 249000L,\n",
       " 'sqft_above': 1010L,\n",
       " 'sqft_basement': 690L,\n",
       " 'sqft_living': 1700.0,\n",
       " 'sqft_living15': 1440.0,\n",
       " 'sqft_lot': 8247L,\n",
       " 'sqft_lot15': 8400.0,\n",
       " 'view': 0L,\n",
       " 'waterfront': 0L,\n",
       " 'yr_built': 1970L,\n",
       " 'yr_renovated': 0L,\n",
       " 'zipcode': '98031'}"
      ]
     },
     "execution_count": 41,
     "metadata": {},
     "output_type": "execute_result"
    }
   ],
   "source": [
    "train[382]"
   ]
  },
  {
   "cell_type": "code",
   "execution_count": 28,
   "metadata": {
    "collapsed": false
   },
   "outputs": [
    {
     "name": "stdout",
     "output_type": "stream",
     "text": [
      "[ 382 1149 4087 ..., 1107 5226 2486]\n"
     ]
    }
   ],
   "source": [
    "print np.argsort(distances)"
   ]
  },
  {
   "cell_type": "markdown",
   "metadata": {},
   "source": [
    "# Perform k-nearest neighbor regression"
   ]
  },
  {
   "cell_type": "markdown",
   "metadata": {},
   "source": [
    "For k-nearest neighbors, we need to find a *set* of k houses in the training set closest to a given query house. We then make predictions based on these k nearest neighbors."
   ]
  },
  {
   "cell_type": "markdown",
   "metadata": {},
   "source": [
    "## Fetch k-nearest neighbors\n",
    "\n",
    "Using the functions above, implement a function that takes in\n",
    " * the value of k;\n",
    " * the feature matrix for the training houses; and\n",
    " * the feature vector of the query house\n",
    " \n",
    "and returns the indices of the k closest training houses. For instance, with 2-nearest neighbor, a return value of [5, 10] would indicate that the 6th and 11th training houses are closest to the query house.\n",
    "\n",
    "**Hint**: Look at the [documentation for `np.argsort`](http://docs.scipy.org/doc/numpy/reference/generated/numpy.argsort.html)."
   ]
  },
  {
   "cell_type": "code",
   "execution_count": 29,
   "metadata": {
    "collapsed": true
   },
   "outputs": [],
   "source": [
    "def k_nearest_neighbors(k, feature_train, features_query):\n",
    "    diff = feature_train[0:] - features_query\n",
    "    distances = np.sqrt(np.sum(diff**2, axis=1))\n",
    "    neighbors = np.argsort(distances)\n",
    "    return neighbors[0:k]"
   ]
  },
  {
   "cell_type": "markdown",
   "metadata": {},
   "source": [
    "*** QUIZ QUESTION ***\n",
    "\n",
    "Take the query house to be third house of the test set (`features_test[2]`).  What are the indices of the 4 training houses closest to the query house?"
   ]
  },
  {
   "cell_type": "code",
   "execution_count": 30,
   "metadata": {
    "collapsed": false
   },
   "outputs": [
    {
     "name": "stdout",
     "output_type": "stream",
     "text": [
      "[ 382 1149 4087 3142]\n"
     ]
    }
   ],
   "source": [
    "neighbors = k_nearest_neighbors(4, features_train,features_test[2])\n",
    "print neighbors"
   ]
  },
  {
   "cell_type": "code",
   "execution_count": 31,
   "metadata": {
    "collapsed": false
   },
   "outputs": [
    {
     "name": "stdout",
     "output_type": "stream",
     "text": [
      "599900\n"
     ]
    }
   ],
   "source": [
    "print output_test[381]"
   ]
  },
  {
   "cell_type": "markdown",
   "metadata": {},
   "source": [
    "## Make a single prediction by averaging k nearest neighbor outputs"
   ]
  },
  {
   "cell_type": "markdown",
   "metadata": {},
   "source": [
    "Now that we know how to find the k-nearest neighbors, write a function that predicts the value of a given query house. **For simplicity, take the average of the prices of the k nearest neighbors in the training set**. The function should have the following parameters:\n",
    " * the value of k;\n",
    " * the feature matrix for the training houses;\n",
    " * the output values (prices) of the training houses; and\n",
    " * the feature vector of the query house, whose price we are predicting.\n",
    " \n",
    "The function should return a predicted value of the query house.\n",
    "\n",
    "**Hint**: You can extract multiple items from a Numpy array using a list of indices. For instance, `output_train[[6, 10]]` returns the prices of the 7th and 11th training houses."
   ]
  },
  {
   "cell_type": "code",
   "execution_count": 32,
   "metadata": {
    "collapsed": true
   },
   "outputs": [],
   "source": [
    "def predict_output_of_query(k, features_train, output_train, features_query):\n",
    "    diff = features_train[0:] - features_query\n",
    "    distances = np.sqrt(np.sum(diff**2, axis=1))\n",
    "    neighbors = np.argsort(distances)\n",
    "    prediction = output_train[neighbors[0:k]]\n",
    "    return prediction"
   ]
  },
  {
   "cell_type": "markdown",
   "metadata": {},
   "source": [
    "*** QUIZ QUESTION ***\n",
    "\n",
    "Again taking the query house to be third house of the test set (`features_test[2]`), predict the value of the query house using k-nearest neighbors with `k=4` and the simple averaging method described and implemented above."
   ]
  },
  {
   "cell_type": "code",
   "execution_count": 33,
   "metadata": {
    "collapsed": false
   },
   "outputs": [
    {
     "name": "stdout",
     "output_type": "stream",
     "text": [
      "[249000 477000 499950 430000]\n"
     ]
    }
   ],
   "source": [
    "prediction = predict_output_of_query(4, features_train, output_train, features_test[2])\n",
    "print prediction"
   ]
  },
  {
   "cell_type": "code",
   "execution_count": 34,
   "metadata": {
    "collapsed": false
   },
   "outputs": [
    {
     "name": "stdout",
     "output_type": "stream",
     "text": [
      "413987.5\n"
     ]
    }
   ],
   "source": [
    "print np.average(prediction)"
   ]
  },
  {
   "cell_type": "markdown",
   "metadata": {},
   "source": [
    "Compare this predicted value using 4-nearest neighbors to the predicted value using 1-nearest neighbor computed earlier."
   ]
  },
  {
   "cell_type": "markdown",
   "metadata": {},
   "source": [
    "## Make multiple predictions"
   ]
  },
  {
   "cell_type": "markdown",
   "metadata": {},
   "source": [
    "Write a function to predict the value of *each and every* house in a query set. (The query set can be any subset of the dataset, be it the test set or validation set.) The idea is to have a loop where we take each house in the query set as the query house and make a prediction for that specific house. The new function should take the following parameters:\n",
    " * the value of k;\n",
    " * the feature matrix for the training houses;\n",
    " * the output values (prices) of the training houses; and\n",
    " * the feature matrix for the query set.\n",
    " \n",
    "The function should return a set of predicted values, one for each house in the query set.\n",
    "\n",
    "**Hint**: To get the number of houses in the query set, use the `.shape` field of the query features matrix. See [the documentation](http://docs.scipy.org/doc/numpy-1.10.1/reference/generated/numpy.ndarray.shape.html)."
   ]
  },
  {
   "cell_type": "code",
   "execution_count": 35,
   "metadata": {
    "collapsed": false
   },
   "outputs": [],
   "source": [
    "def predict_output(k, features_train, output_train, features_query):\n",
    "    predictions = []\n",
    "    for i in range(0,len(features_query)):\n",
    "        diff = features_train[0:] - features_query[i]\n",
    "        distances = np.sqrt(np.sum(diff**2, axis=1))\n",
    "        neighbors = np.argsort(distances)\n",
    "        prediction = output_train[neighbors[0:k]]\n",
    "        predictions.insert(i,np.average(prediction))\n",
    "    return predictions"
   ]
  },
  {
   "cell_type": "markdown",
   "metadata": {},
   "source": [
    "*** QUIZ QUESTION ***\n",
    "\n",
    "Make predictions for the first 10 houses in the test set using k-nearest neighbors with `k=10`. \n",
    "\n",
    "1. What is the index of the house in this query set that has the lowest predicted value? \n",
    "2. What is the predicted value of this house?"
   ]
  },
  {
   "cell_type": "code",
   "execution_count": 36,
   "metadata": {
    "collapsed": false
   },
   "outputs": [
    {
     "name": "stdout",
     "output_type": "stream",
     "text": [
      "[881300.0, 431860.0, 460595.0, 430200.0, 766750.0, 667420.0, 350032.0, 512800.70000000001, 484000.0]\n"
     ]
    }
   ],
   "source": [
    "predictions = predict_output(10, features_train, output_train, features_test[0:9])\n",
    "print predictions"
   ]
  },
  {
   "cell_type": "code",
   "execution_count": 37,
   "metadata": {
    "collapsed": false
   },
   "outputs": [
    {
     "name": "stdout",
     "output_type": "stream",
     "text": [
      "553884.188889\n"
     ]
    }
   ],
   "source": [
    "print np.average(predictions)"
   ]
  },
  {
   "cell_type": "code",
   "execution_count": 38,
   "metadata": {
    "collapsed": false
   },
   "outputs": [
    {
     "name": "stdout",
     "output_type": "stream",
     "text": [
      "350032.0\n"
     ]
    }
   ],
   "source": [
    "print min(predictions)"
   ]
  },
  {
   "cell_type": "markdown",
   "metadata": {},
   "source": [
    "## Choosing the best value of k using a validation set"
   ]
  },
  {
   "cell_type": "markdown",
   "metadata": {},
   "source": [
    "There remains a question of choosing the value of k to use in making predictions. Here, we use a validation set to choose this value. Write a loop that does the following:\n",
    "\n",
    "* For `k` in [1, 2, ..., 15]:\n",
    "    * Makes predictions for each house in the VALIDATION set using the k-nearest neighbors from the TRAINING set.\n",
    "    * Computes the RSS for these predictions on the VALIDATION set\n",
    "    * Stores the RSS computed above in `rss_all`\n",
    "* Report which `k` produced the lowest RSS on VALIDATION set."
   ]
  },
  {
   "cell_type": "markdown",
   "metadata": {},
   "source": [
    "(Depending on your computing environment, this computation may take 10-15 minutes.)"
   ]
  },
  {
   "cell_type": "code",
   "execution_count": 39,
   "metadata": {
    "collapsed": false
   },
   "outputs": [
    {
     "name": "stdout",
     "output_type": "stream",
     "text": [
      "[105453830251561.0, 83445073504025.5, 72692096019202.562, 71946721652091.687, 69846517419718.602, 68899544353180.836, 68341973450051.094, 67361678735491.5, 68372727958976.094, 69335048668556.742, 69523855215598.828, 69049969587246.172, 70011254508263.687, 70908698869034.344, 71106928385945.156]\n"
     ]
    }
   ],
   "source": [
    "rss_all=[]\n",
    "for k in range(1,16):\n",
    "    predictions = predict_output(k, features_train, output_train, features_valid)\n",
    "    predictions = np.array(predictions)\n",
    "    rss_all.insert(k-1,np.sum((predictions - output_valid)**2))\n",
    "print rss_all"
   ]
  },
  {
   "cell_type": "code",
   "execution_count": 40,
   "metadata": {
    "collapsed": false
   },
   "outputs": [
    {
     "data": {
      "text/plain": [
       "67361678735491.5"
      ]
     },
     "execution_count": 40,
     "metadata": {},
     "output_type": "execute_result"
    }
   ],
   "source": [
    "min(rss_all)"
   ]
  },
  {
   "cell_type": "code",
   "execution_count": 38,
   "metadata": {
    "collapsed": false
   },
   "outputs": [
    {
     "name": "stdout",
     "output_type": "stream",
     "text": [
      "[385000 285000 687500 ..., 329000 362500 429000]\n"
     ]
    }
   ],
   "source": [
    "print output_valid"
   ]
  },
  {
   "cell_type": "code",
   "execution_count": 40,
   "metadata": {
    "collapsed": false
   },
   "outputs": [
    {
     "name": "stdout",
     "output_type": "stream",
     "text": [
      "[450000.0, 502500.0, 771000.0, 464000.0, 250000.0, 1325000.0, 618000.0, 325000.0, 390000.0, 310650.0, 330000.0, 650000.0, 272000.0, 670000.0, 995000.0, 215000.0, 1000000.0, 424500.0, 400000.0, 536000.0, 261500.0, 376000.0, 490000.0, 415000.0, 348000.0, 500000.0, 775000.0, 589000.0, 1205000.0, 515000.0, 1735000.0, 1400000.0, 530000.0, 374000.0, 334000.0, 325000.0, 237000.0, 715000.0, 420000.0, 307000.0, 955000.0, 590000.0, 180000.0, 397500.0, 432000.0, 450000.0, 320000.0, 530000.0, 340000.0, 655000.0, 276000.0, 322500.0, 205000.0, 375000.0, 625250.0, 478000.0, 479000.0, 310000.0, 376000.0, 593000.0, 306000.0, 405000.0, 825000.0, 260000.0, 695000.0, 265000.0, 299500.0, 222000.0, 335000.0, 350000.0, 1340000.0, 329000.0, 655000.0, 475000.0, 225000.0, 250275.0, 490000.0, 365000.0, 1400000.0, 549000.0, 288000.0, 980000.0, 499000.0, 359950.0, 282500.0, 280000.0, 440000.0, 525000.0, 281000.0, 285000.0, 299000.0, 696000.0, 250000.0, 330000.0, 721000.0, 560000.0, 235000.0, 360000.0, 217450.0, 425000.0, 240000.0, 338900.0, 720000.0, 689000.0, 624000.0, 1100000.0, 245000.0, 370000.0, 355000.0, 930000.0, 154000.0, 334000.0, 385000.0, 690000.0, 340000.0, 445000.0, 895000.0, 545000.0, 1500000.0, 660000.0, 879950.0, 580000.0, 579000.0, 782000.0, 530100.0, 700000.0, 501000.0, 485000.0, 175000.0, 377000.0, 330000.0, 255000.0, 735000.0, 306950.0, 260000.0, 299000.0, 305000.0, 477590.0, 402000.0, 401000.0, 1240000.0, 299950.0, 875000.0, 512500.0, 428900.0, 493000.0, 855000.0, 169317.0, 815000.0, 249950.0, 463000.0, 307000.0, 534000.0, 575000.0, 660000.0, 249000.0, 275000.0, 524225.0, 230000.0, 420000.0, 1490000.0, 507000.0, 165000.0, 242500.0, 261500.0, 667500.0, 539900.0, 480000.0, 415000.0, 340000.0, 462000.0, 599832.0, 405000.0, 375000.0, 480000.0, 459950.0, 552000.0, 807100.0, 517500.0, 440000.0, 570000.0, 510000.0, 218000.0, 725000.0, 293550.0, 668000.0, 650000.0, 294000.0, 440000.0, 525000.0, 580000.0, 740000.0, 870000.0, 498688.0, 590300.0, 659500.0, 500000.0, 375000.0, 475000.0, 553650.0, 500000.0, 1325000.0, 1065000.0, 435000.0, 352000.0, 1355000.0, 622000.0, 359950.0, 380000.0, 625250.0, 375000.0, 154000.0, 310000.0, 225000.0, 218500.0, 515000.0, 580000.0, 385000.0, 380000.0, 565000.0, 558000.0, 223000.0, 335000.0, 255000.0, 1582500.0, 238000.0, 1008000.0, 1400000.0, 192500.0, 665000.0, 450000.0, 427500.0, 580000.0, 699000.0, 597000.0, 447500.0, 824500.0, 571000.0, 1400000.0, 717000.0, 335000.0, 465000.0, 690000.0, 524950.0, 250000.0, 110000.0, 255000.0, 700000.0, 995500.0, 575000.0, 420000.0, 1260000.0, 759600.0, 330000.0, 324950.0, 757500.0, 473000.0, 264500.0, 381000.0, 267500.0, 320000.0, 440000.0, 217500.0, 2500000.0, 994000.0, 359900.0, 367500.0, 545000.0, 512500.0, 672500.0, 310650.0, 410000.0, 208000.0, 349950.0, 203000.0, 410000.0, 725000.0, 340000.0, 735000.0, 300000.0, 560000.0, 765000.0, 735000.0, 750000.0, 217450.0, 1750000.0, 196000.0, 325000.0, 219500.0, 290000.0, 1619999.0, 300000.0, 745000.0, 211000.0, 399000.0, 371000.0, 1370000.0, 400000.0, 271500.0, 329000.0, 835000.0, 442500.0, 429000.0, 469950.0, 399950.0, 619400.0, 678000.0, 740000.0, 339000.0, 419500.0, 1600000.0, 292000.0, 227450.0, 430000.0, 180500.0, 490000.0, 239950.0, 555000.0, 400000.0, 717000.0, 225000.0, 370000.0, 717000.0, 626000.0, 870000.0, 1105000.0, 208000.0, 1160000.0, 670000.0, 975000.0, 588500.0, 386000.0, 815000.0, 270000.0, 536000.0, 778983.0, 296000.0, 218000.0, 296000.0, 600000.0, 610000.0, 270000.0, 645000.0, 645000.0, 465000.0, 350000.0, 697000.0, 455000.0, 890000.0, 270000.0, 367500.0, 535000.0, 280000.0, 510000.0, 470000.0, 925000.0, 250000.0, 355000.0, 95000.0, 557500.0, 300000.0, 385000.0, 313500.0, 720000.0, 168000.0, 442000.0, 775000.0, 509000.0, 406000.0, 385100.0, 128000.0, 272167.0, 290000.0, 780000.0, 1267500.0, 379000.0, 305000.0, 559500.0, 630000.0, 950000.0, 192950.0, 610000.0, 733500.0, 325000.0, 869950.0, 285000.0, 712000.0, 750000.0, 600000.0, 740000.0, 1387000.0, 238950.0, 375000.0, 583000.0, 215000.0, 250000.0, 860000.0, 295000.0, 780000.0, 230000.0, 1855000.0, 249000.0, 1612500.0, 188000.0, 440000.0, 445000.0, 325000.0, 950000.0, 469900.0, 695000.0, 520000.0, 425000.0, 310000.0, 525000.0, 560000.0, 250000.0, 790000.0, 325000.0, 1325000.0, 815000.0, 536000.0, 260000.0, 442500.0, 665000.0, 393500.0, 450000.0, 700000.0, 370000.0, 470000.0, 570000.0, 425000.0, 475000.0, 674250.0, 412500.0, 1025000.0, 1518634.0, 365000.0, 710500.0, 590000.0, 1735000.0, 254000.0, 360000.0, 218000.0, 405000.0, 525000.0, 320000.0, 324000.0, 231000.0, 587000.0, 280950.0, 550000.0, 302000.0, 305000.0, 445000.0, 350000.0, 500000.0, 270000.0, 725000.0, 240000.0, 535000.0, 523000.0, 219950.0, 715000.0, 570000.0, 366350.0, 549950.0, 645000.0, 730000.0, 445000.0, 380000.0, 290000.0, 215000.0, 575000.0, 175000.0, 220000.0, 599950.0, 600000.0, 419000.0, 1400000.0, 385000.0, 469950.0, 650000.0, 450000.0, 325000.0, 365000.0, 305950.0, 1210000.0, 465000.0, 715000.0, 455000.0, 402000.0, 550000.0, 725000.0, 695000.0, 665000.0, 655000.0, 226000.0, 342450.0, 436000.0, 347000.0, 300000.0, 589000.0, 790000.0, 399950.0, 835000.0, 995000.0, 422000.0, 720000.0, 575000.0, 649000.0, 577000.0, 515000.0, 394475.0, 450000.0, 664950.0, 598000.0, 175000.0, 370000.0, 147500.0, 590000.0, 510000.0, 385000.0, 915557.0, 169500.0, 429000.0, 280950.0, 369950.0, 626000.0, 394000.0, 1850000.0, 728000.0, 306950.0, 725000.0, 925000.0, 380000.0, 760000.0, 988500.0, 572000.0, 305000.0, 300000.0, 495000.0, 450000.0, 485000.0, 274700.0, 439000.0, 270000.0, 517500.0, 536000.0, 360000.0, 320000.0, 243500.0, 630000.0, 380000.0, 450000.0, 925000.0, 175000.0, 419900.0, 525000.0, 375000.0, 225000.0, 299000.0, 389000.0, 995000.0, 456200.0, 399000.0, 630000.0, 169000.0, 500000.0, 300000.0, 498000.0, 500000.0, 663000.0, 425000.0, 512500.0, 335000.0, 465000.0, 925000.0, 370000.0, 325000.0, 179000.0, 275000.0, 763000.0, 325000.0, 850000.0, 364000.0, 680000.0, 562000.0, 1088000.0, 875000.0, 201000.0, 605000.0, 473000.0, 284000.0, 645000.0, 225000.0, 359950.0, 403000.0, 522000.0, 259900.0, 825000.0, 658588.0, 129000.0, 564000.0, 435000.0, 221000.0, 620000.0, 1619999.0, 295000.0, 514000.0, 248000.0, 358000.0, 775000.0, 255000.0, 757500.0, 290000.0, 315000.0, 321000.0, 425000.0, 421000.0, 360000.0, 665000.0, 650000.0, 705000.0, 561000.0, 295000.0, 530000.0, 515000.0, 721000.0, 525000.0, 1250000.0, 345000.0, 436110.0, 275000.0, 374000.0, 2075000.0, 355000.0, 552250.0, 241500.0, 415000.0, 620000.0, 1430000.0, 390000.0, 774000.0, 215000.0, 825000.0, 415000.0, 1050000.0, 250000.0, 648000.0, 239950.0, 655500.0, 418000.0, 370000.0, 950000.0, 490000.0, 575000.0, 625000.0, 453000.0, 475000.0, 950000.0, 445000.0, 457000.0, 310000.0, 489000.0, 590000.0, 351000.0, 620000.0, 277500.0, 284000.0, 539000.0, 855000.0, 319000.0, 825050.0, 197000.0, 355000.0, 455600.0, 523000.0, 139950.0, 604000.0, 625000.0, 570000.0, 367500.0, 330000.0, 499000.0, 250000.0, 365500.0, 449950.0, 157340.0, 321000.0, 340000.0, 739900.0, 276900.0, 509007.0, 195000.0, 345000.0, 490000.0, 184000.0, 830000.0, 410500.0, 580000.0, 355000.0, 707000.0, 203000.0, 393500.0, 570000.0, 1680000.0, 850000.0, 375000.0, 397000.0, 340000.0, 610685.0, 475000.0, 409500.0, 269100.0, 536000.0, 590300.0, 1900000.0, 390000.0, 430000.0, 320000.0, 600000.0, 313000.0, 769000.0, 270000.0, 394900.0, 530000.0, 560000.0, 549950.0, 994000.0, 971000.0, 285000.0, 702000.0, 415000.0, 450000.0, 592500.0, 440000.0, 585000.0, 336500.0, 747000.0, 985000.0, 315000.0, 580000.0, 548000.0, 389000.0, 520500.0, 248000.0, 128000.0, 372000.0, 435000.0, 617000.0, 355000.0, 395000.0, 279475.0, 335000.0, 275000.0, 190000.0, 269100.0, 520000.0, 437000.0, 555000.0, 315000.0, 229000.0, 345000.0, 490000.0, 315000.0, 672500.0, 648000.0, 350000.0, 500000.0, 242500.0, 375000.0, 1400000.0, 1000000.0, 1190000.0, 355000.0, 355000.0, 282500.0, 195000.0, 500000.0, 415000.0, 885000.0, 401000.0, 580000.0, 756000.0, 325000.0, 520000.0, 292000.0, 560000.0, 217450.0, 347500.0, 135000.0, 423500.0, 305000.0, 676000.0, 445000.0, 780000.0, 432000.0, 343000.0, 744500.0, 718500.0, 175000.0, 615000.0, 256000.0, 425000.0, 614000.0, 575000.0, 291500.0, 430000.0, 510000.0, 300000.0, 180000.0, 437000.0, 378510.0, 382000.0, 254000.0, 447500.0, 655000.0, 667500.0, 860000.0, 635000.0, 670000.0, 340000.0, 210000.0, 230000.0, 502000.0, 350000.0, 320000.0, 205000.0, 525000.0, 582500.0, 500000.0, 505000.0, 1600000.0, 465000.0, 300000.0, 461000.0, 510000.0, 322500.0, 279475.0, 464050.0, 352000.0, 205000.0, 475000.0, 306000.0, 1335000.0, 445000.0, 303700.0, 599000.0, 490000.0, 185000.0, 1093000.0, 365000.0, 249900.0, 1600000.0, 390000.0, 455000.0, 260000.0, 330000.0, 652500.0, 290000.0, 520000.0, 385000.0, 325000.0, 710000.0, 369000.0, 405000.0, 890000.0, 252000.0, 720000.0, 380000.0, 1325000.0, 282500.0, 265000.0, 745000.0, 1345000.0, 172000.0, 265000.0, 380000.0, 625000.0, 562000.0, 275000.0, 835000.0, 695000.0, 315000.0, 260000.0, 402000.0, 320000.0, 169000.0, 622000.0, 950000.0, 860000.0, 400000.0, 265000.0, 765000.0, 361000.0, 360000.0, 456200.0, 546800.0, 279900.0, 651000.0, 203000.0, 423500.0, 215000.0, 704000.0, 610000.0, 335000.0, 562500.0, 656500.0, 510000.0, 580000.0, 695000.0, 346500.0, 453000.0, 265000.0, 500000.0, 289000.0, 629000.0, 425000.0, 685650.0, 610000.0, 556000.0, 718000.0, 350000.0, 1355000.0, 315000.0, 560000.0, 1612500.0, 442000.0, 445000.0, 782000.0, 337000.0, 538000.0, 318000.0, 459000.0, 669950.0, 372000.0, 530000.0, 325000.0, 359950.0, 322500.0, 555000.0, 710000.0, 320000.0, 650000.0, 730000.0, 530000.0, 589000.0, 392000.0, 1400000.0, 850000.0, 550000.0, 1400000.0, 176500.0, 285000.0, 412000.0, 200000.0, 195000.0, 497500.0, 365000.0, 455000.0, 352500.0, 250000.0, 495000.0, 240000.0, 291500.0, 570000.0, 515000.0, 730000.0, 456000.0, 530000.0, 705640.0, 342000.0, 855000.0, 477000.0, 657500.0, 626000.0, 325000.0, 540000.0, 429000.0, 290000.0, 292000.0, 415000.0, 400000.0, 586000.0, 320000.0, 551000.0, 447500.0, 129000.0, 260000.0, 672500.0, 160000.0, 368500.0, 366350.0, 305000.0, 320000.0, 289950.0, 316000.0, 217500.0, 385000.0, 325000.0, 482000.0, 3204000.0, 385000.0, 342000.0, 765000.0, 625000.0, 540000.0, 495000.0, 531000.0, 235000.0, 422000.0, 358000.0, 400000.0, 530000.0, 962800.0, 3100000.0, 279900.0, 469950.0, 416000.0, 571000.0, 362000.0, 680000.0, 350000.0, 255000.0, 500000.0, 596000.0, 254000.0, 225000.0, 885000.0, 149900.0, 458000.0, 575000.0, 344500.0, 467500.0, 279000.0, 280000.0, 437000.0, 354000.0, 566000.0, 425000.0, 870000.0, 849000.0, 580000.0, 390000.0, 268000.0, 326000.0, 1199500.0, 500000.0, 730000.0, 310000.0, 238000.0, 224975.0, 701000.0, 530000.0, 875000.0, 306000.0, 815000.0, 210000.0, 472500.0, 2400000.0, 1150000.0, 560000.0, 760000.0, 375000.0, 453500.0, 250000.0, 330000.0, 227000.0, 319000.0, 357000.0, 610000.0, 610000.0, 190000.0, 299950.0, 649000.0, 248000.0, 812500.0, 747500.0, 489000.0, 648360.0, 610000.0, 295000.0, 436110.0, 790000.0, 645000.0, 266000.0, 870000.0, 797000.0, 300000.0, 1010000.0, 800000.0, 215000.0, 570000.0, 894000.0, 315000.0, 195000.0, 218000.0, 367950.0, 240000.0, 390000.0, 509007.0, 550000.0, 325000.0, 245000.0, 785000.0, 528000.0, 361000.0, 1011000.0, 640000.0, 470000.0, 175000.0, 593450.0, 260000.0, 315450.0, 719521.0, 535000.0, 372220.0, 1789950.0, 400000.0, 665000.0, 399950.0, 740000.0, 689000.0, 459950.0, 562500.0, 515500.0, 367500.0, 730000.0, 330000.0, 220000.0, 432000.0, 343000.0, 470000.0, 592100.0, 415000.0, 240000.0, 560000.0, 337500.0, 599950.0, 290000.0, 595000.0, 546200.0, 171800.0, 436000.0, 460000.0, 472000.0, 600000.0, 275000.0, 307000.0, 425000.0, 988500.0, 800000.0, 365000.0, 404500.0, 925000.0, 382000.0, 530000.0, 790000.0, 375000.0, 414500.0, 186375.0, 1010800.0, 246000.0, 365000.0, 183000.0, 500000.0, 895000.0, 430000.0, 290000.0, 936000.0, 205000.0, 385000.0, 700000.0, 449000.0, 390000.0, 122000.0, 350000.0, 254000.0, 250600.0, 135000.0, 468000.0, 699000.0, 306000.0, 480000.0, 685000.0, 580000.0, 538000.0, 260000.0, 575000.0, 394000.0, 266490.0, 520000.0, 1337500.0, 500000.0, 590000.0, 170000.0, 430000.0, 219950.0, 469900.0, 635000.0, 552250.0, 205000.0, 432000.0, 387500.0, 250000.0, 279950.0, 415000.0, 500000.0, 1680000.0, 365000.0, 605000.0, 208000.0, 515000.0, 205000.0, 509500.0, 303100.0, 855000.0, 477000.0, 624000.0, 859000.0, 650000.0, 883000.0, 330000.0, 315000.0, 390000.0, 550000.0, 417000.0, 367000.0, 554950.0, 520000.0, 827500.0, 530000.0, 186000.0, 1800000.0, 205500.0, 799000.0, 405000.0, 652000.0, 530000.0, 720001.0, 529000.0, 880000.0, 321000.0, 432500.0, 810000.0, 2000000.0, 560000.0, 475000.0, 442500.0, 629000.0, 890000.0, 780000.0, 807100.0, 413800.0, 535000.0, 275000.0, 249000.0, 1795000.0, 830000.0, 430000.0, 368250.0, 249900.0, 325000.0, 323000.0, 810000.0, 780000.0, 740000.0, 440000.0, 1150000.0, 385000.0, 380000.0, 539000.0, 725000.0, 538000.0, 264000.0, 315450.0, 290000.0, 350000.0, 477000.0, 861111.0, 602000.0, 667500.0, 850000.0, 510000.0, 368000.0, 641000.0, 850000.0, 199000.0, 895000.0, 275000.0, 500000.0, 450000.0, 225000.0, 244000.0, 575000.0, 650000.0, 530000.0, 864000.0, 540000.0, 275000.0, 147500.0, 649000.0, 600000.0, 300500.0, 325000.0, 600000.0, 395000.0, 1580000.0, 310000.0, 386000.0, 631625.0, 625250.0, 530000.0, 995500.0, 380000.0, 369950.0, 765000.0, 352000.0, 995000.0, 599950.0, 1400000.0, 705380.0, 600000.0, 695000.0, 740000.0, 555000.0, 539900.0, 360000.0, 925000.0, 1438888.0, 510000.0, 340000.0, 637000.0, 699188.0, 517500.0, 499000.0, 597326.0, 296000.0, 740000.0, 625000.0, 352000.0, 799000.0, 655000.0, 590000.0, 770000.0, 370000.0, 495000.0, 599950.0, 659950.0, 305000.0, 445700.0, 1299888.0, 720000.0, 499000.0, 609850.0, 334500.0, 870000.0, 302860.0, 362500.0, 359900.0, 815000.0, 556000.0, 330000.0, 400000.0, 932808.0, 869950.0, 349990.0, 734990.0, 425000.0, 2000000.0, 499990.0, 401750.0, 479950.0, 369000.0, 256883.0, 675000.0, 539000.0, 450000.0, 919990.0, 797000.0, 469000.0, 401000.0, 399950.0, 416000.0, 449000.0, 395950.0, 820000.0, 365000.0, 340000.0, 320000.0, 655000.0, 369990.0, 778983.0, 798500.0, 352499.0, 399000.0, 780000.0, 599950.0, 289000.0, 280000.0, 1850000.0, 556000.0, 304500.0, 485000.0, 1010800.0, 395950.0, 403000.0, 495000.0, 810000.0, 680000.0, 1285000.0, 919950.0, 275000.0, 322000.0, 370000.0, 467000.0, 419354.0, 430000.0, 208800.0, 282000.0, 310000.0, 652600.0, 440000.0, 720000.0, 553650.0, 720000.0, 671500.0, 676000.0, 770000.0, 1010000.0, 286000.0, 995500.0, 305000.0, 312500.0, 429900.0]\n"
     ]
    }
   ],
   "source": [
    "print predictions"
   ]
  },
  {
   "cell_type": "markdown",
   "metadata": {
    "collapsed": false
   },
   "source": [
    "To visualize the performance as a function of `k`, plot the RSS on the VALIDATION set for each considered `k` value:"
   ]
  },
  {
   "cell_type": "code",
   "execution_count": 60,
   "metadata": {
    "collapsed": false
   },
   "outputs": [
    {
     "data": {
      "text/plain": [
       "[<matplotlib.lines.Line2D at 0x2052b668>]"
      ]
     },
     "execution_count": 60,
     "metadata": {},
     "output_type": "execute_result"
    },
    {
     "data": {
      "image/png": "[encoded data removed]",
      "text/plain": [
       "<matplotlib.figure.Figure at 0x14e02c88>"
      ]
     },
     "metadata": {},
     "output_type": "display_data"
    }
   ],
   "source": [
    "import matplotlib.pyplot as plt\n",
    "%matplotlib inline\n",
    "\n",
    "kvals = range(1, 16)\n",
    "plt.plot(kvals, rss_all,'bo-')"
   ]
  },
  {
   "cell_type": "markdown",
   "metadata": {},
   "source": [
    "***QUIZ QUESTION ***\n",
    "\n",
    "What is the RSS on the TEST data using the value of k found above?  To be clear, sum over all houses in the TEST set."
   ]
  },
  {
   "cell_type": "code",
   "execution_count": null,
   "metadata": {
    "collapsed": false
   },
   "outputs": [],
   "source": []
  }
 ],
 "metadata": {
  "kernelspec": {
   "display_name": "Python 2",
   "language": "python",
   "name": "python2"
  },
  "language_info": {
   "codemirror_mode": {
    "name": "ipython",
    "version": 2
   },
   "file_extension": ".py",
   "mimetype": "text/x-python",
   "name": "python",
   "nbconvert_exporter": "python",
   "pygments_lexer": "ipython2",
   "version": "2.7.11"
  }
 },
 "nbformat": 4,
 "nbformat_minor": 0
}
