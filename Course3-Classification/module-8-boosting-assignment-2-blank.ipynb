{
 "cells": [
  {
   "cell_type": "markdown",
   "metadata": {},
   "source": [
    "# Boosting a decision stump\n",
    "\n",
    "The goal of this notebook is to implement your own boosting module.\n",
    "\n",
    "**Brace yourselves**! This is going to be a fun and challenging assignment.\n",
    "\n",
    "\n",
    "* Use SFrames to do some feature engineering.\n",
    "* Modify the decision trees to incorporate weights.\n",
    "* Implement Adaboost ensembling.\n",
    "* Use your implementation of Adaboost to train a boosted decision stump ensemble.\n",
    "* Evaluate the effect of boosting (adding more decision stumps) on performance of the model.\n",
    "* Explore the robustness of Adaboost to overfitting.\n",
    "\n",
    "Let's get started!"
   ]
  },
  {
   "cell_type": "markdown",
   "metadata": {},
   "source": [
    "## Fire up GraphLab Create"
   ]
  },
  {
   "cell_type": "markdown",
   "metadata": {},
   "source": [
    "Make sure you have the latest version of GraphLab Create **(1.8.3 or newer)**. Upgrade by\n",
    "```\n",
    "   pip install graphlab-create --upgrade\n",
    "```\n",
    "See [this page](https://dato.com/download/) for detailed instructions on upgrading."
   ]
  },
  {
   "cell_type": "code",
   "execution_count": 1,
   "metadata": {
    "collapsed": false
   },
   "outputs": [],
   "source": [
    "import graphlab\n",
    "import matplotlib.pyplot as plt\n",
    "%matplotlib inline"
   ]
  },
  {
   "cell_type": "markdown",
   "metadata": {},
   "source": [
    "# Getting the data ready"
   ]
  },
  {
   "cell_type": "markdown",
   "metadata": {},
   "source": [
    "We will be using the same [LendingClub](https://www.lendingclub.com/) dataset as in the previous assignment."
   ]
  },
  {
   "cell_type": "code",
   "execution_count": 2,
   "metadata": {
    "collapsed": false
   },
   "outputs": [
    {
     "name": "stdout",
     "output_type": "stream",
     "text": [
      "This non-commercial license of GraphLab Create for academic use is assigned to edward30@163.com and will expire on September 27, 2017.\n"
     ]
    },
    {
     "name": "stderr",
     "output_type": "stream",
     "text": [
      "[INFO] graphlab.cython.cy_server: GraphLab Create v2.1 started. Logging: C:\\Users\\Edward\\AppData\\Local\\Temp\\graphlab_server_1504076739.log.0\n"
     ]
    }
   ],
   "source": [
    "loans = graphlab.SFrame('lending-club-data.gl/')"
   ]
  },
  {
   "cell_type": "markdown",
   "metadata": {},
   "source": [
    "### Extracting the target and the feature columns\n",
    "\n",
    "We will now repeat some of the feature processing steps that we saw in the previous assignment:\n",
    "\n",
    "First, we re-assign the target to have +1 as a safe (good) loan, and -1 as a risky (bad) loan.\n",
    "\n",
    "Next, we select four categorical features: \n",
    "1. grade of the loan \n",
    "2. the length of the loan term\n",
    "3. the home ownership status: own, mortgage, rent\n",
    "4. number of years of employment."
   ]
  },
  {
   "cell_type": "code",
   "execution_count": 3,
   "metadata": {
    "collapsed": false
   },
   "outputs": [],
   "source": [
    "features = ['grade',              # grade of the loan\n",
    "            'term',               # the term of the loan\n",
    "            'home_ownership',     # home ownership status: own, mortgage or rent\n",
    "            'emp_length',         # number of years of employment\n",
    "           ]\n",
    "loans['safe_loans'] = loans['bad_loans'].apply(lambda x : +1 if x==0 else -1)\n",
    "loans.remove_column('bad_loans')\n",
    "target = 'safe_loans'\n",
    "loans = loans[features + [target]]"
   ]
  },
  {
   "cell_type": "markdown",
   "metadata": {},
   "source": [
    "### Subsample dataset to make sure classes are balanced"
   ]
  },
  {
   "cell_type": "markdown",
   "metadata": {},
   "source": [
    "Just as we did in the previous assignment, we will undersample the larger class (safe loans) in order to balance out our dataset. This means we are throwing away many data points. We use `seed=1` so everyone gets the same results."
   ]
  },
  {
   "cell_type": "code",
   "execution_count": 4,
   "metadata": {
    "collapsed": false
   },
   "outputs": [
    {
     "name": "stdout",
     "output_type": "stream",
     "text": [
      "Percentage of safe loans                 : 0.502236174422\n",
      "Percentage of risky loans                : 0.497763825578\n",
      "Total number of loans in our new dataset : 46508\n"
     ]
    }
   ],
   "source": [
    "safe_loans_raw = loans[loans[target] == 1]\n",
    "risky_loans_raw = loans[loans[target] == -1]\n",
    "\n",
    "# Undersample the safe loans.\n",
    "percentage = len(risky_loans_raw)/float(len(safe_loans_raw))\n",
    "risky_loans = risky_loans_raw\n",
    "safe_loans = safe_loans_raw.sample(percentage, seed=1)\n",
    "loans_data = risky_loans_raw.append(safe_loans)\n",
    "\n",
    "print \"Percentage of safe loans                 :\", len(safe_loans) / float(len(loans_data))\n",
    "print \"Percentage of risky loans                :\", len(risky_loans) / float(len(loans_data))\n",
    "print \"Total number of loans in our new dataset :\", len(loans_data)"
   ]
  },
  {
   "cell_type": "markdown",
   "metadata": {},
   "source": [
    "**Note:** There are many approaches for dealing with imbalanced data, including some where we modify the learning algorithm. These approaches are beyond the scope of this course, but some of them are reviewed in this [paper](http://ieeexplore.ieee.org/xpl/login.jsp?tp=&arnumber=5128907&url=http%3A%2F%2Fieeexplore.ieee.org%2Fiel5%2F69%2F5173046%2F05128907.pdf%3Farnumber%3D5128907 ). For this assignment, we use the simplest possible approach, where we subsample the overly represented class to get a more balanced dataset. In general, and especially when the data is highly imbalanced, we recommend using more advanced methods."
   ]
  },
  {
   "cell_type": "markdown",
   "metadata": {},
   "source": [
    "### Transform categorical data into binary features"
   ]
  },
  {
   "cell_type": "markdown",
   "metadata": {},
   "source": [
    "In this assignment, we will work with **binary decision trees**. Since all of our features are currently categorical features, we want to turn them into binary features using 1-hot encoding. \n",
    "\n",
    "We can do so with the following code block (see the first assignments for more details):"
   ]
  },
  {
   "cell_type": "code",
   "execution_count": 5,
   "metadata": {
    "collapsed": true
   },
   "outputs": [],
   "source": [
    "loans_data = risky_loans.append(safe_loans)\n",
    "for feature in features:\n",
    "    loans_data_one_hot_encoded = loans_data[feature].apply(lambda x: {x: 1})    \n",
    "    loans_data_unpacked = loans_data_one_hot_encoded.unpack(column_name_prefix=feature)\n",
    "    \n",
    "    # Change None's to 0's\n",
    "    for column in loans_data_unpacked.column_names():\n",
    "        loans_data_unpacked[column] = loans_data_unpacked[column].fillna(0)\n",
    "\n",
    "    loans_data.remove_column(feature)\n",
    "    loans_data.add_columns(loans_data_unpacked)"
   ]
  },
  {
   "cell_type": "markdown",
   "metadata": {},
   "source": [
    "Let's see what the feature columns look like now:"
   ]
  },
  {
   "cell_type": "code",
   "execution_count": 6,
   "metadata": {
    "collapsed": false
   },
   "outputs": [
    {
     "data": {
      "text/plain": [
       "['grade.A',\n",
       " 'grade.B',\n",
       " 'grade.C',\n",
       " 'grade.D',\n",
       " 'grade.E',\n",
       " 'grade.F',\n",
       " 'grade.G',\n",
       " 'term. 36 months',\n",
       " 'term. 60 months',\n",
       " 'home_ownership.MORTGAGE',\n",
       " 'home_ownership.OTHER',\n",
       " 'home_ownership.OWN',\n",
       " 'home_ownership.RENT',\n",
       " 'emp_length.1 year',\n",
       " 'emp_length.10+ years',\n",
       " 'emp_length.2 years',\n",
       " 'emp_length.3 years',\n",
       " 'emp_length.4 years',\n",
       " 'emp_length.5 years',\n",
       " 'emp_length.6 years',\n",
       " 'emp_length.7 years',\n",
       " 'emp_length.8 years',\n",
       " 'emp_length.9 years',\n",
       " 'emp_length.< 1 year',\n",
       " 'emp_length.n/a']"
      ]
     },
     "execution_count": 6,
     "metadata": {},
     "output_type": "execute_result"
    }
   ],
   "source": [
    "features = loans_data.column_names()\n",
    "features.remove('safe_loans')  # Remove the response variable\n",
    "features"
   ]
  },
  {
   "cell_type": "markdown",
   "metadata": {},
   "source": [
    "### Train-test split\n",
    "\n",
    "We split the data into training and test sets with 80% of the data in the training set and 20% of the data in the test set. We use `seed=1` so that everyone gets the same result."
   ]
  },
  {
   "cell_type": "code",
   "execution_count": 7,
   "metadata": {
    "collapsed": true
   },
   "outputs": [],
   "source": [
    "train_data, test_data = loans_data.random_split(0.8, seed=1)"
   ]
  },
  {
   "cell_type": "markdown",
   "metadata": {},
   "source": [
    "# Weighted decision trees"
   ]
  },
  {
   "cell_type": "markdown",
   "metadata": {},
   "source": [
    "Let's modify our decision tree code from Module 5 to support weighting of individual data points."
   ]
  },
  {
   "cell_type": "markdown",
   "metadata": {},
   "source": [
    "### Weighted error definition\n",
    "\n",
    "Consider a model with $N$ data points with:\n",
    "* Predictions $\\hat{y}_1 ... \\hat{y}_n$ \n",
    "* Target $y_1 ... y_n$ \n",
    "* Data point weights $\\alpha_1 ... \\alpha_n$.\n",
    "\n",
    "Then the **weighted error** is defined by:\n",
    "$$\n",
    "\\mathrm{E}(\\mathbf{\\alpha}, \\mathbf{\\hat{y}}) = \\frac{\\sum_{i=1}^{n} \\alpha_i \\times 1[y_i \\neq \\hat{y_i}]}{\\sum_{i=1}^{n} \\alpha_i}\n",
    "$$\n",
    "where $1[y_i \\neq \\hat{y_i}]$ is an indicator function that is set to $1$ if $y_i \\neq \\hat{y_i}$.\n",
    "\n",
    "\n",
    "### Write a function to compute weight of mistakes\n",
    "\n",
    "Write a function that calculates the weight of mistakes for making the \"weighted-majority\" predictions for a dataset. The function accepts two inputs:\n",
    "* `labels_in_node`: Targets $y_1 ... y_n$ \n",
    "* `data_weights`: Data point weights $\\alpha_1 ... \\alpha_n$\n",
    "\n",
    "We are interested in computing the (total) weight of mistakes, i.e.\n",
    "$$\n",
    "\\mathrm{WM}(\\mathbf{\\alpha}, \\mathbf{\\hat{y}}) = \\sum_{i=1}^{n} \\alpha_i \\times 1[y_i \\neq \\hat{y_i}].\n",
    "$$\n",
    "This quantity is analogous to the number of mistakes, except that each mistake now carries different weight. It is related to the weighted error in the following way:\n",
    "$$\n",
    "\\mathrm{E}(\\mathbf{\\alpha}, \\mathbf{\\hat{y}}) = \\frac{\\mathrm{WM}(\\mathbf{\\alpha}, \\mathbf{\\hat{y}})}{\\sum_{i=1}^{n} \\alpha_i}\n",
    "$$\n",
    "\n",
    "The function **intermediate_node_weighted_mistakes** should first compute two weights: \n",
    " * $\\mathrm{WM}_{-1}$: weight of mistakes when all predictions are $\\hat{y}_i = -1$ i.e $\\mathrm{WM}(\\mathbf{\\alpha}, \\mathbf{-1}$)\n",
    " * $\\mathrm{WM}_{+1}$: weight of mistakes when all predictions are $\\hat{y}_i = +1$ i.e $\\mbox{WM}(\\mathbf{\\alpha}, \\mathbf{+1}$)\n",
    " \n",
    " where $\\mathbf{-1}$ and $\\mathbf{+1}$ are vectors where all values are -1 and +1 respectively.\n",
    " \n",
    "After computing $\\mathrm{WM}_{-1}$ and $\\mathrm{WM}_{+1}$, the function **intermediate_node_weighted_mistakes** should return the lower of the two weights of mistakes, along with the class associated with that weight. We have provided a skeleton for you with `YOUR CODE HERE` to be filled in several places."
   ]
  },
  {
   "cell_type": "code",
   "execution_count": 8,
   "metadata": {
    "collapsed": true
   },
   "outputs": [],
   "source": [
    "def intermediate_node_weighted_mistakes(labels_in_node, data_weights):\n",
    "    # Sum the weights of all entries with label +1\n",
    "    total_weight_positive = sum(data_weights[labels_in_node == +1])\n",
    "    \n",
    "    # Weight of mistakes for predicting all -1's is equal to the sum above\n",
    "    ### YOUR CODE HERE\n",
    "    weighted_mistakes_all_negative = total_weight_positive\n",
    "    \n",
    "    # Sum the weights of all entries with label -1\n",
    "    ### YOUR CODE HERE\n",
    "    total_weight_negative = sum(data_weights[labels_in_node == -1])\n",
    "    \n",
    "    # Weight of mistakes for predicting all +1's is equal to the sum above\n",
    "    ### YOUR CODE HERE\n",
    "    weighted_mistakes_all_positive = total_weight_negative\n",
    "    \n",
    "    # Return the tuple (weight, class_label) representing the lower of the two weights\n",
    "    #    class_label should be an integer of value +1 or -1.\n",
    "    # If the two weights are identical, return (weighted_mistakes_all_positive,+1)\n",
    "    ### YOUR CODE HERE\n",
    "    if weighted_mistakes_all_negative < weighted_mistakes_all_positive:\n",
    "        return (weighted_mistakes_all_negative,-1)\n",
    "    else:\n",
    "        return (weighted_mistakes_all_positive,+1)"
   ]
  },
  {
   "cell_type": "markdown",
   "metadata": {},
   "source": [
    "**Checkpoint:** Test your **intermediate_node_weighted_mistakes** function, run the following cell:"
   ]
  },
  {
   "cell_type": "code",
   "execution_count": 9,
   "metadata": {
    "collapsed": false
   },
   "outputs": [
    {
     "name": "stdout",
     "output_type": "stream",
     "text": [
      "Test passed!\n"
     ]
    }
   ],
   "source": [
    "example_labels = graphlab.SArray([-1, -1, 1, 1, 1])\n",
    "example_data_weights = graphlab.SArray([1., 2., .5, 1., 1.])\n",
    "if intermediate_node_weighted_mistakes(example_labels, example_data_weights) == (2.5, -1):\n",
    "    print 'Test passed!'\n",
    "else:\n",
    "    print 'Test failed... try again!'"
   ]
  },
  {
   "cell_type": "markdown",
   "metadata": {},
   "source": [
    "Recall that the **classification error** is defined as follows:\n",
    "$$\n",
    "\\mbox{classification error} = \\frac{\\mbox{# mistakes}}{\\mbox{# all data points}}\n",
    "$$\n",
    "\n",
    "**Quiz Question:** If we set the weights $\\mathbf{\\alpha} = 1$ for all data points, how is the weight of mistakes $\\mbox{WM}(\\mathbf{\\alpha}, \\mathbf{\\hat{y}})$ related to the `classification error`?"
   ]
  },
  {
   "cell_type": "markdown",
   "metadata": {},
   "source": [
    "### Function to pick best feature to split on"
   ]
  },
  {
   "cell_type": "markdown",
   "metadata": {
    "collapsed": false
   },
   "source": [
    "We continue modifying our decision tree code from the earlier assignment to incorporate weighting of individual data points. The next step is to pick the best feature to split on.\n",
    "\n",
    "The **best_splitting_feature** function is similar to the one from the earlier assignment with two minor modifications:\n",
    "  1. The function **best_splitting_feature** should now accept an extra parameter `data_weights` to take account of weights of data points.\n",
    "  2. Instead of computing the number of mistakes in the left and right side of the split, we compute the weight of mistakes for both sides, add up the two weights, and divide it by the total weight of the data.\n",
    "  \n",
    "Complete the following function. Comments starting with `DIFFERENT HERE` mark the sections where the weighted version differs from the original implementation."
   ]
  },
  {
   "cell_type": "code",
   "execution_count": 10,
   "metadata": {
    "collapsed": false
   },
   "outputs": [],
   "source": [
    "def best_splitting_feature(data, features, target, data_weights):\n",
    "    \n",
    "    # These variables will keep track of the best feature and the corresponding error\n",
    "    best_feature = None\n",
    "    best_error = float('+inf') \n",
    "    num_points = float(len(data))\n",
    "\n",
    "    # Loop through each feature to consider splitting on that feature\n",
    "    for feature in features:\n",
    "        \n",
    "        # The left split will have all data points where the feature value is 0\n",
    "        # The right split will have all data points where the feature value is 1\n",
    "        left_split = data[data[feature] == 0]\n",
    "        right_split = data[data[feature] == 1]\n",
    "        \n",
    "        # Apply the same filtering to data_weights to create left_data_weights, right_data_weights\n",
    "        ## YOUR CODE HERE\n",
    "        left_data_weights = data_weights[data[feature] == 0]\n",
    "        right_data_weights = data_weights[data[feature] == 1]\n",
    "                    \n",
    "        # DIFFERENT HERE\n",
    "        # Calculate the weight of mistakes for left and right sides\n",
    "        ## YOUR CODE HERE\n",
    "        left_weighted_mistakes, left_class = intermediate_node_weighted_mistakes(left_split[target], left_data_weights)\n",
    "        right_weighted_mistakes, right_class = intermediate_node_weighted_mistakes(right_split[target], right_data_weights)\n",
    "        \n",
    "        # DIFFERENT HERE\n",
    "        # Compute weighted error by computing\n",
    "        #  ( [weight of mistakes (left)] + [weight of mistakes (right)] ) / [total weight of all data points]\n",
    "        ## YOUR CODE HERE\n",
    "        error = (left_weighted_mistakes + right_weighted_mistakes) / sum(data_weights)\n",
    "        \n",
    "        # If this is the best error we have found so far, store the feature and the error\n",
    "        if error < best_error:\n",
    "            best_feature = feature\n",
    "            best_error = error\n",
    "    \n",
    "    # Return the best feature we found\n",
    "    return best_feature"
   ]
  },
  {
   "cell_type": "markdown",
   "metadata": {},
   "source": [
    "**Checkpoint:** Now, we have another checkpoint to make sure you are on the right track."
   ]
  },
  {
   "cell_type": "code",
   "execution_count": 11,
   "metadata": {
    "collapsed": false
   },
   "outputs": [
    {
     "name": "stdout",
     "output_type": "stream",
     "text": [
      "Test passed!\n"
     ]
    }
   ],
   "source": [
    "example_data_weights = graphlab.SArray(len(train_data)* [1.5])\n",
    "if best_splitting_feature(train_data, features, target, example_data_weights) == 'term. 36 months':\n",
    "    print 'Test passed!'\n",
    "else:\n",
    "    print 'Test failed... try again!'"
   ]
  },
  {
   "cell_type": "markdown",
   "metadata": {},
   "source": [
    "**Note**. If you get an exception in the line of \"the logical filter has different size than the array\", try upgradting your GraphLab Create installation to 1.8.3 or newer."
   ]
  },
  {
   "cell_type": "markdown",
   "metadata": {},
   "source": [
    "**Very Optional**. Relationship between weighted error and weight of mistakes\n",
    "\n",
    "By definition, the weighted error is the weight of mistakes divided by the weight of all data points, so\n",
    "$$\n",
    "\\mathrm{E}(\\mathbf{\\alpha}, \\mathbf{\\hat{y}}) = \\frac{\\sum_{i=1}^{n} \\alpha_i \\times 1[y_i \\neq \\hat{y_i}]}{\\sum_{i=1}^{n} \\alpha_i} = \\frac{\\mathrm{WM}(\\mathbf{\\alpha}, \\mathbf{\\hat{y}})}{\\sum_{i=1}^{n} \\alpha_i}.\n",
    "$$\n",
    "\n",
    "In the code above, we obtain $\\mathrm{E}(\\mathbf{\\alpha}, \\mathbf{\\hat{y}})$ from the two weights of mistakes from both sides, $\\mathrm{WM}(\\mathbf{\\alpha}_{\\mathrm{left}}, \\mathbf{\\hat{y}}_{\\mathrm{left}})$ and $\\mathrm{WM}(\\mathbf{\\alpha}_{\\mathrm{right}}, \\mathbf{\\hat{y}}_{\\mathrm{right}})$. First, notice that the overall weight of mistakes $\\mathrm{WM}(\\mathbf{\\alpha}, \\mathbf{\\hat{y}})$ can be broken into two weights of mistakes over either side of the split:\n",
    "$$\n",
    "\\mathrm{WM}(\\mathbf{\\alpha}, \\mathbf{\\hat{y}})\n",
    "= \\sum_{i=1}^{n} \\alpha_i \\times 1[y_i \\neq \\hat{y_i}]\n",
    "= \\sum_{\\mathrm{left}} \\alpha_i \\times 1[y_i \\neq \\hat{y_i}]\n",
    " + \\sum_{\\mathrm{right}} \\alpha_i \\times 1[y_i \\neq \\hat{y_i}]\\\\\n",
    "= \\mathrm{WM}(\\mathbf{\\alpha}_{\\mathrm{left}}, \\mathbf{\\hat{y}}_{\\mathrm{left}}) + \\mathrm{WM}(\\mathbf{\\alpha}_{\\mathrm{right}}, \\mathbf{\\hat{y}}_{\\mathrm{right}})\n",
    "$$\n",
    "We then divide through by the total weight of all data points to obtain $\\mathrm{E}(\\mathbf{\\alpha}, \\mathbf{\\hat{y}})$:\n",
    "$$\n",
    "\\mathrm{E}(\\mathbf{\\alpha}, \\mathbf{\\hat{y}})\n",
    "= \\frac{\\mathrm{WM}(\\mathbf{\\alpha}_{\\mathrm{left}}, \\mathbf{\\hat{y}}_{\\mathrm{left}}) + \\mathrm{WM}(\\mathbf{\\alpha}_{\\mathrm{right}}, \\mathbf{\\hat{y}}_{\\mathrm{right}})}{\\sum_{i=1}^{n} \\alpha_i}\n",
    "$$"
   ]
  },
  {
   "cell_type": "markdown",
   "metadata": {},
   "source": [
    "### Building the tree\n",
    "\n",
    "With the above functions implemented correctly, we are now ready to build our decision tree. Recall from the previous assignments that each node in the decision tree is represented as a dictionary which contains the following keys:\n",
    "\n",
    "    { \n",
    "       'is_leaf'            : True/False.\n",
    "       'prediction'         : Prediction at the leaf node.\n",
    "       'left'               : (dictionary corresponding to the left tree).\n",
    "       'right'              : (dictionary corresponding to the right tree).\n",
    "       'features_remaining' : List of features that are posible splits.\n",
    "    }\n",
    "    \n",
    "Let us start with a function that creates a leaf node given a set of target values:"
   ]
  },
  {
   "cell_type": "code",
   "execution_count": 12,
   "metadata": {
    "collapsed": true
   },
   "outputs": [],
   "source": [
    "def create_leaf(target_values, data_weights):\n",
    "    \n",
    "    # Create a leaf node\n",
    "    leaf = {'splitting_feature' : None,\n",
    "            'is_leaf': True}\n",
    "    \n",
    "    # Computed weight of mistakes.\n",
    "    weighted_error, best_class = intermediate_node_weighted_mistakes(target_values, data_weights)\n",
    "    # Store the predicted class (1 or -1) in leaf['prediction']\n",
    "    leaf['prediction'] = best_class ## YOUR CODE HERE\n",
    "    \n",
    "    return leaf "
   ]
  },
  {
   "cell_type": "markdown",
   "metadata": {},
   "source": [
    "We provide a function that learns a weighted decision tree recursively and implements 3 stopping conditions:\n",
    "1. All data points in a node are from the same class.\n",
    "2. No more features to split on.\n",
    "3. Stop growing the tree when the tree depth reaches **max_depth**. "
   ]
  },
  {
   "cell_type": "code",
   "execution_count": 13,
   "metadata": {
    "collapsed": false
   },
   "outputs": [],
   "source": [
    "def weighted_decision_tree_create(data, features, target, data_weights, current_depth = 1, max_depth = 10):\n",
    "    remaining_features = features[:] # Make a copy of the features.\n",
    "    target_values = data[target]\n",
    "    print \"--------------------------------------------------------------------\"\n",
    "    print \"Subtree, depth = %s (%s data points).\" % (current_depth, len(target_values))\n",
    "    \n",
    "    # Stopping condition 1. Error is 0.\n",
    "    if intermediate_node_weighted_mistakes(target_values, data_weights)[0] <= 1e-15:\n",
    "        print \"Stopping condition 1 reached.\"                \n",
    "        return create_leaf(target_values, data_weights)\n",
    "    \n",
    "    # Stopping condition 2. No more features.\n",
    "    if remaining_features == []:\n",
    "        print \"Stopping condition 2 reached.\"                \n",
    "        return create_leaf(target_values, data_weights)    \n",
    "    \n",
    "    # Additional stopping condition (limit tree depth)\n",
    "    if current_depth > max_depth:\n",
    "        print \"Reached maximum depth. Stopping for now.\"\n",
    "        return create_leaf(target_values, data_weights)\n",
    "    \n",
    "    splitting_feature = best_splitting_feature(data, features, target, data_weights)\n",
    "    remaining_features.remove(splitting_feature)\n",
    "        \n",
    "    left_split = data[data[splitting_feature] == 0]\n",
    "    right_split = data[data[splitting_feature] == 1]\n",
    "    \n",
    "    left_data_weights = data_weights[data[splitting_feature] == 0]\n",
    "    right_data_weights = data_weights[data[splitting_feature] == 1]\n",
    "    \n",
    "    print \"Split on feature %s. (%s, %s)\" % (\\\n",
    "              splitting_feature, len(left_split), len(right_split))\n",
    "    \n",
    "    # Create a leaf node if the split is \"perfect\"\n",
    "    if len(left_split) == len(data):\n",
    "        print \"Creating leaf node.\"\n",
    "        return create_leaf(left_split[target], data_weights)\n",
    "    if len(right_split) == len(data):\n",
    "        print \"Creating leaf node.\"\n",
    "        return create_leaf(right_split[target], data_weights)\n",
    "    \n",
    "    # Repeat (recurse) on left and right subtrees\n",
    "    left_tree = weighted_decision_tree_create(\n",
    "        left_split, remaining_features, target, left_data_weights, current_depth + 1, max_depth)\n",
    "    right_tree = weighted_decision_tree_create(\n",
    "        right_split, remaining_features, target, right_data_weights, current_depth + 1, max_depth)\n",
    "    \n",
    "    return {'is_leaf'          : False, \n",
    "            'prediction'       : None,\n",
    "            'splitting_feature': splitting_feature,\n",
    "            'left'             : left_tree, \n",
    "            'right'            : right_tree}"
   ]
  },
  {
   "cell_type": "markdown",
   "metadata": {},
   "source": [
    "Here is a recursive function to count the nodes in your tree:"
   ]
  },
  {
   "cell_type": "code",
   "execution_count": 14,
   "metadata": {
    "collapsed": false
   },
   "outputs": [],
   "source": [
    "def count_nodes(tree):\n",
    "    if tree['is_leaf']:\n",
    "        return 1\n",
    "    return 1 + count_nodes(tree['left']) + count_nodes(tree['right'])"
   ]
  },
  {
   "cell_type": "markdown",
   "metadata": {},
   "source": [
    "Run the following test code to check your implementation. Make sure you get **'Test passed'** before proceeding."
   ]
  },
  {
   "cell_type": "code",
   "execution_count": 15,
   "metadata": {
    "collapsed": false
   },
   "outputs": [
    {
     "name": "stdout",
     "output_type": "stream",
     "text": [
      "--------------------------------------------------------------------\n",
      "Subtree, depth = 1 (37224 data points).\n",
      "Split on feature term. 36 months. (9223, 28001)\n",
      "--------------------------------------------------------------------\n",
      "Subtree, depth = 2 (9223 data points).\n",
      "Split on feature grade.A. (9122, 101)\n",
      "--------------------------------------------------------------------\n",
      "Subtree, depth = 3 (9122 data points).\n",
      "Reached maximum depth. Stopping for now.\n",
      "--------------------------------------------------------------------\n",
      "Subtree, depth = 3 (101 data points).\n",
      "Reached maximum depth. Stopping for now.\n",
      "--------------------------------------------------------------------\n",
      "Subtree, depth = 2 (28001 data points).\n",
      "Split on feature grade.D. (23300, 4701)\n",
      "--------------------------------------------------------------------\n",
      "Subtree, depth = 3 (23300 data points).\n",
      "Reached maximum depth. Stopping for now.\n",
      "--------------------------------------------------------------------\n",
      "Subtree, depth = 3 (4701 data points).\n",
      "Reached maximum depth. Stopping for now.\n",
      "Test passed!\n"
     ]
    }
   ],
   "source": [
    "example_data_weights = graphlab.SArray([1.0 for i in range(len(train_data))])\n",
    "small_data_decision_tree = weighted_decision_tree_create(train_data, features, target,\n",
    "                                        example_data_weights, max_depth=2)\n",
    "if count_nodes(small_data_decision_tree) == 7:\n",
    "    print 'Test passed!'\n",
    "else:\n",
    "    print 'Test failed... try again!'\n",
    "    print 'Number of nodes found:', count_nodes(small_data_decision_tree)\n",
    "    print 'Number of nodes that should be there: 7' "
   ]
  },
  {
   "cell_type": "markdown",
   "metadata": {},
   "source": [
    "Let us take a quick look at what the trained tree is like. You should get something that looks like the following\n",
    "\n",
    "```\n",
    "{'is_leaf': False,\n",
    "    'left': {'is_leaf': False,\n",
    "        'left': {'is_leaf': True, 'prediction': -1, 'splitting_feature': None},\n",
    "        'prediction': None,\n",
    "        'right': {'is_leaf': True, 'prediction': 1, 'splitting_feature': None},\n",
    "        'splitting_feature': 'grade.A'\n",
    "     },\n",
    "    'prediction': None,\n",
    "    'right': {'is_leaf': False,\n",
    "        'left': {'is_leaf': True, 'prediction': 1, 'splitting_feature': None},\n",
    "        'prediction': None,\n",
    "        'right': {'is_leaf': True, 'prediction': -1, 'splitting_feature': None},\n",
    "        'splitting_feature': 'grade.D'\n",
    "     },\n",
    "     'splitting_feature': 'term. 36 months'\n",
    "}```"
   ]
  },
  {
   "cell_type": "code",
   "execution_count": 16,
   "metadata": {
    "collapsed": false
   },
   "outputs": [
    {
     "data": {
      "text/plain": [
       "{'is_leaf': False,\n",
       " 'left': {'is_leaf': False,\n",
       "  'left': {'is_leaf': True, 'prediction': -1, 'splitting_feature': None},\n",
       "  'prediction': None,\n",
       "  'right': {'is_leaf': True, 'prediction': 1, 'splitting_feature': None},\n",
       "  'splitting_feature': 'grade.A'},\n",
       " 'prediction': None,\n",
       " 'right': {'is_leaf': False,\n",
       "  'left': {'is_leaf': True, 'prediction': 1, 'splitting_feature': None},\n",
       "  'prediction': None,\n",
       "  'right': {'is_leaf': True, 'prediction': -1, 'splitting_feature': None},\n",
       "  'splitting_feature': 'grade.D'},\n",
       " 'splitting_feature': 'term. 36 months'}"
      ]
     },
     "execution_count": 16,
     "metadata": {},
     "output_type": "execute_result"
    }
   ],
   "source": [
    "small_data_decision_tree"
   ]
  },
  {
   "cell_type": "markdown",
   "metadata": {},
   "source": [
    "### Making predictions with a weighted decision tree"
   ]
  },
  {
   "cell_type": "markdown",
   "metadata": {},
   "source": [
    "We give you a function that classifies one data point. It can also return the probability if you want to play around with that as well."
   ]
  },
  {
   "cell_type": "code",
   "execution_count": 17,
   "metadata": {
    "collapsed": true
   },
   "outputs": [],
   "source": [
    "def classify(tree, x, annotate = False):   \n",
    "    # If the node is a leaf node.\n",
    "    if tree['is_leaf']:\n",
    "        if annotate: \n",
    "            print \"At leaf, predicting %s\" % tree['prediction']\n",
    "        return tree['prediction'] \n",
    "    else:\n",
    "        # Split on feature.\n",
    "        split_feature_value = x[tree['splitting_feature']]\n",
    "        if annotate: \n",
    "            print \"Split on %s = %s\" % (tree['splitting_feature'], split_feature_value)\n",
    "        if split_feature_value == 0:\n",
    "            return classify(tree['left'], x, annotate)\n",
    "        else:\n",
    "            return classify(tree['right'], x, annotate)"
   ]
  },
  {
   "cell_type": "markdown",
   "metadata": {},
   "source": [
    "### Evaluating the tree\n",
    "\n",
    "Now, we will write a function to evaluate a decision tree by computing the classification error of the tree on the given dataset.\n",
    "\n",
    "Again, recall that the **classification error** is defined as follows:\n",
    "$$\n",
    "\\mbox{classification error} = \\frac{\\mbox{# mistakes}}{\\mbox{# all data points}}\n",
    "$$\n",
    "\n",
    "The function called **evaluate_classification_error** takes in as input:\n",
    "1. `tree` (as described above)\n",
    "2. `data` (an SFrame)\n",
    "\n",
    "The function does not change because of adding data point weights."
   ]
  },
  {
   "cell_type": "code",
   "execution_count": 18,
   "metadata": {
    "collapsed": true
   },
   "outputs": [],
   "source": [
    "def evaluate_classification_error(tree, data):\n",
    "    # Apply the classify(tree, x) to each row in your data\n",
    "    prediction = data.apply(lambda x: classify(tree, x))\n",
    "    \n",
    "    # Once you've made the predictions, calculate the classification error\n",
    "    return (prediction != data[target]).sum() / float(len(data))"
   ]
  },
  {
   "cell_type": "code",
   "execution_count": 19,
   "metadata": {
    "collapsed": false
   },
   "outputs": [
    {
     "data": {
      "text/plain": [
       "0.3981042654028436"
      ]
     },
     "execution_count": 19,
     "metadata": {},
     "output_type": "execute_result"
    }
   ],
   "source": [
    "evaluate_classification_error(small_data_decision_tree, test_data)"
   ]
  },
  {
   "cell_type": "markdown",
   "metadata": {},
   "source": [
    "### Example: Training a weighted decision tree\n",
    "\n",
    "To build intuition on how weighted data points affect the tree being built, consider the following:\n",
    "\n",
    "Suppose we only care about making good predictions for the **first 10 and last 10 items** in `train_data`, we assign weights:\n",
    "* 1 to the last 10 items \n",
    "* 1 to the first 10 items \n",
    "* and 0 to the rest. \n",
    "\n",
    "Let us fit a weighted decision tree with `max_depth = 2`."
   ]
  },
  {
   "cell_type": "code",
   "execution_count": 20,
   "metadata": {
    "collapsed": false
   },
   "outputs": [
    {
     "name": "stdout",
     "output_type": "stream",
     "text": [
      "--------------------------------------------------------------------\n",
      "Subtree, depth = 1 (37224 data points).\n",
      "Split on feature home_ownership.RENT. (20514, 16710)\n",
      "--------------------------------------------------------------------\n",
      "Subtree, depth = 2 (20514 data points).\n",
      "Split on feature grade.F. (19613, 901)\n",
      "--------------------------------------------------------------------\n",
      "Subtree, depth = 3 (19613 data points).\n",
      "Reached maximum depth. Stopping for now.\n",
      "--------------------------------------------------------------------\n",
      "Subtree, depth = 3 (901 data points).\n",
      "Stopping condition 1 reached.\n",
      "--------------------------------------------------------------------\n",
      "Subtree, depth = 2 (16710 data points).\n",
      "Split on feature grade.D. (13315, 3395)\n",
      "--------------------------------------------------------------------\n",
      "Subtree, depth = 3 (13315 data points).\n",
      "Stopping condition 1 reached.\n",
      "--------------------------------------------------------------------\n",
      "Subtree, depth = 3 (3395 data points).\n",
      "Stopping condition 1 reached.\n"
     ]
    }
   ],
   "source": [
    "# Assign weights\n",
    "example_data_weights = graphlab.SArray([1.] * 10 + [0.]*(len(train_data) - 20) + [1.] * 10)\n",
    "\n",
    "# Train a weighted decision tree model.\n",
    "small_data_decision_tree_subset_20 = weighted_decision_tree_create(train_data, features, target,\n",
    "                         example_data_weights, max_depth=2)"
   ]
  },
  {
   "cell_type": "markdown",
   "metadata": {},
   "source": [
    "Now, we will compute the classification error on the `subset_20`, i.e. the subset of data points whose weight is 1 (namely the first and last 10 data points)."
   ]
  },
  {
   "cell_type": "code",
   "execution_count": 21,
   "metadata": {
    "collapsed": false
   },
   "outputs": [
    {
     "data": {
      "text/plain": [
       "0.05"
      ]
     },
     "execution_count": 21,
     "metadata": {},
     "output_type": "execute_result"
    }
   ],
   "source": [
    "subset_20 = train_data.head(10).append(train_data.tail(10))\n",
    "evaluate_classification_error(small_data_decision_tree_subset_20, subset_20)"
   ]
  },
  {
   "cell_type": "markdown",
   "metadata": {},
   "source": [
    "Now, let us compare the classification error of the model `small_data_decision_tree_subset_20` on the entire test set `train_data`:"
   ]
  },
  {
   "cell_type": "code",
   "execution_count": 22,
   "metadata": {
    "collapsed": false
   },
   "outputs": [
    {
     "data": {
      "text/plain": [
       "0.48124865678057166"
      ]
     },
     "execution_count": 22,
     "metadata": {},
     "output_type": "execute_result"
    }
   ],
   "source": [
    "evaluate_classification_error(small_data_decision_tree_subset_20, train_data)"
   ]
  },
  {
   "cell_type": "markdown",
   "metadata": {},
   "source": [
    "The model `small_data_decision_tree_subset_20` performs **a lot** better on `subset_20` than on `train_data`.\n",
    "\n",
    "So, what does this mean?\n",
    "* The points with higher weights are the ones that are more important during the training process of the weighted decision tree.\n",
    "* The points with zero weights are basically ignored during training.\n",
    "\n",
    "**Quiz Question**: Will you get the same model as `small_data_decision_tree_subset_20` if you trained a decision tree with only the 20 data points with non-zero weights from the set of points in `subset_20`?"
   ]
  },
  {
   "cell_type": "markdown",
   "metadata": {},
   "source": [
    "# Implementing your own Adaboost (on decision stumps)"
   ]
  },
  {
   "cell_type": "markdown",
   "metadata": {},
   "source": [
    "Now that we have a weighted decision tree working, it takes only a bit of work to implement Adaboost. For the sake of simplicity, let us stick with **decision tree stumps** by training trees with **`max_depth=1`**."
   ]
  },
  {
   "cell_type": "markdown",
   "metadata": {},
   "source": [
    "Recall from the lecture the procedure for Adaboost:\n",
    "\n",
    "1\\. Start with unweighted data with $\\alpha_j = 1$\n",
    "\n",
    "2\\. For t = 1,...T:\n",
    "  * Learn $f_t(x)$ with data weights $\\alpha_j$\n",
    "  * Compute coefficient $\\hat{w}_t$:\n",
    "     $$\\hat{w}_t = \\frac{1}{2}\\ln{\\left(\\frac{1- \\mbox{E}(\\mathbf{\\alpha}, \\mathbf{\\hat{y}})}{\\mbox{E}(\\mathbf{\\alpha}, \\mathbf{\\hat{y}})}\\right)}$$\n",
    "  * Re-compute weights $\\alpha_j$:\n",
    "     $$\\alpha_j \\gets \\begin{cases}\n",
    "     \\alpha_j \\exp{(-\\hat{w}_t)} & \\text{ if }f_t(x_j) = y_j\\\\\n",
    "     \\alpha_j \\exp{(\\hat{w}_t)} & \\text{ if }f_t(x_j) \\neq y_j\n",
    "     \\end{cases}$$\n",
    "  * Normalize weights $\\alpha_j$:\n",
    "      $$\\alpha_j \\gets \\frac{\\alpha_j}{\\sum_{i=1}^{N}{\\alpha_i}} $$\n",
    "  \n",
    "Complete the skeleton for the following code to implement **adaboost_with_tree_stumps**. Fill in the places with `YOUR CODE HERE`."
   ]
  },
  {
   "cell_type": "code",
   "execution_count": 57,
   "metadata": {
    "collapsed": false
   },
   "outputs": [],
   "source": [
    "from math import log\n",
    "from math import exp\n",
    "\n",
    "def adaboost_with_tree_stumps(data, features, target, num_tree_stumps):\n",
    "    # start with unweighted data\n",
    "    alpha = graphlab.SArray([1.]*len(data))\n",
    "    weights = []\n",
    "    tree_stumps = []\n",
    "    target_values = data[target]\n",
    "    \n",
    "    for t in xrange(num_tree_stumps):\n",
    "        print '====================================================='\n",
    "        print 'Adaboost Iteration %d' % t\n",
    "        print '====================================================='        \n",
    "        # Learn a weighted decision tree stump. Use max_depth=1\n",
    "        tree_stump = weighted_decision_tree_create(data, features, target, data_weights=alpha, max_depth=1)\n",
    "        tree_stumps.append(tree_stump)\n",
    "        \n",
    "        # Make predictions\n",
    "        predictions = data.apply(lambda x: classify(tree_stump, x))\n",
    "        \n",
    "        # Produce a Boolean array indicating whether\n",
    "        # each data point was correctly classified\n",
    "        is_correct = predictions == target_values\n",
    "        is_wrong   = predictions != target_values\n",
    "        \n",
    "        # Compute weighted error\n",
    "        # YOUR CODE HERE\n",
    "        weighted_error = sum(alpha[is_wrong])/float(sum(alpha))\n",
    "\n",
    "        # Compute model coefficient using weighted error\n",
    "        # YOUR CODE HERE\n",
    "        weight =  log((1-weighted_error)/weighted_error)/2.0\n",
    "        weights.append(weight)\n",
    "        \n",
    "        # Adjust weights on data point\n",
    "        adjustment = is_correct.apply(lambda is_correct : exp(-weight) if is_correct else exp(weight))\n",
    "        # Scale alpha by multiplying by adjustment \n",
    "        # Then normalize data points weights\n",
    "        ## YOUR CODE HERE \n",
    "        alpha = alpha*adjustment\n",
    "        alpha_sum = sum(alpha)\n",
    "        alpha = alpha.apply(lambda x:  x/float(alpha_sum))\n",
    "    return weights, tree_stumps"
   ]
  },
  {
   "cell_type": "markdown",
   "metadata": {},
   "source": [
    "### Checking your Adaboost code\n",
    "\n",
    "Train an ensemble of **two** tree stumps and see which features those stumps split on. We will run the algorithm with the following parameters:\n",
    "* `train_data`\n",
    "* `features`\n",
    "* `target`\n",
    "* `num_tree_stumps = 2`"
   ]
  },
  {
   "cell_type": "code",
   "execution_count": 51,
   "metadata": {
    "collapsed": false
   },
   "outputs": [
    {
     "name": "stdout",
     "output_type": "stream",
     "text": [
      "=====================================================\n",
      "Adaboost Iteration 0\n",
      "=====================================================\n",
      "--------------------------------------------------------------------\n",
      "Subtree, depth = 1 (37224 data points).\n",
      "Split on feature term. 36 months. (9223, 28001)\n",
      "--------------------------------------------------------------------\n",
      "Subtree, depth = 2 (9223 data points).\n",
      "Reached maximum depth. Stopping for now.\n",
      "--------------------------------------------------------------------\n",
      "Subtree, depth = 2 (28001 data points).\n",
      "Reached maximum depth. Stopping for now.\n",
      "is_correct\n",
      "[1L, 1L, 1L, 0L, 0L, 0L, 0L, 0L, 0L, 0L, 1L, 1L, 0L, 1L, 0L, 0L, 0L, 1L, 0L, 0L, 0L, 1L, 0L, 0L, 0L, 0L, 0L, 0L, 0L, 0L, 0L, 0L, 1L, 1L, 0L, 0L, 0L, 0L, 1L, 1L, 0L, 1L, 1L, 1L, 1L, 0L, 0L, 0L, 0L, 0L, 0L, 0L, 0L, 1L, 0L, 1L, 0L, 1L, 0L, 0L, 1L, 0L, 0L, 0L, 0L, 0L, 0L, 1L, 1L, 1L, 0L, 0L, 1L, 0L, 0L, 1L, 0L, 1L, 0L, 0L, 0L, 0L, 0L, 1L, 1L, 0L, 0L, 0L, 0L, 1L, 0L, 1L, 0L, 0L, 1L, 1L, 0L, 0L, 0L, 0L, ... ]\n",
      "21529\n",
      "is_wrong\n",
      "[0L, 0L, 0L, 1L, 1L, 1L, 1L, 1L, 1L, 1L, 0L, 0L, 1L, 0L, 1L, 1L, 1L, 0L, 1L, 1L, 1L, 0L, 1L, 1L, 1L, 1L, 1L, 1L, 1L, 1L, 1L, 1L, 0L, 0L, 1L, 1L, 1L, 1L, 0L, 0L, 1L, 0L, 0L, 0L, 0L, 1L, 1L, 1L, 1L, 1L, 1L, 1L, 1L, 0L, 1L, 0L, 1L, 0L, 1L, 1L, 0L, 1L, 1L, 1L, 1L, 1L, 1L, 0L, 0L, 0L, 1L, 1L, 0L, 1L, 1L, 0L, 1L, 0L, 1L, 1L, 1L, 1L, 1L, 0L, 0L, 1L, 1L, 1L, 1L, 0L, 1L, 0L, 1L, 1L, 0L, 0L, 1L, 1L, 1L, 1L, ... ]\n",
      "15695\n",
      "weighted_error\n",
      "0.421636578551\n",
      "weight\n",
      "0.158029336593\n",
      "adjustment\n",
      "[0.8538247332926777, 0.8538247332926777, 0.8538247332926777, 1.171200553237213, 1.171200553237213, 1.171200553237213, 1.171200553237213, 1.171200553237213, 1.171200553237213, 1.171200553237213, 0.8538247332926777, 0.8538247332926777, 1.171200553237213, 0.8538247332926777, 1.171200553237213, 1.171200553237213, 1.171200553237213, 0.8538247332926777, 1.171200553237213, 1.171200553237213, 1.171200553237213, 0.8538247332926777, 1.171200553237213, 1.171200553237213, 1.171200553237213, 1.171200553237213, 1.171200553237213, 1.171200553237213, 1.171200553237213, 1.171200553237213, 1.171200553237213, 1.171200553237213, 0.8538247332926777, 0.8538247332926777, 1.171200553237213, 1.171200553237213, 1.171200553237213, 1.171200553237213, 0.8538247332926777, 0.8538247332926777, 1.171200553237213, 0.8538247332926777, 0.8538247332926777, 0.8538247332926777, 0.8538247332926777, 1.171200553237213, 1.171200553237213, 1.171200553237213, 1.171200553237213, 1.171200553237213, 1.171200553237213, 1.171200553237213, 1.171200553237213, 0.8538247332926777, 1.171200553237213, 0.8538247332926777, 1.171200553237213, 0.8538247332926777, 1.171200553237213, 1.171200553237213, 0.8538247332926777, 1.171200553237213, 1.171200553237213, 1.171200553237213, 1.171200553237213, 1.171200553237213, 1.171200553237213, 0.8538247332926777, 0.8538247332926777, 0.8538247332926777, 1.171200553237213, 1.171200553237213, 0.8538247332926777, 1.171200553237213, 1.171200553237213, 0.8538247332926777, 1.171200553237213, 0.8538247332926777, 1.171200553237213, 1.171200553237213, 1.171200553237213, 1.171200553237213, 1.171200553237213, 0.8538247332926777, 0.8538247332926777, 1.171200553237213, 1.171200553237213, 1.171200553237213, 1.171200553237213, 0.8538247332926777, 1.171200553237213, 0.8538247332926777, 1.171200553237213, 1.171200553237213, 0.8538247332926777, 0.8538247332926777, 1.171200553237213, 1.171200553237213, 1.171200553237213, 1.171200553237213, ... ]\n",
      "[0.8538247332926777, 0.8538247332926777, 0.8538247332926777, 1.171200553237213, 1.171200553237213, 1.171200553237213, 1.171200553237213, 1.171200553237213, 1.171200553237213, 1.171200553237213, 0.8538247332926777, 0.8538247332926777, 1.171200553237213, 0.8538247332926777, 1.171200553237213, 1.171200553237213, 1.171200553237213, 0.8538247332926777, 1.171200553237213, 1.171200553237213, 1.171200553237213, 0.8538247332926777, 1.171200553237213, 1.171200553237213, 1.171200553237213, 1.171200553237213, 1.171200553237213, 1.171200553237213, 1.171200553237213, 1.171200553237213, 1.171200553237213, 1.171200553237213, 0.8538247332926777, 0.8538247332926777, 1.171200553237213, 1.171200553237213, 1.171200553237213, 1.171200553237213, 0.8538247332926777, 0.8538247332926777, 1.171200553237213, 0.8538247332926777, 0.8538247332926777, 0.8538247332926777, 0.8538247332926777, 1.171200553237213, 1.171200553237213, 1.171200553237213, 1.171200553237213, 1.171200553237213, 1.171200553237213, 1.171200553237213, 1.171200553237213, 0.8538247332926777, 1.171200553237213, 0.8538247332926777, 1.171200553237213, 0.8538247332926777, 1.171200553237213, 1.171200553237213, 0.8538247332926777, 1.171200553237213, 1.171200553237213, 1.171200553237213, 1.171200553237213, 1.171200553237213, 1.171200553237213, 0.8538247332926777, 0.8538247332926777, 0.8538247332926777, 1.171200553237213, 1.171200553237213, 0.8538247332926777, 1.171200553237213, 1.171200553237213, 0.8538247332926777, 1.171200553237213, 0.8538247332926777, 1.171200553237213, 1.171200553237213, 1.171200553237213, 1.171200553237213, 1.171200553237213, 0.8538247332926777, 0.8538247332926777, 1.171200553237213, 1.171200553237213, 1.171200553237213, 1.171200553237213, 0.8538247332926777, 1.171200553237213, 0.8538247332926777, 1.171200553237213, 1.171200553237213, 0.8538247332926777, 0.8538247332926777, 1.171200553237213, 1.171200553237213, 1.171200553237213, 1.171200553237213, ... ]\n",
      "[2.3224487900035514e-05, 2.3224487900035514e-05, 2.3224487900035514e-05, 3.1857279388331606e-05, 3.1857279388331606e-05, 3.1857279388331606e-05, 3.1857279388331606e-05, 3.1857279388331606e-05, 3.1857279388331606e-05, 3.1857279388331606e-05, 2.3224487900035514e-05, 2.3224487900035514e-05, 3.1857279388331606e-05, 2.3224487900035514e-05, 3.1857279388331606e-05, 3.1857279388331606e-05, 3.1857279388331606e-05, 2.3224487900035514e-05, 3.1857279388331606e-05, 3.1857279388331606e-05, 3.1857279388331606e-05, 2.3224487900035514e-05, 3.1857279388331606e-05, 3.1857279388331606e-05, 3.1857279388331606e-05, 3.1857279388331606e-05, 3.1857279388331606e-05, 3.1857279388331606e-05, 3.1857279388331606e-05, 3.1857279388331606e-05, 3.1857279388331606e-05, 3.1857279388331606e-05, 2.3224487900035514e-05, 2.3224487900035514e-05, 3.1857279388331606e-05, 3.1857279388331606e-05, 3.1857279388331606e-05, 3.1857279388331606e-05, 2.3224487900035514e-05, 2.3224487900035514e-05, 3.1857279388331606e-05, 2.3224487900035514e-05, 2.3224487900035514e-05, 2.3224487900035514e-05, 2.3224487900035514e-05, 3.1857279388331606e-05, 3.1857279388331606e-05, 3.1857279388331606e-05, 3.1857279388331606e-05, 3.1857279388331606e-05, 3.1857279388331606e-05, 3.1857279388331606e-05, 3.1857279388331606e-05, 2.3224487900035514e-05, 3.1857279388331606e-05, 2.3224487900035514e-05, 3.1857279388331606e-05, 2.3224487900035514e-05, 3.1857279388331606e-05, 3.1857279388331606e-05, 2.3224487900035514e-05, 3.1857279388331606e-05, 3.1857279388331606e-05, 3.1857279388331606e-05, 3.1857279388331606e-05, 3.1857279388331606e-05, 3.1857279388331606e-05, 2.3224487900035514e-05, 2.3224487900035514e-05, 2.3224487900035514e-05, 3.1857279388331606e-05, 3.1857279388331606e-05, 2.3224487900035514e-05, 3.1857279388331606e-05, 3.1857279388331606e-05, 2.3224487900035514e-05, 3.1857279388331606e-05, 2.3224487900035514e-05, 3.1857279388331606e-05, 3.1857279388331606e-05, 3.1857279388331606e-05, 3.1857279388331606e-05, 3.1857279388331606e-05, 2.3224487900035514e-05, 2.3224487900035514e-05, 3.1857279388331606e-05, 3.1857279388331606e-05, 3.1857279388331606e-05, 3.1857279388331606e-05, 2.3224487900035514e-05, 3.1857279388331606e-05, 2.3224487900035514e-05, 3.1857279388331606e-05, 3.1857279388331606e-05, 2.3224487900035514e-05, 2.3224487900035514e-05, 3.1857279388331606e-05, 3.1857279388331606e-05, 3.1857279388331606e-05, 3.1857279388331606e-05, ... ]\n",
      "=====================================================\n",
      "Adaboost Iteration 1\n",
      "=====================================================\n",
      "--------------------------------------------------------------------\n",
      "Subtree, depth = 1 (37224 data points).\n",
      "Split on feature grade.A. (32094, 5130)\n",
      "--------------------------------------------------------------------\n",
      "Subtree, depth = 2 (32094 data points).\n",
      "Reached maximum depth. Stopping for now.\n",
      "--------------------------------------------------------------------\n",
      "Subtree, depth = 2 (5130 data points).\n",
      "Reached maximum depth. Stopping for now.\n",
      "is_correct\n",
      "[1L, 1L, 1L, 1L, 1L, 1L, 1L, 1L, 1L, 1L, 1L, 1L, 1L, 1L, 1L, 1L, 1L, 1L, 1L, 0L, 1L, 1L, 1L, 0L, 1L, 1L, 1L, 1L, 1L, 1L, 1L, 1L, 1L, 1L, 1L, 1L, 1L, 0L, 1L, 1L, 0L, 1L, 1L, 1L, 1L, 1L, 1L, 1L, 0L, 1L, 1L, 0L, 1L, 1L, 1L, 0L, 1L, 1L, 1L, 1L, 1L, 1L, 1L, 1L, 1L, 0L, 1L, 0L, 1L, 1L, 1L, 1L, 1L, 0L, 1L, 1L, 1L, 1L, 1L, 1L, 0L, 0L, 1L, 1L, 1L, 0L, 1L, 1L, 1L, 1L, 1L, 1L, 1L, 1L, 1L, 1L, 1L, 1L, 1L, 1L, ... ]\n",
      "21090\n",
      "is_wrong\n",
      "[0L, 0L, 0L, 0L, 0L, 0L, 0L, 0L, 0L, 0L, 0L, 0L, 0L, 0L, 0L, 0L, 0L, 0L, 0L, 1L, 0L, 0L, 0L, 1L, 0L, 0L, 0L, 0L, 0L, 0L, 0L, 0L, 0L, 0L, 0L, 0L, 0L, 1L, 0L, 0L, 1L, 0L, 0L, 0L, 0L, 0L, 0L, 0L, 1L, 0L, 0L, 1L, 0L, 0L, 0L, 1L, 0L, 0L, 0L, 0L, 0L, 0L, 0L, 0L, 0L, 1L, 0L, 1L, 0L, 0L, 0L, 0L, 0L, 1L, 0L, 0L, 0L, 0L, 0L, 0L, 1L, 1L, 0L, 0L, 0L, 1L, 0L, 0L, 0L, 0L, 0L, 0L, 0L, 0L, 0L, 0L, 0L, 0L, 0L, 0L, ... ]\n",
      "16134\n",
      "weighted_error\n",
      "0.412498248915\n",
      "weight\n",
      "0.176823632936\n",
      "adjustment\n",
      "[0.8379275543139967, 0.8379275543139967, 0.8379275543139967, 0.8379275543139967, 0.8379275543139967, 0.8379275543139967, 0.8379275543139967, 0.8379275543139967, 0.8379275543139967, 0.8379275543139967, 0.8379275543139967, 0.8379275543139967, 0.8379275543139967, 0.8379275543139967, 0.8379275543139967, 0.8379275543139967, 0.8379275543139967, 0.8379275543139967, 0.8379275543139967, 1.193420594479305, 0.8379275543139967, 0.8379275543139967, 0.8379275543139967, 1.193420594479305, 0.8379275543139967, 0.8379275543139967, 0.8379275543139967, 0.8379275543139967, 0.8379275543139967, 0.8379275543139967, 0.8379275543139967, 0.8379275543139967, 0.8379275543139967, 0.8379275543139967, 0.8379275543139967, 0.8379275543139967, 0.8379275543139967, 1.193420594479305, 0.8379275543139967, 0.8379275543139967, 1.193420594479305, 0.8379275543139967, 0.8379275543139967, 0.8379275543139967, 0.8379275543139967, 0.8379275543139967, 0.8379275543139967, 0.8379275543139967, 1.193420594479305, 0.8379275543139967, 0.8379275543139967, 1.193420594479305, 0.8379275543139967, 0.8379275543139967, 0.8379275543139967, 1.193420594479305, 0.8379275543139967, 0.8379275543139967, 0.8379275543139967, 0.8379275543139967, 0.8379275543139967, 0.8379275543139967, 0.8379275543139967, 0.8379275543139967, 0.8379275543139967, 1.193420594479305, 0.8379275543139967, 1.193420594479305, 0.8379275543139967, 0.8379275543139967, 0.8379275543139967, 0.8379275543139967, 0.8379275543139967, 1.193420594479305, 0.8379275543139967, 0.8379275543139967, 0.8379275543139967, 0.8379275543139967, 0.8379275543139967, 0.8379275543139967, 1.193420594479305, 1.193420594479305, 0.8379275543139967, 0.8379275543139967, 0.8379275543139967, 1.193420594479305, 0.8379275543139967, 0.8379275543139967, 0.8379275543139967, 0.8379275543139967, 0.8379275543139967, 0.8379275543139967, 0.8379275543139967, 0.8379275543139967, 0.8379275543139967, 0.8379275543139967, 0.8379275543139967, 0.8379275543139967, 0.8379275543139967, 0.8379275543139967, ... ]\n",
      "[1.9460438346271766e-05, 1.9460438346271766e-05, 1.9460438346271766e-05, 2.6694092204962397e-05, 2.6694092204962397e-05, 2.6694092204962397e-05, 2.6694092204962397e-05, 2.6694092204962397e-05, 2.6694092204962397e-05, 2.6694092204962397e-05, 1.9460438346271766e-05, 1.9460438346271766e-05, 2.6694092204962397e-05, 1.9460438346271766e-05, 2.6694092204962397e-05, 2.6694092204962397e-05, 2.6694092204962397e-05, 1.9460438346271766e-05, 2.6694092204962397e-05, 3.801913330611601e-05, 2.6694092204962397e-05, 1.9460438346271766e-05, 2.6694092204962397e-05, 3.801913330611601e-05, 2.6694092204962397e-05, 2.6694092204962397e-05, 2.6694092204962397e-05, 2.6694092204962397e-05, 2.6694092204962397e-05, 2.6694092204962397e-05, 2.6694092204962397e-05, 2.6694092204962397e-05, 1.9460438346271766e-05, 1.9460438346271766e-05, 2.6694092204962397e-05, 2.6694092204962397e-05, 2.6694092204962397e-05, 3.801913330611601e-05, 1.9460438346271766e-05, 1.9460438346271766e-05, 3.801913330611601e-05, 1.9460438346271766e-05, 1.9460438346271766e-05, 1.9460438346271766e-05, 1.9460438346271766e-05, 2.6694092204962397e-05, 2.6694092204962397e-05, 2.6694092204962397e-05, 3.801913330611601e-05, 2.6694092204962397e-05, 2.6694092204962397e-05, 3.801913330611601e-05, 2.6694092204962397e-05, 1.9460438346271766e-05, 2.6694092204962397e-05, 2.771658215613781e-05, 2.6694092204962397e-05, 1.9460438346271766e-05, 2.6694092204962397e-05, 2.6694092204962397e-05, 1.9460438346271766e-05, 2.6694092204962397e-05, 2.6694092204962397e-05, 2.6694092204962397e-05, 2.6694092204962397e-05, 3.801913330611601e-05, 2.6694092204962397e-05, 2.771658215613781e-05, 1.9460438346271766e-05, 1.9460438346271766e-05, 2.6694092204962397e-05, 2.6694092204962397e-05, 1.9460438346271766e-05, 3.801913330611601e-05, 2.6694092204962397e-05, 1.9460438346271766e-05, 2.6694092204962397e-05, 1.9460438346271766e-05, 2.6694092204962397e-05, 2.6694092204962397e-05, 3.801913330611601e-05, 3.801913330611601e-05, 2.6694092204962397e-05, 1.9460438346271766e-05, 1.9460438346271766e-05, 3.801913330611601e-05, 2.6694092204962397e-05, 2.6694092204962397e-05, 2.6694092204962397e-05, 1.9460438346271766e-05, 2.6694092204962397e-05, 1.9460438346271766e-05, 2.6694092204962397e-05, 2.6694092204962397e-05, 1.9460438346271766e-05, 1.9460438346271766e-05, 2.6694092204962397e-05, 2.6694092204962397e-05, 2.6694092204962397e-05, 2.6694092204962397e-05, ... ]\n",
      "[1.9765462704704058e-05, 1.9765462704704058e-05, 1.9765462704704058e-05, 2.7112497392135943e-05, 2.7112497392135943e-05, 2.7112497392135943e-05, 2.7112497392135943e-05, 2.7112497392135943e-05, 2.7112497392135943e-05, 2.7112497392135943e-05, 1.9765462704704058e-05, 1.9765462704704058e-05, 2.7112497392135943e-05, 1.9765462704704058e-05, 2.7112497392135943e-05, 2.7112497392135943e-05, 2.7112497392135943e-05, 1.9765462704704058e-05, 2.7112497392135943e-05, 3.861504803005498e-05, 2.7112497392135943e-05, 1.9765462704704058e-05, 2.7112497392135943e-05, 3.861504803005498e-05, 2.7112497392135943e-05, 2.7112497392135943e-05, 2.7112497392135943e-05, 2.7112497392135943e-05, 2.7112497392135943e-05, 2.7112497392135943e-05, 2.7112497392135943e-05, 2.7112497392135943e-05, 1.9765462704704058e-05, 1.9765462704704058e-05, 2.7112497392135943e-05, 2.7112497392135943e-05, 2.7112497392135943e-05, 3.861504803005498e-05, 1.9765462704704058e-05, 1.9765462704704058e-05, 3.861504803005498e-05, 1.9765462704704058e-05, 1.9765462704704058e-05, 1.9765462704704058e-05, 1.9765462704704058e-05, 2.7112497392135943e-05, 2.7112497392135943e-05, 2.7112497392135943e-05, 3.861504803005498e-05, 2.7112497392135943e-05, 2.7112497392135943e-05, 3.861504803005498e-05, 2.7112497392135943e-05, 1.9765462704704058e-05, 2.7112497392135943e-05, 2.815101392687598e-05, 2.7112497392135943e-05, 1.9765462704704058e-05, 2.7112497392135943e-05, 2.7112497392135943e-05, 1.9765462704704058e-05, 2.7112497392135943e-05, 2.7112497392135943e-05, 2.7112497392135943e-05, 2.7112497392135943e-05, 3.861504803005498e-05, 2.7112497392135943e-05, 2.815101392687598e-05, 1.9765462704704058e-05, 1.9765462704704058e-05, 2.7112497392135943e-05, 2.7112497392135943e-05, 1.9765462704704058e-05, 3.861504803005498e-05, 2.7112497392135943e-05, 1.9765462704704058e-05, 2.7112497392135943e-05, 1.9765462704704058e-05, 2.7112497392135943e-05, 2.7112497392135943e-05, 3.861504803005498e-05, 3.861504803005498e-05, 2.7112497392135943e-05, 1.9765462704704058e-05, 1.9765462704704058e-05, 3.861504803005498e-05, 2.7112497392135943e-05, 2.7112497392135943e-05, 2.7112497392135943e-05, 1.9765462704704058e-05, 2.7112497392135943e-05, 1.9765462704704058e-05, 2.7112497392135943e-05, 2.7112497392135943e-05, 1.9765462704704058e-05, 1.9765462704704058e-05, 2.7112497392135943e-05, 2.7112497392135943e-05, 2.7112497392135943e-05, 2.7112497392135943e-05, ... ]\n"
     ]
    }
   ],
   "source": [
    "stump_weights, tree_stumps = adaboost_with_tree_stumps(train_data, features, target, num_tree_stumps=2)"
   ]
  },
  {
   "cell_type": "code",
   "execution_count": 52,
   "metadata": {
    "collapsed": true
   },
   "outputs": [],
   "source": [
    "def print_stump(tree):\n",
    "    split_name = tree['splitting_feature'] # split_name is something like 'term. 36 months'\n",
    "    if split_name is None:\n",
    "        print \"(leaf, label: %s)\" % tree['prediction']\n",
    "        return None\n",
    "    split_feature, split_value = split_name.split('.')\n",
    "    print '                       root'\n",
    "    print '         |---------------|----------------|'\n",
    "    print '         |                                |'\n",
    "    print '         |                                |'\n",
    "    print '         |                                |'\n",
    "    print '  [{0} == 0]{1}[{0} == 1]    '.format(split_name, ' '*(27-len(split_name)))\n",
    "    print '         |                                |'\n",
    "    print '         |                                |'\n",
    "    print '         |                                |'\n",
    "    print '    (%s)                 (%s)' \\\n",
    "        % (('leaf, label: ' + str(tree['left']['prediction']) if tree['left']['is_leaf'] else 'subtree'),\n",
    "           ('leaf, label: ' + str(tree['right']['prediction']) if tree['right']['is_leaf'] else 'subtree'))"
   ]
  },
  {
   "cell_type": "markdown",
   "metadata": {},
   "source": [
    "Here is what the first stump looks like:"
   ]
  },
  {
   "cell_type": "code",
   "execution_count": 53,
   "metadata": {
    "collapsed": false
   },
   "outputs": [
    {
     "name": "stdout",
     "output_type": "stream",
     "text": [
      "                       root\n",
      "         |---------------|----------------|\n",
      "         |                                |\n",
      "         |                                |\n",
      "         |                                |\n",
      "  [term. 36 months == 0]            [term. 36 months == 1]    \n",
      "         |                                |\n",
      "         |                                |\n",
      "         |                                |\n",
      "    (leaf, label: -1)                 (leaf, label: 1)\n"
     ]
    }
   ],
   "source": [
    "print_stump(tree_stumps[0])"
   ]
  },
  {
   "cell_type": "markdown",
   "metadata": {},
   "source": [
    "Here is what the next stump looks like:"
   ]
  },
  {
   "cell_type": "code",
   "execution_count": 54,
   "metadata": {
    "collapsed": false
   },
   "outputs": [
    {
     "name": "stdout",
     "output_type": "stream",
     "text": [
      "                       root\n",
      "         |---------------|----------------|\n",
      "         |                                |\n",
      "         |                                |\n",
      "         |                                |\n",
      "  [grade.A == 0]                    [grade.A == 1]    \n",
      "         |                                |\n",
      "         |                                |\n",
      "         |                                |\n",
      "    (leaf, label: -1)                 (leaf, label: 1)\n"
     ]
    }
   ],
   "source": [
    "print_stump(tree_stumps[1])"
   ]
  },
  {
   "cell_type": "code",
   "execution_count": 55,
   "metadata": {
    "collapsed": false
   },
   "outputs": [
    {
     "name": "stdout",
     "output_type": "stream",
     "text": [
      "[0.15802933659263743, 0.1768236329364191]\n"
     ]
    }
   ],
   "source": [
    "print stump_weights"
   ]
  },
  {
   "cell_type": "markdown",
   "metadata": {},
   "source": [
    "If your Adaboost is correctly implemented, the following things should be true:\n",
    "\n",
    "* `tree_stumps[0]` should split on **term. 36 months** with the prediction -1 on the left and +1 on the right.\n",
    "* `tree_stumps[1]` should split on **grade.A** with the prediction -1 on the left and +1 on the right.\n",
    "* Weights should be approximately `[0.158, 0.177]` \n",
    "\n",
    "**Reminders**\n",
    "- Stump weights ($\\mathbf{\\hat{w}}$) and data point weights ($\\mathbf{\\alpha}$) are two different concepts.\n",
    "- Stump weights ($\\mathbf{\\hat{w}}$) tell you how important each stump is while making predictions with the entire boosted ensemble.\n",
    "- Data point weights ($\\mathbf{\\alpha}$) tell you how important each data point is while training a decision stump."
   ]
  },
  {
   "cell_type": "markdown",
   "metadata": {},
   "source": [
    "### Training a boosted ensemble of 10 stumps"
   ]
  },
  {
   "cell_type": "markdown",
   "metadata": {},
   "source": [
    "Let us train an ensemble of 10 decision tree stumps with Adaboost. We run the **adaboost_with_tree_stumps** function with the following parameters:\n",
    "* `train_data`\n",
    "* `features`\n",
    "* `target`\n",
    "* `num_tree_stumps = 10`"
   ]
  },
  {
   "cell_type": "code",
   "execution_count": 56,
   "metadata": {
    "collapsed": false,
    "scrolled": true
   },
   "outputs": [
    {
     "name": "stdout",
     "output_type": "stream",
     "text": [
      "=====================================================\n",
      "Adaboost Iteration 0\n",
      "=====================================================\n",
      "--------------------------------------------------------------------\n",
      "Subtree, depth = 1 (37224 data points).\n",
      "Split on feature term. 36 months. (9223, 28001)\n",
      "--------------------------------------------------------------------\n",
      "Subtree, depth = 2 (9223 data points).\n",
      "Reached maximum depth. Stopping for now.\n",
      "--------------------------------------------------------------------\n",
      "Subtree, depth = 2 (28001 data points).\n",
      "Reached maximum depth. Stopping for now.\n",
      "is_correct\n",
      "[1L, 1L, 1L, 0L, 0L, 0L, 0L, 0L, 0L, 0L, 1L, 1L, 0L, 1L, 0L, 0L, 0L, 1L, 0L, 0L, 0L, 1L, 0L, 0L, 0L, 0L, 0L, 0L, 0L, 0L, 0L, 0L, 1L, 1L, 0L, 0L, 0L, 0L, 1L, 1L, 0L, 1L, 1L, 1L, 1L, 0L, 0L, 0L, 0L, 0L, 0L, 0L, 0L, 1L, 0L, 1L, 0L, 1L, 0L, 0L, 1L, 0L, 0L, 0L, 0L, 0L, 0L, 1L, 1L, 1L, 0L, 0L, 1L, 0L, 0L, 1L, 0L, 1L, 0L, 0L, 0L, 0L, 0L, 1L, 1L, 0L, 0L, 0L, 0L, 1L, 0L, 1L, 0L, 0L, 1L, 1L, 0L, 0L, 0L, 0L, ... ]\n",
      "21529\n",
      "is_wrong\n",
      "[0L, 0L, 0L, 1L, 1L, 1L, 1L, 1L, 1L, 1L, 0L, 0L, 1L, 0L, 1L, 1L, 1L, 0L, 1L, 1L, 1L, 0L, 1L, 1L, 1L, 1L, 1L, 1L, 1L, 1L, 1L, 1L, 0L, 0L, 1L, 1L, 1L, 1L, 0L, 0L, 1L, 0L, 0L, 0L, 0L, 1L, 1L, 1L, 1L, 1L, 1L, 1L, 1L, 0L, 1L, 0L, 1L, 0L, 1L, 1L, 0L, 1L, 1L, 1L, 1L, 1L, 1L, 0L, 0L, 0L, 1L, 1L, 0L, 1L, 1L, 0L, 1L, 0L, 1L, 1L, 1L, 1L, 1L, 0L, 0L, 1L, 1L, 1L, 1L, 0L, 1L, 0L, 1L, 1L, 0L, 0L, 1L, 1L, 1L, 1L, ... ]\n",
      "15695\n",
      "weighted_error\n",
      "0.421636578551\n",
      "weight\n",
      "0.158029336593\n",
      "adjustment\n",
      "[0.8538247332926777, 0.8538247332926777, 0.8538247332926777, 1.171200553237213, 1.171200553237213, 1.171200553237213, 1.171200553237213, 1.171200553237213, 1.171200553237213, 1.171200553237213, 0.8538247332926777, 0.8538247332926777, 1.171200553237213, 0.8538247332926777, 1.171200553237213, 1.171200553237213, 1.171200553237213, 0.8538247332926777, 1.171200553237213, 1.171200553237213, 1.171200553237213, 0.8538247332926777, 1.171200553237213, 1.171200553237213, 1.171200553237213, 1.171200553237213, 1.171200553237213, 1.171200553237213, 1.171200553237213, 1.171200553237213, 1.171200553237213, 1.171200553237213, 0.8538247332926777, 0.8538247332926777, 1.171200553237213, 1.171200553237213, 1.171200553237213, 1.171200553237213, 0.8538247332926777, 0.8538247332926777, 1.171200553237213, 0.8538247332926777, 0.8538247332926777, 0.8538247332926777, 0.8538247332926777, 1.171200553237213, 1.171200553237213, 1.171200553237213, 1.171200553237213, 1.171200553237213, 1.171200553237213, 1.171200553237213, 1.171200553237213, 0.8538247332926777, 1.171200553237213, 0.8538247332926777, 1.171200553237213, 0.8538247332926777, 1.171200553237213, 1.171200553237213, 0.8538247332926777, 1.171200553237213, 1.171200553237213, 1.171200553237213, 1.171200553237213, 1.171200553237213, 1.171200553237213, 0.8538247332926777, 0.8538247332926777, 0.8538247332926777, 1.171200553237213, 1.171200553237213, 0.8538247332926777, 1.171200553237213, 1.171200553237213, 0.8538247332926777, 1.171200553237213, 0.8538247332926777, 1.171200553237213, 1.171200553237213, 1.171200553237213, 1.171200553237213, 1.171200553237213, 0.8538247332926777, 0.8538247332926777, 1.171200553237213, 1.171200553237213, 1.171200553237213, 1.171200553237213, 0.8538247332926777, 1.171200553237213, 0.8538247332926777, 1.171200553237213, 1.171200553237213, 0.8538247332926777, 0.8538247332926777, 1.171200553237213, 1.171200553237213, 1.171200553237213, 1.171200553237213, ... ]\n",
      "[0.8538247332926777, 0.8538247332926777, 0.8538247332926777, 1.171200553237213, 1.171200553237213, 1.171200553237213, 1.171200553237213, 1.171200553237213, 1.171200553237213, 1.171200553237213, 0.8538247332926777, 0.8538247332926777, 1.171200553237213, 0.8538247332926777, 1.171200553237213, 1.171200553237213, 1.171200553237213, 0.8538247332926777, 1.171200553237213, 1.171200553237213, 1.171200553237213, 0.8538247332926777, 1.171200553237213, 1.171200553237213, 1.171200553237213, 1.171200553237213, 1.171200553237213, 1.171200553237213, 1.171200553237213, 1.171200553237213, 1.171200553237213, 1.171200553237213, 0.8538247332926777, 0.8538247332926777, 1.171200553237213, 1.171200553237213, 1.171200553237213, 1.171200553237213, 0.8538247332926777, 0.8538247332926777, 1.171200553237213, 0.8538247332926777, 0.8538247332926777, 0.8538247332926777, 0.8538247332926777, 1.171200553237213, 1.171200553237213, 1.171200553237213, 1.171200553237213, 1.171200553237213, 1.171200553237213, 1.171200553237213, 1.171200553237213, 0.8538247332926777, 1.171200553237213, 0.8538247332926777, 1.171200553237213, 0.8538247332926777, 1.171200553237213, 1.171200553237213, 0.8538247332926777, 1.171200553237213, 1.171200553237213, 1.171200553237213, 1.171200553237213, 1.171200553237213, 1.171200553237213, 0.8538247332926777, 0.8538247332926777, 0.8538247332926777, 1.171200553237213, 1.171200553237213, 0.8538247332926777, 1.171200553237213, 1.171200553237213, 0.8538247332926777, 1.171200553237213, 0.8538247332926777, 1.171200553237213, 1.171200553237213, 1.171200553237213, 1.171200553237213, 1.171200553237213, 0.8538247332926777, 0.8538247332926777, 1.171200553237213, 1.171200553237213, 1.171200553237213, 1.171200553237213, 0.8538247332926777, 1.171200553237213, 0.8538247332926777, 1.171200553237213, 1.171200553237213, 0.8538247332926777, 0.8538247332926777, 1.171200553237213, 1.171200553237213, 1.171200553237213, 1.171200553237213, ... ]\n",
      "[2.3224487900035514e-05, 2.3224487900035514e-05, 2.3224487900035514e-05, 3.1857279388331606e-05, 3.1857279388331606e-05, 3.1857279388331606e-05, 3.1857279388331606e-05, 3.1857279388331606e-05, 3.1857279388331606e-05, 3.1857279388331606e-05, 2.3224487900035514e-05, 2.3224487900035514e-05, 3.1857279388331606e-05, 2.3224487900035514e-05, 3.1857279388331606e-05, 3.1857279388331606e-05, 3.1857279388331606e-05, 2.3224487900035514e-05, 3.1857279388331606e-05, 3.1857279388331606e-05, 3.1857279388331606e-05, 2.3224487900035514e-05, 3.1857279388331606e-05, 3.1857279388331606e-05, 3.1857279388331606e-05, 3.1857279388331606e-05, 3.1857279388331606e-05, 3.1857279388331606e-05, 3.1857279388331606e-05, 3.1857279388331606e-05, 3.1857279388331606e-05, 3.1857279388331606e-05, 2.3224487900035514e-05, 2.3224487900035514e-05, 3.1857279388331606e-05, 3.1857279388331606e-05, 3.1857279388331606e-05, 3.1857279388331606e-05, 2.3224487900035514e-05, 2.3224487900035514e-05, 3.1857279388331606e-05, 2.3224487900035514e-05, 2.3224487900035514e-05, 2.3224487900035514e-05, 2.3224487900035514e-05, 3.1857279388331606e-05, 3.1857279388331606e-05, 3.1857279388331606e-05, 3.1857279388331606e-05, 3.1857279388331606e-05, 3.1857279388331606e-05, 3.1857279388331606e-05, 3.1857279388331606e-05, 2.3224487900035514e-05, 3.1857279388331606e-05, 2.3224487900035514e-05, 3.1857279388331606e-05, 2.3224487900035514e-05, 3.1857279388331606e-05, 3.1857279388331606e-05, 2.3224487900035514e-05, 3.1857279388331606e-05, 3.1857279388331606e-05, 3.1857279388331606e-05, 3.1857279388331606e-05, 3.1857279388331606e-05, 3.1857279388331606e-05, 2.3224487900035514e-05, 2.3224487900035514e-05, 2.3224487900035514e-05, 3.1857279388331606e-05, 3.1857279388331606e-05, 2.3224487900035514e-05, 3.1857279388331606e-05, 3.1857279388331606e-05, 2.3224487900035514e-05, 3.1857279388331606e-05, 2.3224487900035514e-05, 3.1857279388331606e-05, 3.1857279388331606e-05, 3.1857279388331606e-05, 3.1857279388331606e-05, 3.1857279388331606e-05, 2.3224487900035514e-05, 2.3224487900035514e-05, 3.1857279388331606e-05, 3.1857279388331606e-05, 3.1857279388331606e-05, 3.1857279388331606e-05, 2.3224487900035514e-05, 3.1857279388331606e-05, 2.3224487900035514e-05, 3.1857279388331606e-05, 3.1857279388331606e-05, 2.3224487900035514e-05, 2.3224487900035514e-05, 3.1857279388331606e-05, 3.1857279388331606e-05, 3.1857279388331606e-05, 3.1857279388331606e-05, ... ]\n",
      "=====================================================\n",
      "Adaboost Iteration 1\n",
      "=====================================================\n",
      "--------------------------------------------------------------------\n",
      "Subtree, depth = 1 (37224 data points).\n",
      "Split on feature grade.A. (32094, 5130)\n",
      "--------------------------------------------------------------------\n",
      "Subtree, depth = 2 (32094 data points).\n",
      "Reached maximum depth. Stopping for now.\n",
      "--------------------------------------------------------------------\n",
      "Subtree, depth = 2 (5130 data points).\n",
      "Reached maximum depth. Stopping for now.\n",
      "is_correct\n",
      "[1L, 1L, 1L, 1L, 1L, 1L, 1L, 1L, 1L, 1L, 1L, 1L, 1L, 1L, 1L, 1L, 1L, 1L, 1L, 0L, 1L, 1L, 1L, 0L, 1L, 1L, 1L, 1L, 1L, 1L, 1L, 1L, 1L, 1L, 1L, 1L, 1L, 0L, 1L, 1L, 0L, 1L, 1L, 1L, 1L, 1L, 1L, 1L, 0L, 1L, 1L, 0L, 1L, 1L, 1L, 0L, 1L, 1L, 1L, 1L, 1L, 1L, 1L, 1L, 1L, 0L, 1L, 0L, 1L, 1L, 1L, 1L, 1L, 0L, 1L, 1L, 1L, 1L, 1L, 1L, 0L, 0L, 1L, 1L, 1L, 0L, 1L, 1L, 1L, 1L, 1L, 1L, 1L, 1L, 1L, 1L, 1L, 1L, 1L, 1L, ... ]\n",
      "21090\n",
      "is_wrong\n",
      "[0L, 0L, 0L, 0L, 0L, 0L, 0L, 0L, 0L, 0L, 0L, 0L, 0L, 0L, 0L, 0L, 0L, 0L, 0L, 1L, 0L, 0L, 0L, 1L, 0L, 0L, 0L, 0L, 0L, 0L, 0L, 0L, 0L, 0L, 0L, 0L, 0L, 1L, 0L, 0L, 1L, 0L, 0L, 0L, 0L, 0L, 0L, 0L, 1L, 0L, 0L, 1L, 0L, 0L, 0L, 1L, 0L, 0L, 0L, 0L, 0L, 0L, 0L, 0L, 0L, 1L, 0L, 1L, 0L, 0L, 0L, 0L, 0L, 1L, 0L, 0L, 0L, 0L, 0L, 0L, 1L, 1L, 0L, 0L, 0L, 1L, 0L, 0L, 0L, 0L, 0L, 0L, 0L, 0L, 0L, 0L, 0L, 0L, 0L, 0L, ... ]\n",
      "16134\n",
      "weighted_error\n",
      "0.412498248915\n",
      "weight\n",
      "0.176823632936\n",
      "adjustment\n",
      "[0.8379275543139967, 0.8379275543139967, 0.8379275543139967, 0.8379275543139967, 0.8379275543139967, 0.8379275543139967, 0.8379275543139967, 0.8379275543139967, 0.8379275543139967, 0.8379275543139967, 0.8379275543139967, 0.8379275543139967, 0.8379275543139967, 0.8379275543139967, 0.8379275543139967, 0.8379275543139967, 0.8379275543139967, 0.8379275543139967, 0.8379275543139967, 1.193420594479305, 0.8379275543139967, 0.8379275543139967, 0.8379275543139967, 1.193420594479305, 0.8379275543139967, 0.8379275543139967, 0.8379275543139967, 0.8379275543139967, 0.8379275543139967, 0.8379275543139967, 0.8379275543139967, 0.8379275543139967, 0.8379275543139967, 0.8379275543139967, 0.8379275543139967, 0.8379275543139967, 0.8379275543139967, 1.193420594479305, 0.8379275543139967, 0.8379275543139967, 1.193420594479305, 0.8379275543139967, 0.8379275543139967, 0.8379275543139967, 0.8379275543139967, 0.8379275543139967, 0.8379275543139967, 0.8379275543139967, 1.193420594479305, 0.8379275543139967, 0.8379275543139967, 1.193420594479305, 0.8379275543139967, 0.8379275543139967, 0.8379275543139967, 1.193420594479305, 0.8379275543139967, 0.8379275543139967, 0.8379275543139967, 0.8379275543139967, 0.8379275543139967, 0.8379275543139967, 0.8379275543139967, 0.8379275543139967, 0.8379275543139967, 1.193420594479305, 0.8379275543139967, 1.193420594479305, 0.8379275543139967, 0.8379275543139967, 0.8379275543139967, 0.8379275543139967, 0.8379275543139967, 1.193420594479305, 0.8379275543139967, 0.8379275543139967, 0.8379275543139967, 0.8379275543139967, 0.8379275543139967, 0.8379275543139967, 1.193420594479305, 1.193420594479305, 0.8379275543139967, 0.8379275543139967, 0.8379275543139967, 1.193420594479305, 0.8379275543139967, 0.8379275543139967, 0.8379275543139967, 0.8379275543139967, 0.8379275543139967, 0.8379275543139967, 0.8379275543139967, 0.8379275543139967, 0.8379275543139967, 0.8379275543139967, 0.8379275543139967, 0.8379275543139967, 0.8379275543139967, 0.8379275543139967, ... ]\n",
      "[1.9460438346271766e-05, 1.9460438346271766e-05, 1.9460438346271766e-05, 2.6694092204962397e-05, 2.6694092204962397e-05, 2.6694092204962397e-05, 2.6694092204962397e-05, 2.6694092204962397e-05, 2.6694092204962397e-05, 2.6694092204962397e-05, 1.9460438346271766e-05, 1.9460438346271766e-05, 2.6694092204962397e-05, 1.9460438346271766e-05, 2.6694092204962397e-05, 2.6694092204962397e-05, 2.6694092204962397e-05, 1.9460438346271766e-05, 2.6694092204962397e-05, 3.801913330611601e-05, 2.6694092204962397e-05, 1.9460438346271766e-05, 2.6694092204962397e-05, 3.801913330611601e-05, 2.6694092204962397e-05, 2.6694092204962397e-05, 2.6694092204962397e-05, 2.6694092204962397e-05, 2.6694092204962397e-05, 2.6694092204962397e-05, 2.6694092204962397e-05, 2.6694092204962397e-05, 1.9460438346271766e-05, 1.9460438346271766e-05, 2.6694092204962397e-05, 2.6694092204962397e-05, 2.6694092204962397e-05, 3.801913330611601e-05, 1.9460438346271766e-05, 1.9460438346271766e-05, 3.801913330611601e-05, 1.9460438346271766e-05, 1.9460438346271766e-05, 1.9460438346271766e-05, 1.9460438346271766e-05, 2.6694092204962397e-05, 2.6694092204962397e-05, 2.6694092204962397e-05, 3.801913330611601e-05, 2.6694092204962397e-05, 2.6694092204962397e-05, 3.801913330611601e-05, 2.6694092204962397e-05, 1.9460438346271766e-05, 2.6694092204962397e-05, 2.771658215613781e-05, 2.6694092204962397e-05, 1.9460438346271766e-05, 2.6694092204962397e-05, 2.6694092204962397e-05, 1.9460438346271766e-05, 2.6694092204962397e-05, 2.6694092204962397e-05, 2.6694092204962397e-05, 2.6694092204962397e-05, 3.801913330611601e-05, 2.6694092204962397e-05, 2.771658215613781e-05, 1.9460438346271766e-05, 1.9460438346271766e-05, 2.6694092204962397e-05, 2.6694092204962397e-05, 1.9460438346271766e-05, 3.801913330611601e-05, 2.6694092204962397e-05, 1.9460438346271766e-05, 2.6694092204962397e-05, 1.9460438346271766e-05, 2.6694092204962397e-05, 2.6694092204962397e-05, 3.801913330611601e-05, 3.801913330611601e-05, 2.6694092204962397e-05, 1.9460438346271766e-05, 1.9460438346271766e-05, 3.801913330611601e-05, 2.6694092204962397e-05, 2.6694092204962397e-05, 2.6694092204962397e-05, 1.9460438346271766e-05, 2.6694092204962397e-05, 1.9460438346271766e-05, 2.6694092204962397e-05, 2.6694092204962397e-05, 1.9460438346271766e-05, 1.9460438346271766e-05, 2.6694092204962397e-05, 2.6694092204962397e-05, 2.6694092204962397e-05, 2.6694092204962397e-05, ... ]\n",
      "[1.9765462704704058e-05, 1.9765462704704058e-05, 1.9765462704704058e-05, 2.7112497392135943e-05, 2.7112497392135943e-05, 2.7112497392135943e-05, 2.7112497392135943e-05, 2.7112497392135943e-05, 2.7112497392135943e-05, 2.7112497392135943e-05, 1.9765462704704058e-05, 1.9765462704704058e-05, 2.7112497392135943e-05, 1.9765462704704058e-05, 2.7112497392135943e-05, 2.7112497392135943e-05, 2.7112497392135943e-05, 1.9765462704704058e-05, 2.7112497392135943e-05, 3.861504803005498e-05, 2.7112497392135943e-05, 1.9765462704704058e-05, 2.7112497392135943e-05, 3.861504803005498e-05, 2.7112497392135943e-05, 2.7112497392135943e-05, 2.7112497392135943e-05, 2.7112497392135943e-05, 2.7112497392135943e-05, 2.7112497392135943e-05, 2.7112497392135943e-05, 2.7112497392135943e-05, 1.9765462704704058e-05, 1.9765462704704058e-05, 2.7112497392135943e-05, 2.7112497392135943e-05, 2.7112497392135943e-05, 3.861504803005498e-05, 1.9765462704704058e-05, 1.9765462704704058e-05, 3.861504803005498e-05, 1.9765462704704058e-05, 1.9765462704704058e-05, 1.9765462704704058e-05, 1.9765462704704058e-05, 2.7112497392135943e-05, 2.7112497392135943e-05, 2.7112497392135943e-05, 3.861504803005498e-05, 2.7112497392135943e-05, 2.7112497392135943e-05, 3.861504803005498e-05, 2.7112497392135943e-05, 1.9765462704704058e-05, 2.7112497392135943e-05, 2.815101392687598e-05, 2.7112497392135943e-05, 1.9765462704704058e-05, 2.7112497392135943e-05, 2.7112497392135943e-05, 1.9765462704704058e-05, 2.7112497392135943e-05, 2.7112497392135943e-05, 2.7112497392135943e-05, 2.7112497392135943e-05, 3.861504803005498e-05, 2.7112497392135943e-05, 2.815101392687598e-05, 1.9765462704704058e-05, 1.9765462704704058e-05, 2.7112497392135943e-05, 2.7112497392135943e-05, 1.9765462704704058e-05, 3.861504803005498e-05, 2.7112497392135943e-05, 1.9765462704704058e-05, 2.7112497392135943e-05, 1.9765462704704058e-05, 2.7112497392135943e-05, 2.7112497392135943e-05, 3.861504803005498e-05, 3.861504803005498e-05, 2.7112497392135943e-05, 1.9765462704704058e-05, 1.9765462704704058e-05, 3.861504803005498e-05, 2.7112497392135943e-05, 2.7112497392135943e-05, 2.7112497392135943e-05, 1.9765462704704058e-05, 2.7112497392135943e-05, 1.9765462704704058e-05, 2.7112497392135943e-05, 2.7112497392135943e-05, 1.9765462704704058e-05, 1.9765462704704058e-05, 2.7112497392135943e-05, 2.7112497392135943e-05, 2.7112497392135943e-05, 2.7112497392135943e-05, ... ]\n",
      "=====================================================\n",
      "Adaboost Iteration 2\n",
      "=====================================================\n",
      "--------------------------------------------------------------------\n",
      "Subtree, depth = 1 (37224 data points).\n",
      "Split on feature grade.D. (30465, 6759)\n",
      "--------------------------------------------------------------------\n",
      "Subtree, depth = 2 (30465 data points).\n",
      "Reached maximum depth. Stopping for now.\n",
      "--------------------------------------------------------------------\n",
      "Subtree, depth = 2 (6759 data points).\n",
      "Reached maximum depth. Stopping for now.\n",
      "is_correct\n",
      "[0L, 0L, 0L, 0L, 0L, 0L, 0L, 0L, 0L, 0L, 0L, 1L, 1L, 1L, 0L, 1L, 0L, 0L, 0L, 0L, 0L, 0L, 0L, 0L, 0L, 1L, 1L, 1L, 0L, 0L, 0L, 0L, 1L, 0L, 0L, 0L, 0L, 0L, 0L, 0L, 0L, 0L, 1L, 0L, 0L, 0L, 0L, 0L, 0L, 0L, 0L, 0L, 0L, 0L, 0L, 0L, 0L, 0L, 0L, 0L, 0L, 1L, 0L, 1L, 1L, 0L, 0L, 0L, 0L, 0L, 0L, 0L, 0L, 0L, 0L, 0L, 1L, 1L, 0L, 0L, 0L, 0L, 1L, 0L, 1L, 0L, 1L, 0L, 1L, 0L, 0L, 0L, 0L, 0L, 0L, 0L, 0L, 0L, 1L, 0L, ... ]\n",
      "20141\n",
      "is_wrong\n",
      "[1L, 1L, 1L, 1L, 1L, 1L, 1L, 1L, 1L, 1L, 1L, 0L, 0L, 0L, 1L, 0L, 1L, 1L, 1L, 1L, 1L, 1L, 1L, 1L, 1L, 0L, 0L, 0L, 1L, 1L, 1L, 1L, 0L, 1L, 1L, 1L, 1L, 1L, 1L, 1L, 1L, 1L, 0L, 1L, 1L, 1L, 1L, 1L, 1L, 1L, 1L, 1L, 1L, 1L, 1L, 1L, 1L, 1L, 1L, 1L, 1L, 0L, 1L, 0L, 0L, 1L, 1L, 1L, 1L, 1L, 1L, 1L, 1L, 1L, 1L, 1L, 0L, 0L, 1L, 1L, 1L, 1L, 0L, 1L, 0L, 1L, 0L, 1L, 0L, 1L, 1L, 1L, 1L, 1L, 1L, 1L, 1L, 1L, 0L, 1L, ... ]\n",
      "17083\n",
      "weighted_error\n",
      "0.453574664309\n",
      "weight\n",
      "0.0931188897113\n",
      "adjustment\n",
      "[1.0975922199334358, 1.0975922199334358, 1.0975922199334358, 1.0975922199334358, 1.0975922199334358, 1.0975922199334358, 1.0975922199334358, 1.0975922199334358, 1.0975922199334358, 1.0975922199334358, 1.0975922199334358, 0.9110851752034518, 0.9110851752034518, 0.9110851752034518, 1.0975922199334358, 0.9110851752034518, 1.0975922199334358, 1.0975922199334358, 1.0975922199334358, 1.0975922199334358, 1.0975922199334358, 1.0975922199334358, 1.0975922199334358, 1.0975922199334358, 1.0975922199334358, 0.9110851752034518, 0.9110851752034518, 0.9110851752034518, 1.0975922199334358, 1.0975922199334358, 1.0975922199334358, 1.0975922199334358, 0.9110851752034518, 1.0975922199334358, 1.0975922199334358, 1.0975922199334358, 1.0975922199334358, 1.0975922199334358, 1.0975922199334358, 1.0975922199334358, 1.0975922199334358, 1.0975922199334358, 0.9110851752034518, 1.0975922199334358, 1.0975922199334358, 1.0975922199334358, 1.0975922199334358, 1.0975922199334358, 1.0975922199334358, 1.0975922199334358, 1.0975922199334358, 1.0975922199334358, 1.0975922199334358, 1.0975922199334358, 1.0975922199334358, 1.0975922199334358, 1.0975922199334358, 1.0975922199334358, 1.0975922199334358, 1.0975922199334358, 1.0975922199334358, 0.9110851752034518, 1.0975922199334358, 0.9110851752034518, 0.9110851752034518, 1.0975922199334358, 1.0975922199334358, 1.0975922199334358, 1.0975922199334358, 1.0975922199334358, 1.0975922199334358, 1.0975922199334358, 1.0975922199334358, 1.0975922199334358, 1.0975922199334358, 1.0975922199334358, 0.9110851752034518, 0.9110851752034518, 1.0975922199334358, 1.0975922199334358, 1.0975922199334358, 1.0975922199334358, 0.9110851752034518, 1.0975922199334358, 0.9110851752034518, 1.0975922199334358, 0.9110851752034518, 1.0975922199334358, 0.9110851752034518, 1.0975922199334358, 1.0975922199334358, 1.0975922199334358, 1.0975922199334358, 1.0975922199334358, 1.0975922199334358, 1.0975922199334358, 1.0975922199334358, 1.0975922199334358, 0.9110851752034518, 1.0975922199334358, ... ]\n",
      "[2.1694418088067658e-05, 2.1694418088067658e-05, 2.1694418088067658e-05, 2.975846620057398e-05, 2.975846620057398e-05, 2.975846620057398e-05, 2.975846620057398e-05, 2.975846620057398e-05, 2.975846620057398e-05, 2.975846620057398e-05, 2.1694418088067658e-05, 1.8008020051292587e-05, 2.4701794436717304e-05, 1.8008020051292587e-05, 2.975846620057398e-05, 2.4701794436717304e-05, 2.975846620057398e-05, 2.1694418088067658e-05, 2.975846620057398e-05, 4.238357629014429e-05, 2.975846620057398e-05, 2.1694418088067658e-05, 2.975846620057398e-05, 4.238357629014429e-05, 2.975846620057398e-05, 2.4701794436717304e-05, 2.4701794436717304e-05, 2.4701794436717304e-05, 2.975846620057398e-05, 2.975846620057398e-05, 2.975846620057398e-05, 2.975846620057398e-05, 1.8008020051292587e-05, 2.1694418088067658e-05, 2.975846620057398e-05, 2.975846620057398e-05, 2.975846620057398e-05, 4.238357629014429e-05, 2.1694418088067658e-05, 2.1694418088067658e-05, 4.238357629014429e-05, 2.1694418088067658e-05, 1.8008020051292587e-05, 2.1694418088067658e-05, 2.1694418088067658e-05, 2.975846620057398e-05, 2.975846620057398e-05, 2.975846620057398e-05, 4.238357629014429e-05, 2.975846620057398e-05, 2.975846620057398e-05, 4.238357629014429e-05, 2.975846620057398e-05, 2.1694418088067658e-05, 2.975846620057398e-05, 3.0898333869376876e-05, 2.975846620057398e-05, 2.1694418088067658e-05, 2.975846620057398e-05, 2.975846620057398e-05, 2.1694418088067658e-05, 2.4701794436717304e-05, 2.975846620057398e-05, 2.4701794436717304e-05, 2.4701794436717304e-05, 4.238357629014429e-05, 2.975846620057398e-05, 3.0898333869376876e-05, 2.1694418088067658e-05, 2.1694418088067658e-05, 2.975846620057398e-05, 2.975846620057398e-05, 2.1694418088067658e-05, 4.238357629014429e-05, 2.975846620057398e-05, 2.1694418088067658e-05, 2.4701794436717304e-05, 1.8008020051292587e-05, 2.975846620057398e-05, 2.975846620057398e-05, 4.238357629014429e-05, 4.238357629014429e-05, 2.4701794436717304e-05, 2.1694418088067658e-05, 1.8008020051292587e-05, 4.238357629014429e-05, 2.4701794436717304e-05, 2.975846620057398e-05, 2.4701794436717304e-05, 2.1694418088067658e-05, 2.975846620057398e-05, 2.1694418088067658e-05, 2.975846620057398e-05, 2.975846620057398e-05, 2.1694418088067658e-05, 2.1694418088067658e-05, 2.975846620057398e-05, 2.975846620057398e-05, 2.4701794436717304e-05, 2.975846620057398e-05, ... ]\n",
      "[2.1788543607076036e-05, 2.1788543607076036e-05, 2.1788543607076036e-05, 2.9887579185520227e-05, 2.9887579185520227e-05, 2.9887579185520227e-05, 2.9887579185520227e-05, 2.9887579185520227e-05, 2.9887579185520227e-05, 2.9887579185520227e-05, 2.1788543607076036e-05, 1.8086151404102345e-05, 2.4808968052177085e-05, 1.8086151404102345e-05, 2.9887579185520227e-05, 2.4808968052177085e-05, 2.9887579185520227e-05, 2.1788543607076036e-05, 2.9887579185520227e-05, 4.2567465809538e-05, 2.9887579185520227e-05, 2.1788543607076036e-05, 2.9887579185520227e-05, 4.2567465809538e-05, 2.9887579185520227e-05, 2.4808968052177085e-05, 2.4808968052177085e-05, 2.4808968052177085e-05, 2.9887579185520227e-05, 2.9887579185520227e-05, 2.9887579185520227e-05, 2.9887579185520227e-05, 1.8086151404102345e-05, 2.1788543607076036e-05, 2.9887579185520227e-05, 2.9887579185520227e-05, 2.9887579185520227e-05, 4.2567465809538e-05, 2.1788543607076036e-05, 2.1788543607076036e-05, 4.2567465809538e-05, 2.1788543607076036e-05, 1.8086151404102345e-05, 2.1788543607076036e-05, 2.1788543607076036e-05, 2.9887579185520227e-05, 2.9887579185520227e-05, 2.9887579185520227e-05, 4.2567465809538e-05, 2.9887579185520227e-05, 2.9887579185520227e-05, 4.2567465809538e-05, 2.9887579185520227e-05, 2.1788543607076036e-05, 2.9887579185520227e-05, 3.103239239540615e-05, 2.9887579185520227e-05, 2.1788543607076036e-05, 2.9887579185520227e-05, 2.9887579185520227e-05, 2.1788543607076036e-05, 2.4808968052177085e-05, 2.9887579185520227e-05, 2.4808968052177085e-05, 2.4808968052177085e-05, 4.2567465809538e-05, 2.9887579185520227e-05, 3.103239239540615e-05, 2.1788543607076036e-05, 2.1788543607076036e-05, 2.9887579185520227e-05, 2.9887579185520227e-05, 2.1788543607076036e-05, 4.2567465809538e-05, 2.9887579185520227e-05, 2.1788543607076036e-05, 2.4808968052177085e-05, 1.8086151404102345e-05, 2.9887579185520227e-05, 2.9887579185520227e-05, 4.2567465809538e-05, 4.2567465809538e-05, 2.4808968052177085e-05, 2.1788543607076036e-05, 1.8086151404102345e-05, 4.2567465809538e-05, 2.4808968052177085e-05, 2.9887579185520227e-05, 2.4808968052177085e-05, 2.1788543607076036e-05, 2.9887579185520227e-05, 2.1788543607076036e-05, 2.9887579185520227e-05, 2.9887579185520227e-05, 2.1788543607076036e-05, 2.1788543607076036e-05, 2.9887579185520227e-05, 2.9887579185520227e-05, 2.4808968052177085e-05, 2.9887579185520227e-05, ... ]\n",
      "=====================================================\n",
      "Adaboost Iteration 3\n",
      "=====================================================\n",
      "--------------------------------------------------------------------\n",
      "Subtree, depth = 1 (37224 data points).\n",
      "Split on feature home_ownership.MORTGAGE. (19846, 17378)\n",
      "--------------------------------------------------------------------\n",
      "Subtree, depth = 2 (19846 data points).\n",
      "Reached maximum depth. Stopping for now.\n",
      "--------------------------------------------------------------------\n",
      "Subtree, depth = 2 (17378 data points).\n",
      "Reached maximum depth. Stopping for now.\n",
      "is_correct\n",
      "[1L, 1L, 1L, 1L, 1L, 1L, 1L, 1L, 0L, 1L, 1L, 1L, 1L, 0L, 1L, 1L, 1L, 1L, 0L, 1L, 1L, 1L, 0L, 1L, 1L, 1L, 1L, 1L, 1L, 0L, 1L, 0L, 0L, 0L, 1L, 1L, 1L, 1L, 1L, 1L, 1L, 1L, 1L, 1L, 1L, 1L, 1L, 1L, 0L, 1L, 1L, 1L, 0L, 1L, 1L, 1L, 1L, 1L, 1L, 1L, 1L, 1L, 0L, 1L, 1L, 1L, 1L, 1L, 1L, 1L, 1L, 1L, 1L, 0L, 1L, 1L, 1L, 1L, 1L, 1L, 0L, 0L, 0L, 0L, 0L, 0L, 0L, 1L, 0L, 1L, 1L, 1L, 1L, 1L, 1L, 1L, 0L, 1L, 0L, 1L, ... ]\n",
      "19828\n",
      "is_wrong\n",
      "[0L, 0L, 0L, 0L, 0L, 0L, 0L, 0L, 1L, 0L, 0L, 0L, 0L, 1L, 0L, 0L, 0L, 0L, 1L, 0L, 0L, 0L, 1L, 0L, 0L, 0L, 0L, 0L, 0L, 1L, 0L, 1L, 1L, 1L, 0L, 0L, 0L, 0L, 0L, 0L, 0L, 0L, 0L, 0L, 0L, 0L, 0L, 0L, 1L, 0L, 0L, 0L, 1L, 0L, 0L, 0L, 0L, 0L, 0L, 0L, 0L, 0L, 1L, 0L, 0L, 0L, 0L, 0L, 0L, 0L, 0L, 0L, 0L, 1L, 0L, 0L, 0L, 0L, 0L, 0L, 1L, 1L, 1L, 1L, 1L, 1L, 1L, 0L, 1L, 0L, 0L, 0L, 0L, 0L, 0L, 0L, 1L, 0L, 1L, 0L, ... ]\n",
      "17396\n",
      "weighted_error\n",
      "0.463619975981\n",
      "weight\n",
      "0.0728888552584\n",
      "adjustment\n",
      "[0.9297041560117956, 0.9297041560117956, 0.9297041560117956, 0.9297041560117956, 0.9297041560117956, 0.9297041560117956, 0.9297041560117956, 0.9297041560117956, 1.075610981766239, 0.9297041560117956, 0.9297041560117956, 0.9297041560117956, 0.9297041560117956, 1.075610981766239, 0.9297041560117956, 0.9297041560117956, 0.9297041560117956, 0.9297041560117956, 1.075610981766239, 0.9297041560117956, 0.9297041560117956, 0.9297041560117956, 1.075610981766239, 0.9297041560117956, 0.9297041560117956, 0.9297041560117956, 0.9297041560117956, 0.9297041560117956, 0.9297041560117956, 1.075610981766239, 0.9297041560117956, 1.075610981766239, 1.075610981766239, 1.075610981766239, 0.9297041560117956, 0.9297041560117956, 0.9297041560117956, 0.9297041560117956, 0.9297041560117956, 0.9297041560117956, 0.9297041560117956, 0.9297041560117956, 0.9297041560117956, 0.9297041560117956, 0.9297041560117956, 0.9297041560117956, 0.9297041560117956, 0.9297041560117956, 1.075610981766239, 0.9297041560117956, 0.9297041560117956, 0.9297041560117956, 1.075610981766239, 0.9297041560117956, 0.9297041560117956, 0.9297041560117956, 0.9297041560117956, 0.9297041560117956, 0.9297041560117956, 0.9297041560117956, 0.9297041560117956, 0.9297041560117956, 1.075610981766239, 0.9297041560117956, 0.9297041560117956, 0.9297041560117956, 0.9297041560117956, 0.9297041560117956, 0.9297041560117956, 0.9297041560117956, 0.9297041560117956, 0.9297041560117956, 0.9297041560117956, 1.075610981766239, 0.9297041560117956, 0.9297041560117956, 0.9297041560117956, 0.9297041560117956, 0.9297041560117956, 0.9297041560117956, 1.075610981766239, 1.075610981766239, 1.075610981766239, 1.075610981766239, 1.075610981766239, 1.075610981766239, 1.075610981766239, 0.9297041560117956, 1.075610981766239, 0.9297041560117956, 0.9297041560117956, 0.9297041560117956, 0.9297041560117956, 0.9297041560117956, 0.9297041560117956, 0.9297041560117956, 1.075610981766239, 0.9297041560117956, 1.075610981766239, 0.9297041560117956, ... ]\n",
      "[2.025689954494283e-05, 2.025689954494283e-05, 2.025689954494283e-05, 2.778660658190979e-05, 2.778660658190979e-05, 2.778660658190979e-05, 2.778660658190979e-05, 2.778660658190979e-05, 3.214740839035362e-05, 2.778660658190979e-05, 2.025689954494283e-05, 1.6814770126652522e-05, 2.3065000704472898e-05, 1.9453663068139364e-05, 2.778660658190979e-05, 2.3065000704472898e-05, 2.778660658190979e-05, 2.025689954494283e-05, 3.214740839035362e-05, 3.957514987401749e-05, 2.778660658190979e-05, 2.025689954494283e-05, 3.214740839035362e-05, 3.957514987401749e-05, 2.778660658190979e-05, 2.3065000704472898e-05, 2.3065000704472898e-05, 2.3065000704472898e-05, 2.778660658190979e-05, 3.214740839035362e-05, 2.778660658190979e-05, 3.214740839035362e-05, 1.9453663068139364e-05, 2.3435996780463564e-05, 2.778660658190979e-05, 2.778660658190979e-05, 2.778660658190979e-05, 3.957514987401749e-05, 2.025689954494283e-05, 2.025689954494283e-05, 3.957514987401749e-05, 2.025689954494283e-05, 1.6814770126652522e-05, 2.025689954494283e-05, 2.025689954494283e-05, 2.778660658190979e-05, 2.778660658190979e-05, 2.778660658190979e-05, 4.578603369069798e-05, 2.778660658190979e-05, 2.778660658190979e-05, 3.957514987401749e-05, 3.214740839035362e-05, 2.025689954494283e-05, 2.778660658190979e-05, 2.8850944180997936e-05, 2.778660658190979e-05, 2.025689954494283e-05, 2.778660658190979e-05, 2.778660658190979e-05, 2.025689954494283e-05, 2.3065000704472898e-05, 3.214740839035362e-05, 2.3065000704472898e-05, 2.3065000704472898e-05, 3.957514987401749e-05, 2.778660658190979e-05, 2.8850944180997936e-05, 2.025689954494283e-05, 2.025689954494283e-05, 2.778660658190979e-05, 2.778660658190979e-05, 2.025689954494283e-05, 4.578603369069798e-05, 2.778660658190979e-05, 2.025689954494283e-05, 2.3065000704472898e-05, 1.6814770126652522e-05, 2.778660658190979e-05, 2.778660658190979e-05, 4.578603369069798e-05, 4.578603369069798e-05, 2.668479848320945e-05, 2.3435996780463564e-05, 1.9453663068139364e-05, 4.578603369069798e-05, 2.668479848320945e-05, 2.778660658190979e-05, 2.668479848320945e-05, 2.025689954494283e-05, 2.778660658190979e-05, 2.025689954494283e-05, 2.778660658190979e-05, 2.778660658190979e-05, 2.025689954494283e-05, 2.025689954494283e-05, 3.214740839035362e-05, 2.778660658190979e-05, 2.668479848320945e-05, 2.778660658190979e-05, ... ]\n",
      "[2.0310733650963335e-05, 2.0310733650963335e-05, 2.0310733650963335e-05, 2.7860451403095862e-05, 2.7860451403095862e-05, 2.7860451403095862e-05, 2.7860451403095862e-05, 2.7860451403095862e-05, 3.2232842342757394e-05, 2.7860451403095862e-05, 2.0310733650963335e-05, 1.685945653661868e-05, 2.3126297532772446e-05, 1.9505362517888515e-05, 2.7860451403095862e-05, 2.3126297532772446e-05, 2.7860451403095862e-05, 2.0310733650963335e-05, 3.2232842342757394e-05, 3.968032356110462e-05, 2.7860451403095862e-05, 2.0310733650963335e-05, 3.2232842342757394e-05, 3.968032356110462e-05, 2.7860451403095862e-05, 2.3126297532772446e-05, 2.3126297532772446e-05, 2.3126297532772446e-05, 2.7860451403095862e-05, 3.2232842342757394e-05, 2.7860451403095862e-05, 3.2232842342757394e-05, 1.9505362517888515e-05, 2.3498279556392647e-05, 2.7860451403095862e-05, 2.7860451403095862e-05, 2.7860451403095862e-05, 3.968032356110462e-05, 2.0310733650963335e-05, 2.0310733650963335e-05, 3.968032356110462e-05, 2.0310733650963335e-05, 1.685945653661868e-05, 2.0310733650963335e-05, 2.0310733650963335e-05, 2.7860451403095862e-05, 2.7860451403095862e-05, 2.7860451403095862e-05, 4.5907713229390207e-05, 2.7860451403095862e-05, 2.7860451403095862e-05, 3.968032356110462e-05, 3.2232842342757394e-05, 2.0310733650963335e-05, 2.7860451403095862e-05, 2.8927617552674857e-05, 2.7860451403095862e-05, 2.0310733650963335e-05, 2.7860451403095862e-05, 2.7860451403095862e-05, 2.0310733650963335e-05, 2.3126297532772446e-05, 3.2232842342757394e-05, 2.3126297532772446e-05, 2.3126297532772446e-05, 3.968032356110462e-05, 2.7860451403095862e-05, 2.8927617552674857e-05, 2.0310733650963335e-05, 2.0310733650963335e-05, 2.7860451403095862e-05, 2.7860451403095862e-05, 2.0310733650963335e-05, 4.5907713229390207e-05, 2.7860451403095862e-05, 2.0310733650963335e-05, 2.3126297532772446e-05, 1.685945653661868e-05, 2.7860451403095862e-05, 2.7860451403095862e-05, 4.5907713229390207e-05, 4.5907713229390207e-05, 2.6755715173470646e-05, 2.3498279556392647e-05, 1.9505362517888515e-05, 4.5907713229390207e-05, 2.6755715173470646e-05, 2.7860451403095862e-05, 2.6755715173470646e-05, 2.0310733650963335e-05, 2.7860451403095862e-05, 2.0310733650963335e-05, 2.7860451403095862e-05, 2.7860451403095862e-05, 2.0310733650963335e-05, 2.0310733650963335e-05, 3.2232842342757394e-05, 2.7860451403095862e-05, 2.6755715173470646e-05, 2.7860451403095862e-05, ... ]\n",
      "=====================================================\n",
      "Adaboost Iteration 4\n",
      "=====================================================\n",
      "--------------------------------------------------------------------\n",
      "Subtree, depth = 1 (37224 data points).\n",
      "Split on feature grade.B. (26858, 10366)\n",
      "--------------------------------------------------------------------\n",
      "Subtree, depth = 2 (26858 data points).\n",
      "Reached maximum depth. Stopping for now.\n",
      "--------------------------------------------------------------------\n",
      "Subtree, depth = 2 (10366 data points).\n",
      "Reached maximum depth. Stopping for now.\n",
      "is_correct\n",
      "[1L, 1L, 0L, 1L, 0L, 0L, 0L, 1L, 0L, 1L, 1L, 1L, 1L, 1L, 0L, 1L, 0L, 1L, 1L, 1L, 0L, 1L, 1L, 1L, 1L, 1L, 1L, 1L, 0L, 0L, 1L, 0L, 1L, 0L, 0L, 0L, 0L, 1L, 1L, 0L, 1L, 0L, 1L, 1L, 1L, 0L, 0L, 0L, 1L, 0L, 0L, 1L, 0L, 0L, 0L, 1L, 1L, 1L, 1L, 1L, 0L, 1L, 0L, 1L, 1L, 1L, 1L, 1L, 1L, 1L, 1L, 0L, 1L, 1L, 1L, 1L, 1L, 1L, 0L, 1L, 1L, 1L, 1L, 0L, 1L, 1L, 1L, 0L, 1L, 1L, 1L, 1L, 1L, 0L, 1L, 0L, 1L, 1L, 1L, 0L, ... ]\n",
      "20156\n",
      "is_wrong\n",
      "[0L, 0L, 1L, 0L, 1L, 1L, 1L, 0L, 1L, 0L, 0L, 0L, 0L, 0L, 1L, 0L, 1L, 0L, 0L, 0L, 1L, 0L, 0L, 0L, 0L, 0L, 0L, 0L, 1L, 1L, 0L, 1L, 0L, 1L, 1L, 1L, 1L, 0L, 0L, 1L, 0L, 1L, 0L, 0L, 0L, 1L, 1L, 1L, 0L, 1L, 1L, 0L, 1L, 1L, 1L, 0L, 0L, 0L, 0L, 0L, 1L, 0L, 1L, 0L, 0L, 0L, 0L, 0L, 0L, 0L, 0L, 1L, 0L, 0L, 0L, 0L, 0L, 0L, 1L, 0L, 0L, 0L, 0L, 1L, 0L, 0L, 0L, 1L, 0L, 0L, 0L, 0L, 0L, 1L, 0L, 1L, 0L, 0L, 0L, 1L, ... ]\n",
      "17068\n",
      "weighted_error\n",
      "0.46651864402\n",
      "weight\n",
      "0.0670630691412\n",
      "adjustment\n",
      "[0.9351362212385229, 0.9351362212385229, 1.0693629198487997, 0.9351362212385229, 1.0693629198487997, 1.0693629198487997, 1.0693629198487997, 0.9351362212385229, 1.0693629198487997, 0.9351362212385229, 0.9351362212385229, 0.9351362212385229, 0.9351362212385229, 0.9351362212385229, 1.0693629198487997, 0.9351362212385229, 1.0693629198487997, 0.9351362212385229, 0.9351362212385229, 0.9351362212385229, 1.0693629198487997, 0.9351362212385229, 0.9351362212385229, 0.9351362212385229, 0.9351362212385229, 0.9351362212385229, 0.9351362212385229, 0.9351362212385229, 1.0693629198487997, 1.0693629198487997, 0.9351362212385229, 1.0693629198487997, 0.9351362212385229, 1.0693629198487997, 1.0693629198487997, 1.0693629198487997, 1.0693629198487997, 0.9351362212385229, 0.9351362212385229, 1.0693629198487997, 0.9351362212385229, 1.0693629198487997, 0.9351362212385229, 0.9351362212385229, 0.9351362212385229, 1.0693629198487997, 1.0693629198487997, 1.0693629198487997, 0.9351362212385229, 1.0693629198487997, 1.0693629198487997, 0.9351362212385229, 1.0693629198487997, 1.0693629198487997, 1.0693629198487997, 0.9351362212385229, 0.9351362212385229, 0.9351362212385229, 0.9351362212385229, 0.9351362212385229, 1.0693629198487997, 0.9351362212385229, 1.0693629198487997, 0.9351362212385229, 0.9351362212385229, 0.9351362212385229, 0.9351362212385229, 0.9351362212385229, 0.9351362212385229, 0.9351362212385229, 0.9351362212385229, 1.0693629198487997, 0.9351362212385229, 0.9351362212385229, 0.9351362212385229, 0.9351362212385229, 0.9351362212385229, 0.9351362212385229, 1.0693629198487997, 0.9351362212385229, 0.9351362212385229, 0.9351362212385229, 0.9351362212385229, 1.0693629198487997, 0.9351362212385229, 0.9351362212385229, 0.9351362212385229, 1.0693629198487997, 0.9351362212385229, 0.9351362212385229, 0.9351362212385229, 0.9351362212385229, 0.9351362212385229, 1.0693629198487997, 0.9351362212385229, 1.0693629198487997, 0.9351362212385229, 0.9351362212385229, 0.9351362212385229, 1.0693629198487997, ... ]\n",
      "[1.8993302716943962e-05, 1.8993302716943962e-05, 2.1719545441265423e-05, 2.605331724709057e-05, 2.979293366072018e-05, 2.979293366072018e-05, 2.979293366072018e-05, 2.605331724709057e-05, 3.446860640267707e-05, 2.605331724709057e-05, 1.8993302716943962e-05, 1.5765888477788705e-05, 2.16262384860346e-05, 1.8240170998865785e-05, 2.979293366072018e-05, 2.16262384860346e-05, 2.979293366072018e-05, 1.8993302716943962e-05, 3.0142098388183208e-05, 3.71065078324533e-05, 2.979293366072018e-05, 1.8993302716943962e-05, 3.0142098388183208e-05, 3.71065078324533e-05, 2.605331724709057e-05, 2.16262384860346e-05, 2.16262384860346e-05, 2.16262384860346e-05, 2.979293366072018e-05, 3.446860640267707e-05, 2.605331724709057e-05, 3.446860640267707e-05, 1.8240170998865785e-05, 2.51281888378474e-05, 2.979293366072018e-05, 2.979293366072018e-05, 2.979293366072018e-05, 3.71065078324533e-05, 1.8993302716943962e-05, 2.1719545441265423e-05, 3.71065078324533e-05, 2.1719545441265423e-05, 1.5765888477788705e-05, 1.8993302716943962e-05, 1.8993302716943962e-05, 2.979293366072018e-05, 2.979293366072018e-05, 2.979293366072018e-05, 4.2929965475033703e-05, 2.979293366072018e-05, 2.979293366072018e-05, 3.71065078324533e-05, 3.446860640267707e-05, 2.1719545441265423e-05, 2.979293366072018e-05, 2.7051262967641534e-05, 2.605331724709057e-05, 1.8993302716943962e-05, 2.605331724709057e-05, 2.605331724709057e-05, 2.1719545441265423e-05, 2.16262384860346e-05, 3.446860640267707e-05, 2.16262384860346e-05, 2.16262384860346e-05, 3.71065078324533e-05, 2.605331724709057e-05, 2.7051262967641534e-05, 1.8993302716943962e-05, 1.8993302716943962e-05, 2.605331724709057e-05, 2.979293366072018e-05, 1.8993302716943962e-05, 4.2929965475033703e-05, 2.605331724709057e-05, 1.8993302716943962e-05, 2.16262384860346e-05, 1.5765888477788705e-05, 2.979293366072018e-05, 2.605331724709057e-05, 4.2929965475033703e-05, 4.2929965475033703e-05, 2.502023838385355e-05, 2.51281888378474e-05, 1.8240170998865785e-05, 4.2929965475033703e-05, 2.502023838385355e-05, 2.979293366072018e-05, 2.502023838385355e-05, 1.8993302716943962e-05, 2.605331724709057e-05, 1.8993302716943962e-05, 2.605331724709057e-05, 2.979293366072018e-05, 1.8993302716943962e-05, 2.1719545441265423e-05, 3.0142098388183208e-05, 2.605331724709057e-05, 2.502023838385355e-05, 2.979293366072018e-05, ... ]\n",
      "[1.9036029491260022e-05, 1.9036029491260022e-05, 2.1768405090908584e-05, 2.611192602213042e-05, 2.9859954966688172e-05, 2.9859954966688172e-05, 2.9859954966688172e-05, 2.611192602213042e-05, 3.454614596431647e-05, 2.611192602213042e-05, 1.9036029491260022e-05, 1.580135495610065e-05, 2.1674888235099766e-05, 1.8281203550253472e-05, 2.9859954966688172e-05, 2.1674888235099766e-05, 2.9859954966688172e-05, 1.9036029491260022e-05, 3.0209905164836932e-05, 3.718998153944582e-05, 2.9859954966688172e-05, 1.9036029491260022e-05, 3.0209905164836932e-05, 3.718998153944582e-05, 2.611192602213042e-05, 2.1674888235099766e-05, 2.1674888235099766e-05, 2.1674888235099766e-05, 2.9859954966688172e-05, 3.454614596431647e-05, 2.611192602213042e-05, 3.454614596431647e-05, 1.8281203550253472e-05, 2.518471647126885e-05, 2.9859954966688172e-05, 2.9859954966688172e-05, 2.9859954966688172e-05, 3.718998153944582e-05, 1.9036029491260022e-05, 2.1768405090908584e-05, 3.718998153944582e-05, 2.1768405090908584e-05, 1.580135495610065e-05, 1.9036029491260022e-05, 1.9036029491260022e-05, 2.9859954966688172e-05, 2.9859954966688172e-05, 2.9859954966688172e-05, 4.302653946080036e-05, 2.9859954966688172e-05, 2.9859954966688172e-05, 3.718998153944582e-05, 3.454614596431647e-05, 2.1768405090908584e-05, 2.9859954966688172e-05, 2.711211669197836e-05, 2.611192602213042e-05, 1.9036029491260022e-05, 2.611192602213042e-05, 2.611192602213042e-05, 2.1768405090908584e-05, 2.1674888235099766e-05, 3.454614596431647e-05, 2.1674888235099766e-05, 2.1674888235099766e-05, 3.718998153944582e-05, 2.611192602213042e-05, 2.711211669197836e-05, 1.9036029491260022e-05, 1.9036029491260022e-05, 2.611192602213042e-05, 2.9859954966688172e-05, 1.9036029491260022e-05, 4.302653946080036e-05, 2.611192602213042e-05, 1.9036029491260022e-05, 2.1674888235099766e-05, 1.580135495610065e-05, 2.9859954966688172e-05, 2.611192602213042e-05, 4.302653946080036e-05, 4.302653946080036e-05, 2.5076523175113537e-05, 2.518471647126885e-05, 1.8281203550253472e-05, 4.302653946080036e-05, 2.5076523175113537e-05, 2.9859954966688172e-05, 2.5076523175113537e-05, 1.9036029491260022e-05, 2.611192602213042e-05, 1.9036029491260022e-05, 2.611192602213042e-05, 2.9859954966688172e-05, 1.9036029491260022e-05, 2.1768405090908584e-05, 3.0209905164836932e-05, 2.611192602213042e-05, 2.5076523175113537e-05, 2.9859954966688172e-05, ... ]\n",
      "=====================================================\n",
      "Adaboost Iteration 5\n",
      "=====================================================\n",
      "--------------------------------------------------------------------\n",
      "Subtree, depth = 1 (37224 data points).\n",
      "Split on feature grade.E. (33815, 3409)\n",
      "--------------------------------------------------------------------\n",
      "Subtree, depth = 2 (33815 data points).\n",
      "Reached maximum depth. Stopping for now.\n",
      "--------------------------------------------------------------------\n",
      "Subtree, depth = 2 (3409 data points).\n",
      "Reached maximum depth. Stopping for now.\n",
      "is_correct\n",
      "[0L, 0L, 0L, 0L, 0L, 0L, 0L, 0L, 0L, 0L, 1L, 0L, 0L, 0L, 0L, 0L, 0L, 1L, 0L, 0L, 0L, 0L, 0L, 0L, 0L, 0L, 0L, 0L, 0L, 0L, 0L, 0L, 0L, 0L, 0L, 0L, 0L, 0L, 0L, 0L, 0L, 0L, 0L, 1L, 0L, 0L, 0L, 0L, 0L, 0L, 0L, 0L, 0L, 0L, 0L, 0L, 1L, 0L, 0L, 0L, 0L, 0L, 0L, 0L, 0L, 0L, 0L, 0L, 1L, 0L, 0L, 0L, 1L, 0L, 0L, 1L, 0L, 0L, 0L, 0L, 0L, 0L, 0L, 0L, 0L, 0L, 0L, 0L, 0L, 0L, 1L, 0L, 0L, 0L, 0L, 0L, 0L, 0L, 0L, 0L, ... ]\n",
      "19955\n",
      "is_wrong\n",
      "[1L, 1L, 1L, 1L, 1L, 1L, 1L, 1L, 1L, 1L, 0L, 1L, 1L, 1L, 1L, 1L, 1L, 0L, 1L, 1L, 1L, 1L, 1L, 1L, 1L, 1L, 1L, 1L, 1L, 1L, 1L, 1L, 1L, 1L, 1L, 1L, 1L, 1L, 1L, 1L, 1L, 1L, 1L, 0L, 1L, 1L, 1L, 1L, 1L, 1L, 1L, 1L, 1L, 1L, 1L, 1L, 0L, 1L, 1L, 1L, 1L, 1L, 1L, 1L, 1L, 1L, 1L, 1L, 0L, 1L, 1L, 1L, 0L, 1L, 1L, 0L, 1L, 1L, 1L, 1L, 1L, 1L, 1L, 1L, 1L, 1L, 1L, 1L, 1L, 1L, 0L, 1L, 1L, 1L, 1L, 1L, 1L, 1L, 1L, 1L, ... ]\n",
      "17269\n",
      "weighted_error\n",
      "0.467760207218\n",
      "weight\n",
      "0.0645691696164\n",
      "adjustment\n",
      "[1.0666993588784455, 1.0666993588784455, 1.0666993588784455, 1.0666993588784455, 1.0666993588784455, 1.0666993588784455, 1.0666993588784455, 1.0666993588784455, 1.0666993588784455, 1.0666993588784455, 0.9374712674913623, 1.0666993588784455, 1.0666993588784455, 1.0666993588784455, 1.0666993588784455, 1.0666993588784455, 1.0666993588784455, 0.9374712674913623, 1.0666993588784455, 1.0666993588784455, 1.0666993588784455, 1.0666993588784455, 1.0666993588784455, 1.0666993588784455, 1.0666993588784455, 1.0666993588784455, 1.0666993588784455, 1.0666993588784455, 1.0666993588784455, 1.0666993588784455, 1.0666993588784455, 1.0666993588784455, 1.0666993588784455, 1.0666993588784455, 1.0666993588784455, 1.0666993588784455, 1.0666993588784455, 1.0666993588784455, 1.0666993588784455, 1.0666993588784455, 1.0666993588784455, 1.0666993588784455, 1.0666993588784455, 0.9374712674913623, 1.0666993588784455, 1.0666993588784455, 1.0666993588784455, 1.0666993588784455, 1.0666993588784455, 1.0666993588784455, 1.0666993588784455, 1.0666993588784455, 1.0666993588784455, 1.0666993588784455, 1.0666993588784455, 1.0666993588784455, 0.9374712674913623, 1.0666993588784455, 1.0666993588784455, 1.0666993588784455, 1.0666993588784455, 1.0666993588784455, 1.0666993588784455, 1.0666993588784455, 1.0666993588784455, 1.0666993588784455, 1.0666993588784455, 1.0666993588784455, 0.9374712674913623, 1.0666993588784455, 1.0666993588784455, 1.0666993588784455, 0.9374712674913623, 1.0666993588784455, 1.0666993588784455, 0.9374712674913623, 1.0666993588784455, 1.0666993588784455, 1.0666993588784455, 1.0666993588784455, 1.0666993588784455, 1.0666993588784455, 1.0666993588784455, 1.0666993588784455, 1.0666993588784455, 1.0666993588784455, 1.0666993588784455, 1.0666993588784455, 1.0666993588784455, 1.0666993588784455, 0.9374712674913623, 1.0666993588784455, 1.0666993588784455, 1.0666993588784455, 1.0666993588784455, 1.0666993588784455, 1.0666993588784455, 1.0666993588784455, 1.0666993588784455, 1.0666993588784455, ... ]\n",
      "[2.0305720453918247e-05, 2.0305720453918247e-05, 2.3220343754278475e-05, 2.7853574746887916e-05, 3.185159481910553e-05, 3.185159481910553e-05, 3.185159481910553e-05, 2.7853574746887916e-05, 3.6850351751857576e-05, 2.7853574746887916e-05, 1.7845730695174485e-05, 1.6855295201083308e-05, 2.3120589384142882e-05, 1.950054810658174e-05, 3.185159481910553e-05, 2.3120589384142882e-05, 3.185159481910553e-05, 1.7845730695174485e-05, 3.2224886471110197e-05, 3.967052946482808e-05, 3.185159481910553e-05, 2.0305720453918247e-05, 3.2224886471110197e-05, 3.967052946482808e-05, 2.7853574746887916e-05, 2.3120589384142882e-05, 2.3120589384142882e-05, 2.3120589384142882e-05, 3.185159481910553e-05, 3.6850351751857576e-05, 2.7853574746887916e-05, 3.6850351751857576e-05, 1.950054810658174e-05, 2.686452091343791e-05, 3.185159481910553e-05, 3.185159481910553e-05, 3.185159481910553e-05, 3.967052946482808e-05, 2.0305720453918247e-05, 2.3220343754278475e-05, 3.967052946482808e-05, 2.3220343754278475e-05, 1.6855295201083308e-05, 1.7845730695174485e-05, 2.0305720453918247e-05, 3.185159481910553e-05, 3.185159481910553e-05, 3.185159481910553e-05, 4.5896382057593884e-05, 3.185159481910553e-05, 3.185159481910553e-05, 3.967052946482808e-05, 3.6850351751857576e-05, 2.3220343754278475e-05, 3.185159481910553e-05, 2.8920477493170916e-05, 2.4479180384607293e-05, 2.0305720453918247e-05, 2.7853574746887916e-05, 2.7853574746887916e-05, 2.3220343754278475e-05, 2.3120589384142882e-05, 3.6850351751857576e-05, 2.3120589384142882e-05, 2.3120589384142882e-05, 3.967052946482808e-05, 2.7853574746887916e-05, 2.8920477493170916e-05, 1.7845730695174485e-05, 2.0305720453918247e-05, 2.7853574746887916e-05, 3.185159481910553e-05, 1.7845730695174485e-05, 4.5896382057593884e-05, 2.7853574746887916e-05, 1.7845730695174485e-05, 2.3120589384142882e-05, 1.6855295201083308e-05, 3.185159481910553e-05, 2.7853574746887916e-05, 4.5896382057593884e-05, 4.5896382057593884e-05, 2.674911119379409e-05, 2.686452091343791e-05, 1.950054810658174e-05, 4.5896382057593884e-05, 2.674911119379409e-05, 3.185159481910553e-05, 2.674911119379409e-05, 2.0305720453918247e-05, 2.4479180384607293e-05, 2.0305720453918247e-05, 2.7853574746887916e-05, 3.185159481910553e-05, 2.0305720453918247e-05, 2.3220343754278475e-05, 3.2224886471110197e-05, 2.7853574746887916e-05, 2.674911119379409e-05, 3.185159481910553e-05, ... ]\n",
      "[2.0348064240517002e-05, 2.0348064240517002e-05, 2.3268765443275537e-05, 2.791165817356422e-05, 3.1918015369753364e-05, 3.1918015369753364e-05, 3.1918015369753364e-05, 2.791165817356422e-05, 3.692719627624719e-05, 2.791165817356422e-05, 1.7882944632693728e-05, 1.6890443770407573e-05, 2.3168803054036615e-05, 1.954121285666819e-05, 3.1918015369753364e-05, 2.3168803054036615e-05, 3.1918015369753364e-05, 1.7882944632693728e-05, 3.2292085451761906e-05, 3.9753254942987325e-05, 3.1918015369753364e-05, 2.0348064240517002e-05, 3.2292085451761906e-05, 3.9753254942987325e-05, 2.791165817356422e-05, 2.3168803054036615e-05, 2.3168803054036615e-05, 2.3168803054036615e-05, 3.1918015369753364e-05, 3.692719627624719e-05, 2.791165817356422e-05, 3.692719627624719e-05, 1.954121285666819e-05, 2.692054185311439e-05, 3.1918015369753364e-05, 3.1918015369753364e-05, 3.1918015369753364e-05, 3.9753254942987325e-05, 2.0348064240517002e-05, 2.3268765443275537e-05, 3.9753254942987325e-05, 2.3268765443275537e-05, 1.6890443770407573e-05, 1.7882944632693728e-05, 2.0348064240517002e-05, 3.1918015369753364e-05, 3.1918015369753364e-05, 3.1918015369753364e-05, 4.5992090388254305e-05, 3.1918015369753364e-05, 3.1918015369753364e-05, 3.9753254942987325e-05, 3.692719627624719e-05, 2.3268765443275537e-05, 3.1918015369753364e-05, 2.8980785746211437e-05, 2.453022714222767e-05, 2.0348064240517002e-05, 2.791165817356422e-05, 2.791165817356422e-05, 2.3268765443275537e-05, 2.3168803054036615e-05, 3.692719627624719e-05, 2.3168803054036615e-05, 2.3168803054036615e-05, 3.9753254942987325e-05, 2.791165817356422e-05, 2.8980785746211437e-05, 1.7882944632693728e-05, 2.0348064240517002e-05, 2.791165817356422e-05, 3.1918015369753364e-05, 1.7882944632693728e-05, 4.5992090388254305e-05, 2.791165817356422e-05, 1.7882944632693728e-05, 2.3168803054036615e-05, 1.6890443770407573e-05, 3.1918015369753364e-05, 2.791165817356422e-05, 4.5992090388254305e-05, 4.5992090388254305e-05, 2.680489146806049e-05, 2.692054185311439e-05, 1.954121285666819e-05, 4.5992090388254305e-05, 2.680489146806049e-05, 3.1918015369753364e-05, 2.680489146806049e-05, 2.0348064240517002e-05, 2.453022714222767e-05, 2.0348064240517002e-05, 2.791165817356422e-05, 3.1918015369753364e-05, 2.0348064240517002e-05, 2.3268765443275537e-05, 3.2292085451761906e-05, 2.791165817356422e-05, 2.680489146806049e-05, 3.1918015369753364e-05, ... ]\n",
      "=====================================================\n",
      "Adaboost Iteration 6\n",
      "=====================================================\n",
      "--------------------------------------------------------------------\n",
      "Subtree, depth = 1 (37224 data points).\n",
      "Split on feature grade.A. (32094, 5130)\n",
      "--------------------------------------------------------------------\n",
      "Subtree, depth = 2 (32094 data points).\n",
      "Reached maximum depth. Stopping for now.\n",
      "--------------------------------------------------------------------\n",
      "Subtree, depth = 2 (5130 data points).\n",
      "Reached maximum depth. Stopping for now.\n",
      "is_correct\n",
      "[1L, 1L, 1L, 1L, 1L, 1L, 1L, 1L, 1L, 1L, 1L, 1L, 1L, 1L, 1L, 1L, 1L, 1L, 1L, 0L, 1L, 1L, 1L, 0L, 1L, 1L, 1L, 1L, 1L, 1L, 1L, 1L, 1L, 1L, 1L, 1L, 1L, 0L, 1L, 1L, 0L, 1L, 1L, 1L, 1L, 1L, 1L, 1L, 0L, 1L, 1L, 0L, 1L, 1L, 1L, 0L, 1L, 1L, 1L, 1L, 1L, 1L, 1L, 1L, 1L, 0L, 1L, 0L, 1L, 1L, 1L, 1L, 1L, 0L, 1L, 1L, 1L, 1L, 1L, 1L, 0L, 0L, 1L, 1L, 1L, 0L, 1L, 1L, 1L, 1L, 1L, 1L, 1L, 1L, 1L, 1L, 1L, 1L, 1L, 1L, ... ]\n",
      "21090\n",
      "is_wrong\n",
      "[0L, 0L, 0L, 0L, 0L, 0L, 0L, 0L, 0L, 0L, 0L, 0L, 0L, 0L, 0L, 0L, 0L, 0L, 0L, 1L, 0L, 0L, 0L, 1L, 0L, 0L, 0L, 0L, 0L, 0L, 0L, 0L, 0L, 0L, 0L, 0L, 0L, 1L, 0L, 0L, 1L, 0L, 0L, 0L, 0L, 0L, 0L, 0L, 1L, 0L, 0L, 1L, 0L, 0L, 0L, 1L, 0L, 0L, 0L, 0L, 0L, 0L, 0L, 0L, 0L, 1L, 0L, 1L, 0L, 0L, 0L, 0L, 0L, 1L, 0L, 0L, 0L, 0L, 0L, 0L, 1L, 1L, 0L, 0L, 0L, 1L, 0L, 0L, 0L, 0L, 0L, 0L, 0L, 0L, 0L, 0L, 0L, 0L, 0L, 0L, ... ]\n",
      "16134\n",
      "weighted_error\n",
      "0.472746758716\n",
      "weight\n",
      "0.0545605577918\n",
      "adjustment\n",
      "[0.9469011648779458, 0.9469011648779458, 0.9469011648779458, 0.9469011648779458, 0.9469011648779458, 0.9469011648779458, 0.9469011648779458, 0.9469011648779458, 0.9469011648779458, 0.9469011648779458, 0.9469011648779458, 0.9469011648779458, 0.9469011648779458, 0.9469011648779458, 0.9469011648779458, 0.9469011648779458, 0.9469011648779458, 0.9469011648779458, 0.9469011648779458, 1.0560764281337625, 0.9469011648779458, 0.9469011648779458, 0.9469011648779458, 1.0560764281337625, 0.9469011648779458, 0.9469011648779458, 0.9469011648779458, 0.9469011648779458, 0.9469011648779458, 0.9469011648779458, 0.9469011648779458, 0.9469011648779458, 0.9469011648779458, 0.9469011648779458, 0.9469011648779458, 0.9469011648779458, 0.9469011648779458, 1.0560764281337625, 0.9469011648779458, 0.9469011648779458, 1.0560764281337625, 0.9469011648779458, 0.9469011648779458, 0.9469011648779458, 0.9469011648779458, 0.9469011648779458, 0.9469011648779458, 0.9469011648779458, 1.0560764281337625, 0.9469011648779458, 0.9469011648779458, 1.0560764281337625, 0.9469011648779458, 0.9469011648779458, 0.9469011648779458, 1.0560764281337625, 0.9469011648779458, 0.9469011648779458, 0.9469011648779458, 0.9469011648779458, 0.9469011648779458, 0.9469011648779458, 0.9469011648779458, 0.9469011648779458, 0.9469011648779458, 1.0560764281337625, 0.9469011648779458, 1.0560764281337625, 0.9469011648779458, 0.9469011648779458, 0.9469011648779458, 0.9469011648779458, 0.9469011648779458, 1.0560764281337625, 0.9469011648779458, 0.9469011648779458, 0.9469011648779458, 0.9469011648779458, 0.9469011648779458, 0.9469011648779458, 1.0560764281337625, 1.0560764281337625, 0.9469011648779458, 0.9469011648779458, 0.9469011648779458, 1.0560764281337625, 0.9469011648779458, 0.9469011648779458, 0.9469011648779458, 0.9469011648779458, 0.9469011648779458, 0.9469011648779458, 0.9469011648779458, 0.9469011648779458, 0.9469011648779458, 0.9469011648779458, 0.9469011648779458, 0.9469011648779458, 0.9469011648779458, 0.9469011648779458, ... ]\n",
      "[1.9267605732356825e-05, 1.9267605732356825e-05, 2.2033221103509298e-05, 2.6429581638222998e-05, 3.022320593421164e-05, 3.022320593421164e-05, 3.022320593421164e-05, 2.6429581638222998e-05, 3.4966405169655005e-05, 2.6429581638222998e-05, 1.69333811041455e-05, 1.5993580881504373e-05, 2.193856660069498e-05, 1.8503597217107e-05, 3.022320593421164e-05, 2.193856660069498e-05, 3.022320593421164e-05, 1.69333811041455e-05, 3.057741333061152e-05, 4.198247548688089e-05, 3.022320593421164e-05, 1.9267605732356825e-05, 3.057741333061152e-05, 4.198247548688089e-05, 2.6429581638222998e-05, 2.193856660069498e-05, 2.193856660069498e-05, 2.193856660069498e-05, 3.022320593421164e-05, 3.4966405169655005e-05, 2.6429581638222998e-05, 3.4966405169655005e-05, 1.8503597217107e-05, 2.549109243985951e-05, 3.022320593421164e-05, 3.022320593421164e-05, 3.022320593421164e-05, 4.198247548688089e-05, 1.9267605732356825e-05, 2.2033221103509298e-05, 4.198247548688089e-05, 2.2033221103509298e-05, 1.5993580881504373e-05, 1.69333811041455e-05, 1.9267605732356825e-05, 3.022320593421164e-05, 3.022320593421164e-05, 3.022320593421164e-05, 4.8571162539632754e-05, 3.022320593421164e-05, 3.022320593421164e-05, 4.198247548688089e-05, 3.4966405169655005e-05, 2.2033221103509298e-05, 3.022320593421164e-05, 3.060592469536883e-05, 2.3227700655695985e-05, 1.9267605732356825e-05, 2.6429581638222998e-05, 2.6429581638222998e-05, 2.2033221103509298e-05, 2.193856660069498e-05, 3.4966405169655005e-05, 2.193856660069498e-05, 2.193856660069498e-05, 4.198247548688089e-05, 2.6429581638222998e-05, 3.060592469536883e-05, 1.69333811041455e-05, 1.9267605732356825e-05, 2.6429581638222998e-05, 3.022320593421164e-05, 1.69333811041455e-05, 4.8571162539632754e-05, 2.6429581638222998e-05, 1.69333811041455e-05, 2.193856660069498e-05, 1.5993580881504373e-05, 3.022320593421164e-05, 2.6429581638222998e-05, 4.8571162539632754e-05, 4.8571162539632754e-05, 2.538158295553339e-05, 2.549109243985951e-05, 1.8503597217107e-05, 4.8571162539632754e-05, 2.538158295553339e-05, 3.022320593421164e-05, 2.538158295553339e-05, 1.9267605732356825e-05, 2.3227700655695985e-05, 1.9267605732356825e-05, 2.6429581638222998e-05, 3.022320593421164e-05, 1.9267605732356825e-05, 2.2033221103509298e-05, 3.057741333061152e-05, 2.6429581638222998e-05, 2.538158295553339e-05, 3.022320593421164e-05, ... ]\n",
      "[1.929629127644232e-05, 1.929629127644232e-05, 2.2066024086095184e-05, 2.6468929907010296e-05, 3.0268202137594344e-05, 3.0268202137594344e-05, 3.0268202137594344e-05, 2.6468929907010296e-05, 3.501846303148477e-05, 2.6468929907010296e-05, 1.6958591462761244e-05, 1.601739206883269e-05, 2.1971228661987836e-05, 1.853114530798475e-05, 3.0268202137594344e-05, 2.1971228661987836e-05, 3.0268202137594344e-05, 1.6958591462761244e-05, 3.062293687672824e-05, 4.2044978849681946e-05, 3.0268202137594344e-05, 1.929629127644232e-05, 3.062293687672824e-05, 4.2044978849681946e-05, 2.6468929907010296e-05, 2.1971228661987836e-05, 2.1971228661987836e-05, 2.1971228661987836e-05, 3.0268202137594344e-05, 3.501846303148477e-05, 2.6468929907010296e-05, 3.501846303148477e-05, 1.853114530798475e-05, 2.5529043489207745e-05, 3.0268202137594344e-05, 3.0268202137594344e-05, 3.0268202137594344e-05, 4.2044978849681946e-05, 1.929629127644232e-05, 2.2066024086095184e-05, 4.2044978849681946e-05, 2.2066024086095184e-05, 1.601739206883269e-05, 1.6958591462761244e-05, 1.929629127644232e-05, 3.0268202137594344e-05, 3.0268202137594344e-05, 3.0268202137594344e-05, 4.8643475116694395e-05, 3.0268202137594344e-05, 3.0268202137594344e-05, 4.2044978849681946e-05, 3.501846303148477e-05, 2.2066024086095184e-05, 3.0268202137594344e-05, 3.0651490689105764e-05, 2.3262281975265167e-05, 1.929629127644232e-05, 2.6468929907010296e-05, 2.6468929907010296e-05, 2.2066024086095184e-05, 2.1971228661987836e-05, 3.501846303148477e-05, 2.1971228661987836e-05, 2.1971228661987836e-05, 4.2044978849681946e-05, 2.6468929907010296e-05, 3.0651490689105764e-05, 1.6958591462761244e-05, 1.929629127644232e-05, 2.6468929907010296e-05, 3.0268202137594344e-05, 1.6958591462761244e-05, 4.8643475116694395e-05, 2.6468929907010296e-05, 1.6958591462761244e-05, 2.1971228661987836e-05, 1.601739206883269e-05, 3.0268202137594344e-05, 2.6468929907010296e-05, 4.8643475116694395e-05, 4.8643475116694395e-05, 2.5419370967544032e-05, 2.5529043489207745e-05, 1.853114530798475e-05, 4.8643475116694395e-05, 2.5419370967544032e-05, 3.0268202137594344e-05, 2.5419370967544032e-05, 1.929629127644232e-05, 2.3262281975265167e-05, 1.929629127644232e-05, 2.6468929907010296e-05, 3.0268202137594344e-05, 1.929629127644232e-05, 2.2066024086095184e-05, 3.062293687672824e-05, 2.6468929907010296e-05, 2.5419370967544032e-05, 3.0268202137594344e-05, ... ]\n",
      "=====================================================\n",
      "Adaboost Iteration 7\n",
      "=====================================================\n",
      "--------------------------------------------------------------------\n",
      "Subtree, depth = 1 (37224 data points).\n",
      "Split on feature grade.F. (35512, 1712)\n",
      "--------------------------------------------------------------------\n",
      "Subtree, depth = 2 (35512 data points).\n",
      "Reached maximum depth. Stopping for now.\n",
      "--------------------------------------------------------------------\n",
      "Subtree, depth = 2 (1712 data points).\n",
      "Reached maximum depth. Stopping for now.\n",
      "is_correct\n",
      "[0L, 1L, 0L, 0L, 0L, 0L, 0L, 0L, 0L, 0L, 0L, 0L, 0L, 0L, 0L, 0L, 0L, 0L, 0L, 0L, 0L, 0L, 0L, 0L, 0L, 0L, 0L, 0L, 0L, 0L, 0L, 0L, 0L, 0L, 0L, 0L, 0L, 0L, 0L, 0L, 0L, 0L, 0L, 0L, 0L, 0L, 0L, 0L, 0L, 0L, 0L, 0L, 0L, 0L, 0L, 0L, 0L, 0L, 0L, 0L, 0L, 0L, 0L, 0L, 0L, 0L, 0L, 0L, 0L, 0L, 0L, 0L, 0L, 0L, 0L, 0L, 0L, 0L, 0L, 0L, 0L, 0L, 0L, 0L, 0L, 0L, 0L, 0L, 0L, 1L, 0L, 0L, 0L, 0L, 0L, 0L, 0L, 0L, 0L, 0L, ... ]\n",
      "19536\n",
      "is_wrong\n",
      "[1L, 0L, 1L, 1L, 1L, 1L, 1L, 1L, 1L, 1L, 1L, 1L, 1L, 1L, 1L, 1L, 1L, 1L, 1L, 1L, 1L, 1L, 1L, 1L, 1L, 1L, 1L, 1L, 1L, 1L, 1L, 1L, 1L, 1L, 1L, 1L, 1L, 1L, 1L, 1L, 1L, 1L, 1L, 1L, 1L, 1L, 1L, 1L, 1L, 1L, 1L, 1L, 1L, 1L, 1L, 1L, 1L, 1L, 1L, 1L, 1L, 1L, 1L, 1L, 1L, 1L, 1L, 1L, 1L, 1L, 1L, 1L, 1L, 1L, 1L, 1L, 1L, 1L, 1L, 1L, 1L, 1L, 1L, 1L, 1L, 1L, 1L, 1L, 1L, 0L, 1L, 1L, 1L, 1L, 1L, 1L, 1L, 1L, 1L, 1L, ... ]\n",
      "17688\n",
      "weighted_error\n",
      "0.478258250407\n",
      "weight\n",
      "0.0435109367336\n",
      "adjustment\n",
      "[1.0444714173552325, 0.9574220829634178, 1.0444714173552325, 1.0444714173552325, 1.0444714173552325, 1.0444714173552325, 1.0444714173552325, 1.0444714173552325, 1.0444714173552325, 1.0444714173552325, 1.0444714173552325, 1.0444714173552325, 1.0444714173552325, 1.0444714173552325, 1.0444714173552325, 1.0444714173552325, 1.0444714173552325, 1.0444714173552325, 1.0444714173552325, 1.0444714173552325, 1.0444714173552325, 1.0444714173552325, 1.0444714173552325, 1.0444714173552325, 1.0444714173552325, 1.0444714173552325, 1.0444714173552325, 1.0444714173552325, 1.0444714173552325, 1.0444714173552325, 1.0444714173552325, 1.0444714173552325, 1.0444714173552325, 1.0444714173552325, 1.0444714173552325, 1.0444714173552325, 1.0444714173552325, 1.0444714173552325, 1.0444714173552325, 1.0444714173552325, 1.0444714173552325, 1.0444714173552325, 1.0444714173552325, 1.0444714173552325, 1.0444714173552325, 1.0444714173552325, 1.0444714173552325, 1.0444714173552325, 1.0444714173552325, 1.0444714173552325, 1.0444714173552325, 1.0444714173552325, 1.0444714173552325, 1.0444714173552325, 1.0444714173552325, 1.0444714173552325, 1.0444714173552325, 1.0444714173552325, 1.0444714173552325, 1.0444714173552325, 1.0444714173552325, 1.0444714173552325, 1.0444714173552325, 1.0444714173552325, 1.0444714173552325, 1.0444714173552325, 1.0444714173552325, 1.0444714173552325, 1.0444714173552325, 1.0444714173552325, 1.0444714173552325, 1.0444714173552325, 1.0444714173552325, 1.0444714173552325, 1.0444714173552325, 1.0444714173552325, 1.0444714173552325, 1.0444714173552325, 1.0444714173552325, 1.0444714173552325, 1.0444714173552325, 1.0444714173552325, 1.0444714173552325, 1.0444714173552325, 1.0444714173552325, 1.0444714173552325, 1.0444714173552325, 1.0444714173552325, 1.0444714173552325, 0.9574220829634178, 1.0444714173552325, 1.0444714173552325, 1.0444714173552325, 1.0444714173552325, 1.0444714173552325, 1.0444714173552325, 1.0444714173552325, 1.0444714173552325, 1.0444714173552325, 1.0444714173552325, ... ]\n",
      "[2.015442469920512e-05, 1.8474695387360233e-05, 2.3047331452598537e-05, 2.7646040735851347e-05, 3.161427198744784e-05, 3.161427198744784e-05, 3.161427198744784e-05, 2.7646040735851347e-05, 3.6575783716096714e-05, 2.7646040735851347e-05, 1.7712764061458582e-05, 1.6729708196468142e-05, 2.2948320341622343e-05, 1.93552516050466e-05, 3.161427198744784e-05, 2.2948320341622343e-05, 3.161427198744784e-05, 1.7712764061458582e-05, 3.198478228321616e-05, 4.3914778651798075e-05, 3.161427198744784e-05, 2.015442469920512e-05, 3.198478228321616e-05, 4.3914778651798075e-05, 2.7646040735851347e-05, 2.2948320341622343e-05, 2.2948320341622343e-05, 2.2948320341622343e-05, 3.161427198744784e-05, 3.6575783716096714e-05, 2.7646040735851347e-05, 3.6575783716096714e-05, 1.93552516050466e-05, 2.6664356236896184e-05, 3.161427198744784e-05, 3.161427198744784e-05, 3.161427198744784e-05, 4.3914778651798075e-05, 2.015442469920512e-05, 2.3047331452598537e-05, 4.3914778651798075e-05, 2.3047331452598537e-05, 1.6729708196468142e-05, 1.7712764061458582e-05, 2.015442469920512e-05, 3.161427198744784e-05, 3.161427198744784e-05, 3.161427198744784e-05, 5.0806719400217777e-05, 3.161427198744784e-05, 3.161427198744784e-05, 4.3914778651798075e-05, 3.6575783716096714e-05, 2.3047331452598537e-05, 3.161427198744784e-05, 3.201460592410101e-05, 2.4296788625622287e-05, 2.015442469920512e-05, 2.7646040735851347e-05, 2.7646040735851347e-05, 2.3047331452598537e-05, 2.2948320341622343e-05, 3.6575783716096714e-05, 2.2948320341622343e-05, 2.2948320341622343e-05, 4.3914778651798075e-05, 2.7646040735851347e-05, 3.201460592410101e-05, 1.7712764061458582e-05, 2.015442469920512e-05, 2.7646040735851347e-05, 3.161427198744784e-05, 1.7712764061458582e-05, 5.0806719400217777e-05, 2.7646040735851347e-05, 1.7712764061458582e-05, 2.2948320341622343e-05, 1.6729708196468142e-05, 3.161427198744784e-05, 2.7646040735851347e-05, 5.0806719400217777e-05, 5.0806719400217777e-05, 2.6549806422749164e-05, 2.6664356236896184e-05, 1.93552516050466e-05, 5.0806719400217777e-05, 2.6549806422749164e-05, 3.161427198744784e-05, 2.6549806422749164e-05, 1.8474695387360233e-05, 2.4296788625622287e-05, 2.015442469920512e-05, 2.7646040735851347e-05, 3.161427198744784e-05, 2.015442469920512e-05, 2.3047331452598537e-05, 3.198478228321616e-05, 2.7646040735851347e-05, 2.6549806422749164e-05, 3.161427198744784e-05, ... ]\n",
      "[2.0173505904006534e-05, 1.8492186308167507e-05, 2.3069151517330548e-05, 2.7672214629331413e-05, 3.1644202804498845e-05, 3.1644202804498845e-05, 3.1644202804498845e-05, 2.7672214629331413e-05, 3.6610411845168866e-05, 2.7672214629331413e-05, 1.7729533623661425e-05, 1.674554705037387e-05, 2.2970046667569232e-05, 1.937357619259354e-05, 3.1644202804498845e-05, 2.2970046667569232e-05, 3.1644202804498845e-05, 1.7729533623661425e-05, 3.201506388094883e-05, 4.3956354975497195e-05, 3.1644202804498845e-05, 2.0173505904006534e-05, 3.201506388094883e-05, 4.3956354975497195e-05, 2.7672214629331413e-05, 2.2970046667569232e-05, 2.2970046667569232e-05, 2.2970046667569232e-05, 3.1644202804498845e-05, 3.6610411845168866e-05, 2.7672214629331413e-05, 3.6610411845168866e-05, 1.937357619259354e-05, 2.668960072042015e-05, 3.1644202804498845e-05, 3.1644202804498845e-05, 3.1644202804498845e-05, 4.3956354975497195e-05, 2.0173505904006534e-05, 2.3069151517330548e-05, 4.3956354975497195e-05, 2.3069151517330548e-05, 1.674554705037387e-05, 1.7729533623661425e-05, 2.0173505904006534e-05, 3.1644202804498845e-05, 3.1644202804498845e-05, 3.1644202804498845e-05, 5.085482066992069e-05, 3.1644202804498845e-05, 3.1644202804498845e-05, 4.3956354975497195e-05, 3.6610411845168866e-05, 2.3069151517330548e-05, 3.1644202804498845e-05, 3.204491575737045e-05, 2.431979161413232e-05, 2.0173505904006534e-05, 2.7672214629331413e-05, 2.7672214629331413e-05, 2.3069151517330548e-05, 2.2970046667569232e-05, 3.6610411845168866e-05, 2.2970046667569232e-05, 2.2970046667569232e-05, 4.3956354975497195e-05, 2.7672214629331413e-05, 3.204491575737045e-05, 1.7729533623661425e-05, 2.0173505904006534e-05, 2.7672214629331413e-05, 3.1644202804498845e-05, 1.7729533623661425e-05, 5.085482066992069e-05, 2.7672214629331413e-05, 1.7729533623661425e-05, 2.2970046667569232e-05, 1.674554705037387e-05, 3.1644202804498845e-05, 2.7672214629331413e-05, 5.085482066992069e-05, 5.085482066992069e-05, 2.65749424562183e-05, 2.668960072042015e-05, 1.937357619259354e-05, 5.085482066992069e-05, 2.65749424562183e-05, 3.1644202804498845e-05, 2.65749424562183e-05, 1.8492186308167507e-05, 2.431979161413232e-05, 2.0173505904006534e-05, 2.7672214629331413e-05, 3.1644202804498845e-05, 2.0173505904006534e-05, 2.3069151517330548e-05, 3.201506388094883e-05, 2.7672214629331413e-05, 2.65749424562183e-05, 3.1644202804498845e-05, ... ]\n",
      "=====================================================\n",
      "Adaboost Iteration 8\n",
      "=====================================================\n",
      "--------------------------------------------------------------------\n",
      "Subtree, depth = 1 (37224 data points).\n",
      "Split on feature grade.A. (32094, 5130)\n",
      "--------------------------------------------------------------------\n",
      "Subtree, depth = 2 (32094 data points).\n",
      "Reached maximum depth. Stopping for now.\n",
      "--------------------------------------------------------------------\n",
      "Subtree, depth = 2 (5130 data points).\n",
      "Reached maximum depth. Stopping for now.\n",
      "is_correct\n",
      "[1L, 1L, 1L, 1L, 1L, 1L, 1L, 1L, 1L, 1L, 1L, 1L, 1L, 1L, 1L, 1L, 1L, 1L, 1L, 0L, 1L, 1L, 1L, 0L, 1L, 1L, 1L, 1L, 1L, 1L, 1L, 1L, 1L, 1L, 1L, 1L, 1L, 0L, 1L, 1L, 0L, 1L, 1L, 1L, 1L, 1L, 1L, 1L, 0L, 1L, 1L, 0L, 1L, 1L, 1L, 0L, 1L, 1L, 1L, 1L, 1L, 1L, 1L, 1L, 1L, 0L, 1L, 0L, 1L, 1L, 1L, 1L, 1L, 0L, 1L, 1L, 1L, 1L, 1L, 1L, 0L, 0L, 1L, 1L, 1L, 0L, 1L, 1L, 1L, 1L, 1L, 1L, 1L, 1L, 1L, 1L, 1L, 1L, 1L, 1L, ... ]\n",
      "21090\n",
      "is_wrong\n",
      "[0L, 0L, 0L, 0L, 0L, 0L, 0L, 0L, 0L, 0L, 0L, 0L, 0L, 0L, 0L, 0L, 0L, 0L, 0L, 1L, 0L, 0L, 0L, 1L, 0L, 0L, 0L, 0L, 0L, 0L, 0L, 0L, 0L, 0L, 0L, 0L, 0L, 1L, 0L, 0L, 1L, 0L, 0L, 0L, 0L, 0L, 0L, 0L, 1L, 0L, 0L, 1L, 0L, 0L, 0L, 1L, 0L, 0L, 0L, 0L, 0L, 0L, 0L, 0L, 0L, 1L, 0L, 1L, 0L, 0L, 0L, 0L, 0L, 1L, 0L, 0L, 0L, 0L, 0L, 0L, 1L, 1L, 0L, 0L, 0L, 1L, 0L, 0L, 0L, 0L, 0L, 0L, 0L, 0L, 0L, 0L, 0L, 0L, 0L, 0L, ... ]\n",
      "16134\n",
      "weighted_error\n",
      "0.485509702974\n",
      "weight\n",
      "0.0289887115004\n",
      "adjustment\n",
      "[0.9714274303628574, 0.9714274303628574, 0.9714274303628574, 0.9714274303628574, 0.9714274303628574, 0.9714274303628574, 0.9714274303628574, 0.9714274303628574, 0.9714274303628574, 0.9714274303628574, 0.9714274303628574, 0.9714274303628574, 0.9714274303628574, 0.9714274303628574, 0.9714274303628574, 0.9714274303628574, 0.9714274303628574, 0.9714274303628574, 0.9714274303628574, 1.0294129738816102, 0.9714274303628574, 0.9714274303628574, 0.9714274303628574, 1.0294129738816102, 0.9714274303628574, 0.9714274303628574, 0.9714274303628574, 0.9714274303628574, 0.9714274303628574, 0.9714274303628574, 0.9714274303628574, 0.9714274303628574, 0.9714274303628574, 0.9714274303628574, 0.9714274303628574, 0.9714274303628574, 0.9714274303628574, 1.0294129738816102, 0.9714274303628574, 0.9714274303628574, 1.0294129738816102, 0.9714274303628574, 0.9714274303628574, 0.9714274303628574, 0.9714274303628574, 0.9714274303628574, 0.9714274303628574, 0.9714274303628574, 1.0294129738816102, 0.9714274303628574, 0.9714274303628574, 1.0294129738816102, 0.9714274303628574, 0.9714274303628574, 0.9714274303628574, 1.0294129738816102, 0.9714274303628574, 0.9714274303628574, 0.9714274303628574, 0.9714274303628574, 0.9714274303628574, 0.9714274303628574, 0.9714274303628574, 0.9714274303628574, 0.9714274303628574, 1.0294129738816102, 0.9714274303628574, 1.0294129738816102, 0.9714274303628574, 0.9714274303628574, 0.9714274303628574, 0.9714274303628574, 0.9714274303628574, 1.0294129738816102, 0.9714274303628574, 0.9714274303628574, 0.9714274303628574, 0.9714274303628574, 0.9714274303628574, 0.9714274303628574, 1.0294129738816102, 1.0294129738816102, 0.9714274303628574, 0.9714274303628574, 0.9714274303628574, 1.0294129738816102, 0.9714274303628574, 0.9714274303628574, 0.9714274303628574, 0.9714274303628574, 0.9714274303628574, 0.9714274303628574, 0.9714274303628574, 0.9714274303628574, 0.9714274303628574, 0.9714274303628574, 0.9714274303628574, 0.9714274303628574, 0.9714274303628574, 0.9714274303628574, ... ]\n",
      "[1.9597097001739e-05, 1.7963817027134377e-05, 2.2410006579131825e-05, 2.6881548349820885e-05, 3.074004661625544e-05, 3.074004661625544e-05, 3.074004661625544e-05, 2.6881548349820885e-05, 3.556435830327831e-05, 2.6881548349820885e-05, 1.72229552895653e-05, 1.6267083741165012e-05, 2.2313733409591696e-05, 1.882002333771017e-05, 3.074004661625544e-05, 2.2313733409591696e-05, 3.074004661625544e-05, 1.72229552895653e-05, 3.110031123877285e-05, 4.5249242096322285e-05, 3.074004661625544e-05, 1.9597097001739e-05, 3.110031123877285e-05, 4.5249242096322285e-05, 2.6881548349820885e-05, 2.2313733409591696e-05, 2.2313733409591696e-05, 2.2313733409591696e-05, 3.074004661625544e-05, 3.556435830327831e-05, 2.6881548349820885e-05, 3.556435830327831e-05, 1.882002333771017e-05, 2.5927010245248413e-05, 3.074004661625544e-05, 3.074004661625544e-05, 3.074004661625544e-05, 4.5249242096322285e-05, 1.9597097001739e-05, 2.2410006579131825e-05, 4.5249242096322285e-05, 2.2410006579131825e-05, 1.6267083741165012e-05, 1.72229552895653e-05, 1.9597097001739e-05, 3.074004661625544e-05, 3.074004661625544e-05, 3.074004661625544e-05, 5.235061218203904e-05, 3.074004661625544e-05, 3.074004661625544e-05, 4.5249242096322285e-05, 3.556435830327831e-05, 2.2410006579131825e-05, 3.074004661625544e-05, 3.2987452027580386e-05, 2.362491267467673e-05, 1.9597097001739e-05, 2.6881548349820885e-05, 2.6881548349820885e-05, 2.2410006579131825e-05, 2.2313733409591696e-05, 3.556435830327831e-05, 2.2313733409591696e-05, 2.2313733409591696e-05, 4.5249242096322285e-05, 2.6881548349820885e-05, 3.2987452027580386e-05, 1.72229552895653e-05, 1.9597097001739e-05, 2.6881548349820885e-05, 3.074004661625544e-05, 1.72229552895653e-05, 5.235061218203904e-05, 2.6881548349820885e-05, 1.72229552895653e-05, 2.2313733409591696e-05, 1.6267083741165012e-05, 3.074004661625544e-05, 2.6881548349820885e-05, 5.235061218203904e-05, 5.235061218203904e-05, 2.5815628062284942e-05, 2.5927010245248413e-05, 1.882002333771017e-05, 5.235061218203904e-05, 2.5815628062284942e-05, 3.074004661625544e-05, 2.5815628062284942e-05, 1.7963817027134377e-05, 2.362491267467673e-05, 1.9597097001739e-05, 2.6881548349820885e-05, 3.074004661625544e-05, 1.9597097001739e-05, 2.2410006579131825e-05, 3.110031123877285e-05, 2.6881548349820885e-05, 2.5815628062284942e-05, 3.074004661625544e-05, ... ]\n",
      "[1.9605331743486973e-05, 1.7971365461170967e-05, 2.2419423311453615e-05, 2.689284403348397e-05, 3.075296364907836e-05, 3.075296364907836e-05, 3.075296364907836e-05, 2.689284403348397e-05, 3.557930252211e-05, 2.689284403348397e-05, 1.7230192411927546e-05, 1.6273919204274127e-05, 2.2323109687723337e-05, 1.882793155145546e-05, 3.075296364907836e-05, 2.2323109687723337e-05, 3.075296364907836e-05, 1.7230192411927546e-05, 3.111337965555469e-05, 4.526825592387652e-05, 3.075296364907836e-05, 1.9605331743486973e-05, 3.111337965555469e-05, 4.526825592387652e-05, 2.689284403348397e-05, 2.2323109687723337e-05, 2.2323109687723337e-05, 2.2323109687723337e-05, 3.075296364907836e-05, 3.557930252211e-05, 2.689284403348397e-05, 3.557930252211e-05, 1.882793155145546e-05, 2.593790482997429e-05, 3.075296364907836e-05, 3.075296364907836e-05, 3.075296364907836e-05, 4.526825592387652e-05, 1.9605331743486973e-05, 2.2419423311453615e-05, 4.526825592387652e-05, 2.2419423311453615e-05, 1.6273919204274127e-05, 1.7230192411927546e-05, 1.9605331743486973e-05, 3.075296364907836e-05, 3.075296364907836e-05, 3.075296364907836e-05, 5.237261002037342e-05, 3.075296364907836e-05, 3.075296364907836e-05, 4.526825592387652e-05, 3.557930252211e-05, 2.2419423311453615e-05, 3.075296364907836e-05, 3.3001313424926466e-05, 2.363483991311807e-05, 1.9605331743486973e-05, 2.689284403348397e-05, 2.689284403348397e-05, 2.2419423311453615e-05, 2.2323109687723337e-05, 3.557930252211e-05, 2.2323109687723337e-05, 2.2323109687723337e-05, 4.526825592387652e-05, 2.689284403348397e-05, 3.3001313424926466e-05, 1.7230192411927546e-05, 1.9605331743486973e-05, 2.689284403348397e-05, 3.075296364907836e-05, 1.7230192411927546e-05, 5.237261002037342e-05, 2.689284403348397e-05, 1.7230192411927546e-05, 2.2323109687723337e-05, 1.6273919204274127e-05, 3.075296364907836e-05, 2.689284403348397e-05, 5.237261002037342e-05, 5.237261002037342e-05, 2.5826475843981168e-05, 2.593790482997429e-05, 1.882793155145546e-05, 5.237261002037342e-05, 2.5826475843981168e-05, 3.075296364907836e-05, 2.5826475843981168e-05, 1.7971365461170967e-05, 2.363483991311807e-05, 1.9605331743486973e-05, 2.689284403348397e-05, 3.075296364907836e-05, 1.9605331743486973e-05, 2.2419423311453615e-05, 3.111337965555469e-05, 2.689284403348397e-05, 2.5826475843981168e-05, 3.075296364907836e-05, ... ]\n",
      "=====================================================\n",
      "Adaboost Iteration 9\n",
      "=====================================================\n",
      "--------------------------------------------------------------------\n",
      "Subtree, depth = 1 (37224 data points).\n",
      "Split on feature emp_length.n/a. (35781, 1443)\n",
      "--------------------------------------------------------------------\n",
      "Subtree, depth = 2 (35781 data points).\n",
      "Reached maximum depth. Stopping for now.\n",
      "--------------------------------------------------------------------\n",
      "Subtree, depth = 2 (1443 data points).\n",
      "Reached maximum depth. Stopping for now.\n",
      "is_correct\n",
      "[0L, 0L, 0L, 0L, 0L, 0L, 0L, 0L, 0L, 0L, 0L, 0L, 0L, 0L, 0L, 0L, 0L, 0L, 0L, 0L, 0L, 0L, 0L, 1L, 0L, 0L, 0L, 0L, 0L, 0L, 0L, 0L, 0L, 0L, 0L, 0L, 0L, 0L, 0L, 0L, 0L, 0L, 0L, 0L, 0L, 0L, 0L, 0L, 0L, 0L, 0L, 0L, 0L, 0L, 0L, 0L, 0L, 0L, 1L, 0L, 0L, 0L, 0L, 0L, 0L, 0L, 0L, 0L, 0L, 0L, 0L, 0L, 0L, 1L, 0L, 0L, 0L, 0L, 0L, 0L, 0L, 0L, 1L, 0L, 0L, 0L, 0L, 0L, 0L, 0L, 0L, 0L, 0L, 0L, 0L, 0L, 0L, 0L, 0L, 0L, ... ]\n",
      "19075\n",
      "is_wrong\n",
      "[1L, 1L, 1L, 1L, 1L, 1L, 1L, 1L, 1L, 1L, 1L, 1L, 1L, 1L, 1L, 1L, 1L, 1L, 1L, 1L, 1L, 1L, 1L, 0L, 1L, 1L, 1L, 1L, 1L, 1L, 1L, 1L, 1L, 1L, 1L, 1L, 1L, 1L, 1L, 1L, 1L, 1L, 1L, 1L, 1L, 1L, 1L, 1L, 1L, 1L, 1L, 1L, 1L, 1L, 1L, 1L, 1L, 1L, 0L, 1L, 1L, 1L, 1L, 1L, 1L, 1L, 1L, 1L, 1L, 1L, 1L, 1L, 1L, 0L, 1L, 1L, 1L, 1L, 1L, 1L, 1L, 1L, 0L, 1L, 1L, 1L, 1L, 1L, 1L, 1L, 1L, 1L, 1L, 1L, 1L, 1L, 1L, 1L, 1L, 1L, ... ]\n",
      "18149\n",
      "weighted_error\n",
      "0.487021661048\n",
      "weight\n",
      "0.0259625096915\n",
      "adjustment\n",
      "[1.0263024713559425, 1.0263024713559425, 1.0263024713559425, 1.0263024713559425, 1.0263024713559425, 1.0263024713559425, 1.0263024713559425, 1.0263024713559425, 1.0263024713559425, 1.0263024713559425, 1.0263024713559425, 1.0263024713559425, 1.0263024713559425, 1.0263024713559425, 1.0263024713559425, 1.0263024713559425, 1.0263024713559425, 1.0263024713559425, 1.0263024713559425, 1.0263024713559425, 1.0263024713559425, 1.0263024713559425, 1.0263024713559425, 0.9743716184165552, 1.0263024713559425, 1.0263024713559425, 1.0263024713559425, 1.0263024713559425, 1.0263024713559425, 1.0263024713559425, 1.0263024713559425, 1.0263024713559425, 1.0263024713559425, 1.0263024713559425, 1.0263024713559425, 1.0263024713559425, 1.0263024713559425, 1.0263024713559425, 1.0263024713559425, 1.0263024713559425, 1.0263024713559425, 1.0263024713559425, 1.0263024713559425, 1.0263024713559425, 1.0263024713559425, 1.0263024713559425, 1.0263024713559425, 1.0263024713559425, 1.0263024713559425, 1.0263024713559425, 1.0263024713559425, 1.0263024713559425, 1.0263024713559425, 1.0263024713559425, 1.0263024713559425, 1.0263024713559425, 1.0263024713559425, 1.0263024713559425, 0.9743716184165552, 1.0263024713559425, 1.0263024713559425, 1.0263024713559425, 1.0263024713559425, 1.0263024713559425, 1.0263024713559425, 1.0263024713559425, 1.0263024713559425, 1.0263024713559425, 1.0263024713559425, 1.0263024713559425, 1.0263024713559425, 1.0263024713559425, 1.0263024713559425, 0.9743716184165552, 1.0263024713559425, 1.0263024713559425, 1.0263024713559425, 1.0263024713559425, 1.0263024713559425, 1.0263024713559425, 1.0263024713559425, 1.0263024713559425, 0.9743716184165552, 1.0263024713559425, 1.0263024713559425, 1.0263024713559425, 1.0263024713559425, 1.0263024713559425, 1.0263024713559425, 1.0263024713559425, 1.0263024713559425, 1.0263024713559425, 1.0263024713559425, 1.0263024713559425, 1.0263024713559425, 1.0263024713559425, 1.0263024713559425, 1.0263024713559425, 1.0263024713559425, 1.0263024713559425, ... ]\n",
      "[2.012100042009379e-05, 1.8444056786440593e-05, 2.3009109550919876e-05, 2.760019229335451e-05, 3.1561842594568585e-05, 3.1561842594568585e-05, 3.1561842594568585e-05, 2.760019229335451e-05, 3.651512610756222e-05, 2.760019229335451e-05, 1.768338905429965e-05, 1.670196349799347e-05, 2.2910262640860245e-05, 1.9323152681779262e-05, 3.1561842594568585e-05, 2.2910262640860245e-05, 3.1561842594568585e-05, 1.768338905429965e-05, 3.193173843273148e-05, 4.645892292864776e-05, 3.1561842594568585e-05, 2.012100042009379e-05, 3.193173843273148e-05, 4.410810378744238e-05, 2.760019229335451e-05, 2.2910262640860245e-05, 2.2910262640860245e-05, 2.2910262640860245e-05, 3.1561842594568585e-05, 3.651512610756222e-05, 2.760019229335451e-05, 3.651512610756222e-05, 1.9323152681779262e-05, 2.662013582879785e-05, 3.1561842594568585e-05, 3.1561842594568585e-05, 3.1561842594568585e-05, 4.645892292864776e-05, 2.012100042009379e-05, 2.3009109550919876e-05, 4.645892292864776e-05, 2.3009109550919876e-05, 1.670196349799347e-05, 1.768338905429965e-05, 2.012100042009379e-05, 3.1561842594568585e-05, 3.1561842594568585e-05, 3.1561842594568585e-05, 5.375013909527024e-05, 3.1561842594568585e-05, 3.1561842594568585e-05, 4.645892292864776e-05, 3.651512610756222e-05, 2.3009109550919876e-05, 3.1561842594568585e-05, 3.3869329525994074e-05, 2.4256494612935146e-05, 2.012100042009379e-05, 2.6203623964729775e-05, 2.760019229335451e-05, 2.3009109550919876e-05, 2.2910262640860245e-05, 3.651512610756222e-05, 2.2910262640860245e-05, 2.2910262640860245e-05, 4.645892292864776e-05, 2.760019229335451e-05, 3.3869329525994074e-05, 1.768338905429965e-05, 2.012100042009379e-05, 2.760019229335451e-05, 3.1561842594568585e-05, 1.768338905429965e-05, 5.1030384786250346e-05, 2.760019229335451e-05, 1.768338905429965e-05, 2.2910262640860245e-05, 1.670196349799347e-05, 3.1561842594568585e-05, 2.760019229335451e-05, 5.375013909527024e-05, 5.375013909527024e-05, 2.5164585066096e-05, 2.662013582879785e-05, 1.9323152681779262e-05, 5.375013909527024e-05, 2.6505775985092424e-05, 3.1561842594568585e-05, 2.6505775985092424e-05, 1.8444056786440593e-05, 2.4256494612935146e-05, 2.012100042009379e-05, 2.760019229335451e-05, 3.1561842594568585e-05, 2.012100042009379e-05, 2.3009109550919876e-05, 3.193173843273148e-05, 2.760019229335451e-05, 2.6505775985092424e-05, 3.1561842594568585e-05, ... ]\n",
      "[2.012778210039538e-05, 1.8450273261465618e-05, 2.3016864653635486e-05, 2.760949479703167e-05, 3.157248035222162e-05, 3.157248035222162e-05, 3.157248035222162e-05, 2.760949479703167e-05, 3.652743334409438e-05, 2.760949479703167e-05, 1.7689349150155283e-05, 1.670759280938393e-05, 2.291798442773028e-05, 1.93296654515805e-05, 3.157248035222162e-05, 2.291798442773028e-05, 3.157248035222162e-05, 1.7689349150155283e-05, 3.1942500861885285e-05, 4.647458167105024e-05, 3.157248035222162e-05, 2.012778210039538e-05, 3.1942500861885285e-05, 4.4122970198274376e-05, 2.760949479703167e-05, 2.291798442773028e-05, 2.291798442773028e-05, 2.291798442773028e-05, 3.157248035222162e-05, 3.652743334409438e-05, 2.760949479703167e-05, 3.652743334409438e-05, 1.93296654515805e-05, 2.662910800945521e-05, 3.157248035222162e-05, 3.157248035222162e-05, 3.157248035222162e-05, 4.647458167105024e-05, 2.012778210039538e-05, 2.3016864653635486e-05, 4.647458167105024e-05, 2.3016864653635486e-05, 1.670759280938393e-05, 1.7689349150155283e-05, 2.012778210039538e-05, 3.157248035222162e-05, 3.157248035222162e-05, 3.157248035222162e-05, 5.376825530479759e-05, 3.157248035222162e-05, 3.157248035222162e-05, 4.647458167105024e-05, 3.652743334409438e-05, 2.3016864653635486e-05, 3.157248035222162e-05, 3.388074501031787e-05, 2.426467014040733e-05, 2.012778210039538e-05, 2.621245576219321e-05, 2.760949479703167e-05, 2.3016864653635486e-05, 2.291798442773028e-05, 3.652743334409438e-05, 2.291798442773028e-05, 2.291798442773028e-05, 4.647458167105024e-05, 2.760949479703167e-05, 3.388074501031787e-05, 1.7689349150155283e-05, 2.012778210039538e-05, 2.760949479703167e-05, 3.157248035222162e-05, 1.7689349150155283e-05, 5.104758431649547e-05, 2.760949479703167e-05, 1.7689349150155283e-05, 2.291798442773028e-05, 1.670759280938393e-05, 3.157248035222162e-05, 2.760949479703167e-05, 5.376825530479759e-05, 5.376825530479759e-05, 2.517306666081184e-05, 2.662910800945521e-05, 1.93296654515805e-05, 5.376825530479759e-05, 2.6514709621349248e-05, 3.157248035222162e-05, 2.6514709621349248e-05, 1.8450273261465618e-05, 2.426467014040733e-05, 2.012778210039538e-05, 2.760949479703167e-05, 3.157248035222162e-05, 2.012778210039538e-05, 2.3016864653635486e-05, 3.1942500861885285e-05, 2.760949479703167e-05, 2.6514709621349248e-05, 3.157248035222162e-05, ... ]\n"
     ]
    }
   ],
   "source": [
    "stump_weights, tree_stumps = adaboost_with_tree_stumps(train_data, features, \n",
    "                                target, num_tree_stumps=10)"
   ]
  },
  {
   "cell_type": "markdown",
   "metadata": {},
   "source": [
    "## Making predictions\n",
    "\n",
    "Recall from the lecture that in order to make predictions, we use the following formula:\n",
    "$$\n",
    "\\hat{y} = sign\\left(\\sum_{t=1}^T \\hat{w}_t f_t(x)\\right)\n",
    "$$\n",
    "\n",
    "We need to do the following things:\n",
    "- Compute the predictions $f_t(x)$ using the $t$-th decision tree\n",
    "- Compute $\\hat{w}_t f_t(x)$ by multiplying the `stump_weights` with the predictions $f_t(x)$ from the decision trees\n",
    "- Sum the weighted predictions over each stump in the ensemble.\n",
    "\n",
    "Complete the following skeleton for making predictions:"
   ]
  },
  {
   "cell_type": "code",
   "execution_count": 61,
   "metadata": {
    "collapsed": false
   },
   "outputs": [],
   "source": [
    "def predict_adaboost(stump_weights, tree_stumps, data):\n",
    "    scores = graphlab.SArray([0.]*len(data))\n",
    "    \n",
    "    for i, tree_stump in enumerate(tree_stumps):\n",
    "        predictions = data.apply(lambda x: classify(tree_stump, x))\n",
    "        \n",
    "        # Accumulate predictions on scores array\n",
    "        # YOUR CODE HERE\n",
    "        scores=scores+predictions*stump_weights[i]\n",
    "        \n",
    "    return scores.apply(lambda score : +1 if score > 0 else -1)"
   ]
  },
  {
   "cell_type": "code",
   "execution_count": 62,
   "metadata": {
    "collapsed": false
   },
   "outputs": [
    {
     "name": "stdout",
     "output_type": "stream",
     "text": [
      "Accuracy of 10-component ensemble = 0.620314519604\n"
     ]
    }
   ],
   "source": [
    "predictions = predict_adaboost(stump_weights, tree_stumps, test_data)\n",
    "accuracy = graphlab.evaluation.accuracy(test_data[target], predictions)\n",
    "print 'Accuracy of 10-component ensemble = %s' % accuracy "
   ]
  },
  {
   "cell_type": "markdown",
   "metadata": {},
   "source": [
    "Now, let us take a quick look what the `stump_weights` look like at the end of each iteration of the 10-stump ensemble:"
   ]
  },
  {
   "cell_type": "code",
   "execution_count": 63,
   "metadata": {
    "collapsed": false
   },
   "outputs": [
    {
     "data": {
      "text/plain": [
       "[0.15802933659263743,\n",
       " 0.1768236329364191,\n",
       " 0.09311888971129693,\n",
       " 0.07288885525840554,\n",
       " 0.06706306914118143,\n",
       " 0.06456916961644447,\n",
       " 0.05456055779178564,\n",
       " 0.04351093673362621,\n",
       " 0.02898871150041245,\n",
       " 0.02596250969152032]"
      ]
     },
     "execution_count": 63,
     "metadata": {},
     "output_type": "execute_result"
    }
   ],
   "source": [
    "stump_weights"
   ]
  },
  {
   "cell_type": "markdown",
   "metadata": {},
   "source": [
    "**Quiz Question:** Are the weights monotonically decreasing, monotonically increasing, or neither?\n",
    "\n",
    "**Reminder**: Stump weights ($\\mathbf{\\hat{w}}$) tell you how important each stump is while making predictions with the entire boosted ensemble."
   ]
  },
  {
   "cell_type": "markdown",
   "metadata": {},
   "source": [
    "# Performance plots\n",
    "\n",
    "In this section, we will try to reproduce some of the performance plots dicussed in the lecture.\n",
    "\n",
    "### How does accuracy change with adding stumps to the ensemble?\n",
    "\n",
    "We will now train an ensemble with:\n",
    "* `train_data`\n",
    "* `features`\n",
    "* `target`\n",
    "* `num_tree_stumps = 30`\n",
    "\n",
    "Once we are done with this, we will then do the following:\n",
    "* Compute the classification error at the end of each iteration.\n",
    "* Plot a curve of classification error vs iteration.\n",
    "\n",
    "First, lets train the model."
   ]
  },
  {
   "cell_type": "code",
   "execution_count": 64,
   "metadata": {
    "collapsed": false,
    "scrolled": true
   },
   "outputs": [
    {
     "name": "stdout",
     "output_type": "stream",
     "text": [
      "=====================================================\n",
      "Adaboost Iteration 0\n",
      "=====================================================\n",
      "--------------------------------------------------------------------\n",
      "Subtree, depth = 1 (37224 data points).\n",
      "Split on feature term. 36 months. (9223, 28001)\n",
      "--------------------------------------------------------------------\n",
      "Subtree, depth = 2 (9223 data points).\n",
      "Reached maximum depth. Stopping for now.\n",
      "--------------------------------------------------------------------\n",
      "Subtree, depth = 2 (28001 data points).\n",
      "Reached maximum depth. Stopping for now.\n",
      "=====================================================\n",
      "Adaboost Iteration 1\n",
      "=====================================================\n",
      "--------------------------------------------------------------------\n",
      "Subtree, depth = 1 (37224 data points).\n",
      "Split on feature grade.A. (32094, 5130)\n",
      "--------------------------------------------------------------------\n",
      "Subtree, depth = 2 (32094 data points).\n",
      "Reached maximum depth. Stopping for now.\n",
      "--------------------------------------------------------------------\n",
      "Subtree, depth = 2 (5130 data points).\n",
      "Reached maximum depth. Stopping for now.\n",
      "=====================================================\n",
      "Adaboost Iteration 2\n",
      "=====================================================\n",
      "--------------------------------------------------------------------\n",
      "Subtree, depth = 1 (37224 data points).\n",
      "Split on feature grade.D. (30465, 6759)\n",
      "--------------------------------------------------------------------\n",
      "Subtree, depth = 2 (30465 data points).\n",
      "Reached maximum depth. Stopping for now.\n",
      "--------------------------------------------------------------------\n",
      "Subtree, depth = 2 (6759 data points).\n",
      "Reached maximum depth. Stopping for now.\n",
      "=====================================================\n",
      "Adaboost Iteration 3\n",
      "=====================================================\n",
      "--------------------------------------------------------------------\n",
      "Subtree, depth = 1 (37224 data points).\n",
      "Split on feature home_ownership.MORTGAGE. (19846, 17378)\n",
      "--------------------------------------------------------------------\n",
      "Subtree, depth = 2 (19846 data points).\n",
      "Reached maximum depth. Stopping for now.\n",
      "--------------------------------------------------------------------\n",
      "Subtree, depth = 2 (17378 data points).\n",
      "Reached maximum depth. Stopping for now.\n",
      "=====================================================\n",
      "Adaboost Iteration 4\n",
      "=====================================================\n",
      "--------------------------------------------------------------------\n",
      "Subtree, depth = 1 (37224 data points).\n",
      "Split on feature grade.B. (26858, 10366)\n",
      "--------------------------------------------------------------------\n",
      "Subtree, depth = 2 (26858 data points).\n",
      "Reached maximum depth. Stopping for now.\n",
      "--------------------------------------------------------------------\n",
      "Subtree, depth = 2 (10366 data points).\n",
      "Reached maximum depth. Stopping for now.\n",
      "=====================================================\n",
      "Adaboost Iteration 5\n",
      "=====================================================\n",
      "--------------------------------------------------------------------\n",
      "Subtree, depth = 1 (37224 data points).\n",
      "Split on feature grade.E. (33815, 3409)\n",
      "--------------------------------------------------------------------\n",
      "Subtree, depth = 2 (33815 data points).\n",
      "Reached maximum depth. Stopping for now.\n",
      "--------------------------------------------------------------------\n",
      "Subtree, depth = 2 (3409 data points).\n",
      "Reached maximum depth. Stopping for now.\n",
      "=====================================================\n",
      "Adaboost Iteration 6\n",
      "=====================================================\n",
      "--------------------------------------------------------------------\n",
      "Subtree, depth = 1 (37224 data points).\n",
      "Split on feature grade.A. (32094, 5130)\n",
      "--------------------------------------------------------------------\n",
      "Subtree, depth = 2 (32094 data points).\n",
      "Reached maximum depth. Stopping for now.\n",
      "--------------------------------------------------------------------\n",
      "Subtree, depth = 2 (5130 data points).\n",
      "Reached maximum depth. Stopping for now.\n",
      "=====================================================\n",
      "Adaboost Iteration 7\n",
      "=====================================================\n",
      "--------------------------------------------------------------------\n",
      "Subtree, depth = 1 (37224 data points).\n",
      "Split on feature grade.F. (35512, 1712)\n",
      "--------------------------------------------------------------------\n",
      "Subtree, depth = 2 (35512 data points).\n",
      "Reached maximum depth. Stopping for now.\n",
      "--------------------------------------------------------------------\n",
      "Subtree, depth = 2 (1712 data points).\n",
      "Reached maximum depth. Stopping for now.\n",
      "=====================================================\n",
      "Adaboost Iteration 8\n",
      "=====================================================\n",
      "--------------------------------------------------------------------\n",
      "Subtree, depth = 1 (37224 data points).\n",
      "Split on feature grade.A. (32094, 5130)\n",
      "--------------------------------------------------------------------\n",
      "Subtree, depth = 2 (32094 data points).\n",
      "Reached maximum depth. Stopping for now.\n",
      "--------------------------------------------------------------------\n",
      "Subtree, depth = 2 (5130 data points).\n",
      "Reached maximum depth. Stopping for now.\n",
      "=====================================================\n",
      "Adaboost Iteration 9\n",
      "=====================================================\n",
      "--------------------------------------------------------------------\n",
      "Subtree, depth = 1 (37224 data points).\n",
      "Split on feature emp_length.n/a. (35781, 1443)\n",
      "--------------------------------------------------------------------\n",
      "Subtree, depth = 2 (35781 data points).\n",
      "Reached maximum depth. Stopping for now.\n",
      "--------------------------------------------------------------------\n",
      "Subtree, depth = 2 (1443 data points).\n",
      "Reached maximum depth. Stopping for now.\n",
      "=====================================================\n",
      "Adaboost Iteration 10\n",
      "=====================================================\n",
      "--------------------------------------------------------------------\n",
      "Subtree, depth = 1 (37224 data points).\n",
      "Split on feature grade.D. (30465, 6759)\n",
      "--------------------------------------------------------------------\n",
      "Subtree, depth = 2 (30465 data points).\n",
      "Reached maximum depth. Stopping for now.\n",
      "--------------------------------------------------------------------\n",
      "Subtree, depth = 2 (6759 data points).\n",
      "Reached maximum depth. Stopping for now.\n",
      "=====================================================\n",
      "Adaboost Iteration 11\n",
      "=====================================================\n",
      "--------------------------------------------------------------------\n",
      "Subtree, depth = 1 (37224 data points).\n",
      "Split on feature grade.B. (26858, 10366)\n",
      "--------------------------------------------------------------------\n",
      "Subtree, depth = 2 (26858 data points).\n",
      "Reached maximum depth. Stopping for now.\n",
      "--------------------------------------------------------------------\n",
      "Subtree, depth = 2 (10366 data points).\n",
      "Reached maximum depth. Stopping for now.\n",
      "=====================================================\n",
      "Adaboost Iteration 12\n",
      "=====================================================\n",
      "--------------------------------------------------------------------\n",
      "Subtree, depth = 1 (37224 data points).\n",
      "Split on feature emp_length.n/a. (35781, 1443)\n",
      "--------------------------------------------------------------------\n",
      "Subtree, depth = 2 (35781 data points).\n",
      "Reached maximum depth. Stopping for now.\n",
      "--------------------------------------------------------------------\n",
      "Subtree, depth = 2 (1443 data points).\n",
      "Reached maximum depth. Stopping for now.\n",
      "=====================================================\n",
      "Adaboost Iteration 13\n",
      "=====================================================\n",
      "--------------------------------------------------------------------\n",
      "Subtree, depth = 1 (37224 data points).\n",
      "Split on feature emp_length.4 years. (34593, 2631)\n",
      "--------------------------------------------------------------------\n",
      "Subtree, depth = 2 (34593 data points).\n",
      "Reached maximum depth. Stopping for now.\n",
      "--------------------------------------------------------------------\n",
      "Subtree, depth = 2 (2631 data points).\n",
      "Reached maximum depth. Stopping for now.\n",
      "=====================================================\n",
      "Adaboost Iteration 14\n",
      "=====================================================\n",
      "--------------------------------------------------------------------\n",
      "Subtree, depth = 1 (37224 data points).\n",
      "Split on feature emp_length.n/a. (35781, 1443)\n",
      "--------------------------------------------------------------------\n",
      "Subtree, depth = 2 (35781 data points).\n",
      "Reached maximum depth. Stopping for now.\n",
      "--------------------------------------------------------------------\n",
      "Subtree, depth = 2 (1443 data points).\n",
      "Reached maximum depth. Stopping for now.\n",
      "=====================================================\n",
      "Adaboost Iteration 15\n",
      "=====================================================\n",
      "--------------------------------------------------------------------\n",
      "Subtree, depth = 1 (37224 data points).\n",
      "Split on feature grade.C. (27812, 9412)\n",
      "--------------------------------------------------------------------\n",
      "Subtree, depth = 2 (27812 data points).\n",
      "Reached maximum depth. Stopping for now.\n",
      "--------------------------------------------------------------------\n",
      "Subtree, depth = 2 (9412 data points).\n",
      "Reached maximum depth. Stopping for now.\n",
      "=====================================================\n",
      "Adaboost Iteration 16\n",
      "=====================================================\n",
      "--------------------------------------------------------------------\n",
      "Subtree, depth = 1 (37224 data points).\n",
      "Split on feature grade.A. (32094, 5130)\n",
      "--------------------------------------------------------------------\n",
      "Subtree, depth = 2 (32094 data points).\n",
      "Reached maximum depth. Stopping for now.\n",
      "--------------------------------------------------------------------\n",
      "Subtree, depth = 2 (5130 data points).\n",
      "Reached maximum depth. Stopping for now.\n",
      "=====================================================\n",
      "Adaboost Iteration 17\n",
      "=====================================================\n",
      "--------------------------------------------------------------------\n",
      "Subtree, depth = 1 (37224 data points).\n",
      "Split on feature grade.F. (35512, 1712)\n",
      "--------------------------------------------------------------------\n",
      "Subtree, depth = 2 (35512 data points).\n",
      "Reached maximum depth. Stopping for now.\n",
      "--------------------------------------------------------------------\n",
      "Subtree, depth = 2 (1712 data points).\n",
      "Reached maximum depth. Stopping for now.\n",
      "=====================================================\n",
      "Adaboost Iteration 18\n",
      "=====================================================\n",
      "--------------------------------------------------------------------\n",
      "Subtree, depth = 1 (37224 data points).\n",
      "Split on feature term. 36 months. (9223, 28001)\n",
      "--------------------------------------------------------------------\n",
      "Subtree, depth = 2 (9223 data points).\n",
      "Reached maximum depth. Stopping for now.\n",
      "--------------------------------------------------------------------\n",
      "Subtree, depth = 2 (28001 data points).\n",
      "Reached maximum depth. Stopping for now.\n",
      "=====================================================\n",
      "Adaboost Iteration 19\n",
      "=====================================================\n",
      "--------------------------------------------------------------------\n",
      "Subtree, depth = 1 (37224 data points).\n",
      "Split on feature grade.B. (26858, 10366)\n",
      "--------------------------------------------------------------------\n",
      "Subtree, depth = 2 (26858 data points).\n",
      "Reached maximum depth. Stopping for now.\n",
      "--------------------------------------------------------------------\n",
      "Subtree, depth = 2 (10366 data points).\n",
      "Reached maximum depth. Stopping for now.\n",
      "=====================================================\n",
      "Adaboost Iteration 20\n",
      "=====================================================\n",
      "--------------------------------------------------------------------\n",
      "Subtree, depth = 1 (37224 data points).\n",
      "Split on feature emp_length.n/a. (35781, 1443)\n",
      "--------------------------------------------------------------------\n",
      "Subtree, depth = 2 (35781 data points).\n",
      "Reached maximum depth. Stopping for now.\n",
      "--------------------------------------------------------------------\n",
      "Subtree, depth = 2 (1443 data points).\n",
      "Reached maximum depth. Stopping for now.\n",
      "=====================================================\n",
      "Adaboost Iteration 21\n",
      "=====================================================\n",
      "--------------------------------------------------------------------\n",
      "Subtree, depth = 1 (37224 data points).\n",
      "Split on feature grade.D. (30465, 6759)\n",
      "--------------------------------------------------------------------\n",
      "Subtree, depth = 2 (30465 data points).\n",
      "Reached maximum depth. Stopping for now.\n",
      "--------------------------------------------------------------------\n",
      "Subtree, depth = 2 (6759 data points).\n",
      "Reached maximum depth. Stopping for now.\n",
      "=====================================================\n",
      "Adaboost Iteration 22\n",
      "=====================================================\n",
      "--------------------------------------------------------------------\n",
      "Subtree, depth = 1 (37224 data points).\n",
      "Split on feature grade.F. (35512, 1712)\n",
      "--------------------------------------------------------------------\n",
      "Subtree, depth = 2 (35512 data points).\n",
      "Reached maximum depth. Stopping for now.\n",
      "--------------------------------------------------------------------\n",
      "Subtree, depth = 2 (1712 data points).\n",
      "Reached maximum depth. Stopping for now.\n",
      "=====================================================\n",
      "Adaboost Iteration 23\n",
      "=====================================================\n",
      "--------------------------------------------------------------------\n",
      "Subtree, depth = 1 (37224 data points).\n",
      "Split on feature grade.A. (32094, 5130)\n",
      "--------------------------------------------------------------------\n",
      "Subtree, depth = 2 (32094 data points).\n",
      "Reached maximum depth. Stopping for now.\n",
      "--------------------------------------------------------------------\n",
      "Subtree, depth = 2 (5130 data points).\n",
      "Reached maximum depth. Stopping for now.\n",
      "=====================================================\n",
      "Adaboost Iteration 24\n",
      "=====================================================\n",
      "--------------------------------------------------------------------\n",
      "Subtree, depth = 1 (37224 data points).\n",
      "Split on feature emp_length.n/a. (35781, 1443)\n",
      "--------------------------------------------------------------------\n",
      "Subtree, depth = 2 (35781 data points).\n",
      "Reached maximum depth. Stopping for now.\n",
      "--------------------------------------------------------------------\n",
      "Subtree, depth = 2 (1443 data points).\n",
      "Reached maximum depth. Stopping for now.\n",
      "=====================================================\n",
      "Adaboost Iteration 25\n",
      "=====================================================\n",
      "--------------------------------------------------------------------\n",
      "Subtree, depth = 1 (37224 data points).\n",
      "Split on feature emp_length.2 years. (33652, 3572)\n",
      "--------------------------------------------------------------------\n",
      "Subtree, depth = 2 (33652 data points).\n",
      "Reached maximum depth. Stopping for now.\n",
      "--------------------------------------------------------------------\n",
      "Subtree, depth = 2 (3572 data points).\n",
      "Reached maximum depth. Stopping for now.\n",
      "=====================================================\n",
      "Adaboost Iteration 26\n",
      "=====================================================\n",
      "--------------------------------------------------------------------\n",
      "Subtree, depth = 1 (37224 data points).\n",
      "Split on feature grade.F. (35512, 1712)\n",
      "--------------------------------------------------------------------\n",
      "Subtree, depth = 2 (35512 data points).\n",
      "Reached maximum depth. Stopping for now.\n",
      "--------------------------------------------------------------------\n",
      "Subtree, depth = 2 (1712 data points).\n",
      "Reached maximum depth. Stopping for now.\n",
      "=====================================================\n",
      "Adaboost Iteration 27\n",
      "=====================================================\n",
      "--------------------------------------------------------------------\n",
      "Subtree, depth = 1 (37224 data points).\n",
      "Split on feature home_ownership.OWN. (34149, 3075)\n",
      "--------------------------------------------------------------------\n",
      "Subtree, depth = 2 (34149 data points).\n",
      "Reached maximum depth. Stopping for now.\n",
      "--------------------------------------------------------------------\n",
      "Subtree, depth = 2 (3075 data points).\n",
      "Reached maximum depth. Stopping for now.\n",
      "=====================================================\n",
      "Adaboost Iteration 28\n",
      "=====================================================\n",
      "--------------------------------------------------------------------\n",
      "Subtree, depth = 1 (37224 data points).\n",
      "Split on feature emp_length.n/a. (35781, 1443)\n",
      "--------------------------------------------------------------------\n",
      "Subtree, depth = 2 (35781 data points).\n",
      "Reached maximum depth. Stopping for now.\n",
      "--------------------------------------------------------------------\n",
      "Subtree, depth = 2 (1443 data points).\n",
      "Reached maximum depth. Stopping for now.\n",
      "=====================================================\n",
      "Adaboost Iteration 29\n",
      "=====================================================\n",
      "--------------------------------------------------------------------\n",
      "Subtree, depth = 1 (37224 data points).\n",
      "Split on feature grade.C. (27812, 9412)\n",
      "--------------------------------------------------------------------\n",
      "Subtree, depth = 2 (27812 data points).\n",
      "Reached maximum depth. Stopping for now.\n",
      "--------------------------------------------------------------------\n",
      "Subtree, depth = 2 (9412 data points).\n",
      "Reached maximum depth. Stopping for now.\n"
     ]
    }
   ],
   "source": [
    "# this may take a while... \n",
    "stump_weights, tree_stumps = adaboost_with_tree_stumps(train_data, \n",
    "                                 features, target, num_tree_stumps=30)"
   ]
  },
  {
   "cell_type": "markdown",
   "metadata": {},
   "source": [
    "### Computing training error at the end of each iteration\n",
    "\n",
    "Now, we will compute the classification error on the **train_data** and see how it is reduced as trees are added."
   ]
  },
  {
   "cell_type": "code",
   "execution_count": 65,
   "metadata": {
    "collapsed": false
   },
   "outputs": [
    {
     "name": "stdout",
     "output_type": "stream",
     "text": [
      "Iteration 1, training error = 0.421636578551\n",
      "Iteration 2, training error = 0.433430045132\n",
      "Iteration 3, training error = 0.400037610144\n",
      "Iteration 4, training error = 0.400037610144\n",
      "Iteration 5, training error = 0.384724908661\n",
      "Iteration 6, training error = 0.384617451107\n",
      "Iteration 7, training error = 0.382763808296\n",
      "Iteration 8, training error = 0.384617451107\n",
      "Iteration 9, training error = 0.382763808296\n",
      "Iteration 10, training error = 0.384483129164\n",
      "Iteration 11, training error = 0.382736943907\n",
      "Iteration 12, training error = 0.381447453256\n",
      "Iteration 13, training error = 0.381528046422\n",
      "Iteration 14, training error = 0.380560928433\n",
      "Iteration 15, training error = 0.380507199656\n",
      "Iteration 16, training error = 0.378223726628\n",
      "Iteration 17, training error = 0.378277455405\n",
      "Iteration 18, training error = 0.378411777348\n",
      "Iteration 19, training error = 0.378062540297\n",
      "Iteration 20, training error = 0.378761014399\n",
      "Iteration 21, training error = 0.379566946056\n",
      "Iteration 22, training error = 0.378895336342\n",
      "Iteration 23, training error = 0.378895336342\n",
      "Iteration 24, training error = 0.378761014399\n",
      "Iteration 25, training error = 0.378895336342\n",
      "Iteration 26, training error = 0.378975929508\n",
      "Iteration 27, training error = 0.379110251451\n",
      "Iteration 28, training error = 0.378922200731\n",
      "Iteration 29, training error = 0.379029658285\n",
      "Iteration 30, training error = 0.378734150011\n"
     ]
    }
   ],
   "source": [
    "error_all = []\n",
    "for n in xrange(1, 31):\n",
    "    predictions = predict_adaboost(stump_weights[:n], tree_stumps[:n], train_data)\n",
    "    error = 1.0 - graphlab.evaluation.accuracy(train_data[target], predictions)\n",
    "    error_all.append(error)\n",
    "    print \"Iteration %s, training error = %s\" % (n, error_all[n-1])"
   ]
  },
  {
   "cell_type": "markdown",
   "metadata": {},
   "source": [
    "### Visualizing training error vs number of iterations\n",
    "\n",
    "We have provided you with a simple code snippet that plots classification error with the number of iterations. "
   ]
  },
  {
   "cell_type": "code",
   "execution_count": 66,
   "metadata": {
    "collapsed": false
   },
   "outputs": [
    {
     "data": {
      "image/png": "[encoded data removed]",
      "text/plain": [
       "<matplotlib.figure.Figure at 0x18704b38>"
      ]
     },
     "metadata": {},
     "output_type": "display_data"
    }
   ],
   "source": [
    "plt.rcParams['figure.figsize'] = 7, 5\n",
    "plt.plot(range(1,31), error_all, '-', linewidth=4.0, label='Training error')\n",
    "plt.title('Performance of Adaboost ensemble')\n",
    "plt.xlabel('# of iterations')\n",
    "plt.ylabel('Classification error')\n",
    "plt.legend(loc='best', prop={'size':15})\n",
    "\n",
    "plt.rcParams.update({'font.size': 16})"
   ]
  },
  {
   "cell_type": "markdown",
   "metadata": {},
   "source": [
    "**Quiz Question**: Which of the following best describes a **general trend in accuracy** as we add more and more components? Answer based on the 30 components learned so far.\n",
    "\n",
    "1. Training error goes down monotonically, i.e. the training error reduces with each iteration but never increases.\n",
    "2. Training error goes down in general, with some ups and downs in the middle.\n",
    "3. Training error goes up in general, with some ups and downs in the middle.\n",
    "4. Training error goes down in the beginning, achieves the best error, and then goes up sharply.\n",
    "5. None of the above\n",
    "\n",
    "\n",
    "### Evaluation on the test data\n",
    "\n",
    "Performing well on the training data is cheating, so lets make sure it works on the `test_data` as well. Here, we will compute the classification error on the `test_data` at the end of each iteration."
   ]
  },
  {
   "cell_type": "code",
   "execution_count": 67,
   "metadata": {
    "collapsed": false
   },
   "outputs": [
    {
     "name": "stdout",
     "output_type": "stream",
     "text": [
      "Iteration 1, test error = 0.42330891857\n",
      "Iteration 2, test error = 0.428479103835\n",
      "Iteration 3, test error = 0.398104265403\n",
      "Iteration 4, test error = 0.398104265403\n",
      "Iteration 5, test error = 0.379900904782\n",
      "Iteration 6, test error = 0.380008616975\n",
      "Iteration 7, test error = 0.379254631624\n",
      "Iteration 8, test error = 0.380008616975\n",
      "Iteration 9, test error = 0.379254631624\n",
      "Iteration 10, test error = 0.379685480396\n",
      "Iteration 11, test error = 0.379254631624\n",
      "Iteration 12, test error = 0.377962085308\n",
      "Iteration 13, test error = 0.379254631624\n",
      "Iteration 14, test error = 0.377854373115\n",
      "Iteration 15, test error = 0.378500646273\n",
      "Iteration 16, test error = 0.377854373115\n",
      "Iteration 17, test error = 0.377962085308\n",
      "Iteration 18, test error = 0.377854373115\n",
      "Iteration 19, test error = 0.378177509694\n",
      "Iteration 20, test error = 0.376884963378\n",
      "Iteration 21, test error = 0.377531236536\n",
      "Iteration 22, test error = 0.376777251185\n",
      "Iteration 23, test error = 0.376777251185\n",
      "Iteration 24, test error = 0.376884963378\n",
      "Iteration 25, test error = 0.376777251185\n",
      "Iteration 26, test error = 0.376561826799\n",
      "Iteration 27, test error = 0.376454114606\n",
      "Iteration 28, test error = 0.376992675571\n",
      "Iteration 29, test error = 0.376777251185\n",
      "Iteration 30, test error = 0.376777251185\n"
     ]
    }
   ],
   "source": [
    "test_error_all = []\n",
    "for n in xrange(1, 31):\n",
    "    predictions = predict_adaboost(stump_weights[:n], tree_stumps[:n], test_data)\n",
    "    error = 1.0 - graphlab.evaluation.accuracy(test_data[target], predictions)\n",
    "    test_error_all.append(error)\n",
    "    print \"Iteration %s, test error = %s\" % (n, test_error_all[n-1])"
   ]
  },
  {
   "cell_type": "markdown",
   "metadata": {},
   "source": [
    "### Visualize both the training and test errors\n",
    "\n",
    "Now, let us plot the training & test error with the number of iterations."
   ]
  },
  {
   "cell_type": "code",
   "execution_count": 68,
   "metadata": {
    "collapsed": false
   },
   "outputs": [
    {
     "data": {
      "image/png": "[encoded data removed]",
      "text/plain": [
       "<matplotlib.figure.Figure at 0x2b9cb390>"
      ]
     },
     "metadata": {},
     "output_type": "display_data"
    }
   ],
   "source": [
    "plt.rcParams['figure.figsize'] = 7, 5\n",
    "plt.plot(range(1,31), error_all, '-', linewidth=4.0, label='Training error')\n",
    "plt.plot(range(1,31), test_error_all, '-', linewidth=4.0, label='Test error')\n",
    "\n",
    "plt.title('Performance of Adaboost ensemble')\n",
    "plt.xlabel('# of iterations')\n",
    "plt.ylabel('Classification error')\n",
    "plt.rcParams.update({'font.size': 16})\n",
    "plt.legend(loc='best', prop={'size':15})\n",
    "plt.tight_layout()"
   ]
  },
  {
   "cell_type": "markdown",
   "metadata": {},
   "source": [
    "** Quiz Question:** From this plot (with 30 trees), is there massive overfitting as the # of iterations increases?"
   ]
  },
  {
   "cell_type": "code",
   "execution_count": null,
   "metadata": {
    "collapsed": true
   },
   "outputs": [],
   "source": []
  }
 ],
 "metadata": {
  "kernelspec": {
   "display_name": "Python 2",
   "language": "python",
   "name": "python2"
  },
  "language_info": {
   "codemirror_mode": {
    "name": "ipython",
    "version": 2
   },
   "file_extension": ".py",
   "mimetype": "text/x-python",
   "name": "python",
   "nbconvert_exporter": "python",
   "pygments_lexer": "ipython2",
   "version": "2.7.12"
  }
 },
 "nbformat": 4,
 "nbformat_minor": 0
}
